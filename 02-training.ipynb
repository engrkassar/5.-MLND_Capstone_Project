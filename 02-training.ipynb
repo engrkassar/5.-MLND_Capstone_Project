{
 "cells": [
  {
   "cell_type": "markdown",
   "metadata": {
    "colab_type": "text",
    "id": "4cbgwZWWfWpp"
   },
   "source": [
    "# XGBoost Model Training"
   ]
  },
  {
   "cell_type": "markdown",
   "metadata": {},
   "source": [
    "After having the data processed, we are now ready to use it in training our model."
   ]
  },
  {
   "cell_type": "code",
   "execution_count": 1,
   "metadata": {
    "colab": {
     "base_uri": "https://localhost:8080/",
     "height": 35
    },
    "colab_type": "code",
    "executionInfo": {
     "elapsed": 27835,
     "status": "ok",
     "timestamp": 1600549871509,
     "user": {
      "displayName": "Lokesh Gupta",
      "photoUrl": "https://lh3.googleusercontent.com/a-/AOh14Gji9BLG_yBHzfpNsVF1-hq2O8seojfrBmtSDr9g=s64",
      "userId": "00605890011976979562"
     },
     "user_tz": -330
    },
    "id": "_ikfKYQ1l0kG",
    "outputId": "107ba458-f057-42f2-d817-e1c9e0eb92e4"
   },
   "outputs": [],
   "source": [
    "\n",
    "import sys\n",
    "import os\n",
    "\n",
    "import numpy as np\n",
    "import pandas as pd\n",
    "pd.set_option('display.max_rows', 500)\n",
    "pd.set_option('display.max_columns', 2000)\n",
    "pd.set_option('display.width', 2000)\n",
    "\n",
    "import sklearn.model_selection\n",
    "\n",
    "import boto3\n",
    "import sagemaker\n",
    "from sagemaker import get_execution_role\n",
    "from sagemaker.amazon.amazon_estimator import get_image_uri\n",
    "\n",
    "sagemaker_session = sagemaker.Session()\n",
    "role = sagemaker.get_execution_role()\n",
    "\n",
    "\n",
    "# S3 bucket name\n",
    "bucket = 'sagemaker-us-west-2-479862333671'\n"
   ]
  },
  {
   "cell_type": "code",
   "execution_count": 2,
   "metadata": {},
   "outputs": [
    {
     "name": "stderr",
     "output_type": "stream",
     "text": [
      "The method get_image_uri has been renamed in sagemaker>=2.\n",
      "See: https://sagemaker.readthedocs.io/en/stable/v2.html for details.\n"
     ]
    },
    {
     "data": {
      "text/plain": [
       "({'config': {'DataSource': {'S3DataSource': {'S3DataType': 'S3Prefix',\n",
       "     'S3Uri': 's3://sagemaker-us-west-2-479862333671/data/train_no_header.csv',\n",
       "     'S3DataDistributionType': 'FullyReplicated'}},\n",
       "   'ContentType': 'csv'}},\n",
       " {'config': {'DataSource': {'S3DataSource': {'S3DataType': 'S3Prefix',\n",
       "     'S3Uri': 's3://sagemaker-us-west-2-479862333671/data/val_no_header.csv',\n",
       "     'S3DataDistributionType': 'FullyReplicated'}},\n",
       "   'ContentType': 'csv'}})"
      ]
     },
     "execution_count": 2,
     "metadata": {},
     "output_type": "execute_result"
    }
   ],
   "source": [
    "container = get_image_uri(boto3.Session().region_name, 'xgboost', '1.0-1')\n",
    "\n",
    "s3_input_train = sagemaker.inputs.TrainingInput(s3_data='s3://{}/{}'.format(bucket, 'data/train_no_header.csv'), content_type='csv')\n",
    "s3_input_validation = sagemaker.inputs.TrainingInput(s3_data='s3://{}/{}'.format(bucket, 'data/val_no_header.csv'), content_type='csv')\n",
    "\n",
    "(vars(s3_input_train), vars(s3_input_validation))"
   ]
  },
  {
   "cell_type": "code",
   "execution_count": 3,
   "metadata": {},
   "outputs": [],
   "source": [
    "prefix = 'perdictions'"
   ]
  },
  {
   "cell_type": "code",
   "execution_count": 4,
   "metadata": {},
   "outputs": [],
   "source": [
    "xgb = sagemaker.estimator.Estimator(container,\n",
    "                                    role, \n",
    "                                    instance_count=1, \n",
    "                                    instance_type='ml.m4.2xlarge',\n",
    "                                    output_path='s3://{}/{}/output'.format(bucket, prefix),\n",
    "                                    sagemaker_session=sagemaker_session)\n"
   ]
  },
  {
   "cell_type": "code",
   "execution_count": 5,
   "metadata": {},
   "outputs": [],
   "source": [
    "xgb.set_hyperparameters(max_depth=5,\n",
    "                        eta=0.2,\n",
    "                        gamma=4,\n",
    "                        min_child_weight=6,\n",
    "                        subsample=0.8,\n",
    "                        silent=0,\n",
    "                        objective='reg:squarederror',\n",
    "                        eval_metric='rmse',\n",
    "                        num_round=20)"
   ]
  },
  {
   "cell_type": "code",
   "execution_count": 6,
   "metadata": {},
   "outputs": [
    {
     "name": "stdout",
     "output_type": "stream",
     "text": [
      "2022-01-22 10:50:26 Starting - Starting the training job...\n",
      "2022-01-22 10:50:52 Starting - Preparing the instances for trainingProfilerReport-1642848625: InProgress\n",
      "......\n",
      "2022-01-22 10:51:56 Downloading - Downloading input data.....................\n",
      "2022-01-22 10:55:26 Training - Training image download completed. Training in progress.\u001b[34mINFO:sagemaker-containers:Imported framework sagemaker_xgboost_container.training\u001b[0m\n",
      "\u001b[34mINFO:sagemaker-containers:Failed to parse hyperparameter eval_metric value rmse to Json.\u001b[0m\n",
      "\u001b[34mReturning the value itself\u001b[0m\n",
      "\u001b[34mINFO:sagemaker-containers:Failed to parse hyperparameter objective value reg:squarederror to Json.\u001b[0m\n",
      "\u001b[34mReturning the value itself\u001b[0m\n",
      "\u001b[34mINFO:sagemaker-containers:No GPUs detected (normal if no gpus installed)\u001b[0m\n",
      "\u001b[34mINFO:sagemaker_xgboost_container.training:Running XGBoost Sagemaker in algorithm mode\u001b[0m\n",
      "\u001b[34mINFO:root:Determined delimiter of CSV input is ','\u001b[0m\n",
      "\u001b[34mINFO:root:Determined delimiter of CSV input is ','\u001b[0m\n",
      "\u001b[34mINFO:root:Determined delimiter of CSV input is ','\u001b[0m\n",
      "\u001b[34m[10:56:19] 45396814x29 matrix with 1316507606 entries loaded from /opt/ml/input/data/train?format=csv&label_column=0&delimiter=,\u001b[0m\n",
      "\u001b[34mINFO:root:Determined delimiter of CSV input is ','\u001b[0m\n",
      "\u001b[34m[10:56:20] 823230x29 matrix with 23873670 entries loaded from /opt/ml/input/data/validation?format=csv&label_column=0&delimiter=,\u001b[0m\n",
      "\u001b[34mINFO:root:Single node training.\u001b[0m\n",
      "\u001b[34mINFO:root:Train matrix has 45396814 rows\u001b[0m\n",
      "\u001b[34mINFO:root:Validation matrix has 823230 rows\u001b[0m\n",
      "\u001b[34m[10:56:24] WARNING: /workspace/src/gbm/gbtree.cc:138: Tree method is automatically selected to be 'approx' for faster speed. To use old behavior (exact greedy algorithm on single machine), set tree_method to 'exact'.\u001b[0m\n",
      "\u001b[34m[0]#011train-rmse:3.98114#011validation-rmse:3.34979\u001b[0m\n",
      "\u001b[34m[1]#011train-rmse:3.70633#011validation-rmse:3.08153\u001b[0m\n",
      "\u001b[34m[2]#011train-rmse:3.51426#011validation-rmse:2.89611\u001b[0m\n",
      "\u001b[34m[3]#011train-rmse:3.37029#011validation-rmse:2.76591\u001b[0m\n",
      "\u001b[34m[4]#011train-rmse:3.26071#011validation-rmse:2.67680\u001b[0m\n",
      "\u001b[34m[5]#011train-rmse:3.19121#011validation-rmse:2.62385\u001b[0m\n",
      "\u001b[34m[6]#011train-rmse:3.13483#011validation-rmse:2.57996\u001b[0m\n",
      "\u001b[34m[7]#011train-rmse:3.10101#011validation-rmse:2.55787\u001b[0m\n",
      "\u001b[34m[8]#011train-rmse:3.06592#011validation-rmse:2.53723\u001b[0m\n",
      "\u001b[34m[9]#011train-rmse:3.04411#011validation-rmse:2.52258\u001b[0m\n",
      "\u001b[34m[10]#011train-rmse:3.02697#011validation-rmse:2.51152\u001b[0m\n",
      "\u001b[34m[11]#011train-rmse:3.01342#011validation-rmse:2.50429\u001b[0m\n",
      "\u001b[34m[12]#011train-rmse:2.99320#011validation-rmse:2.49600\u001b[0m\n",
      "\u001b[34m[13]#011train-rmse:2.97795#011validation-rmse:2.48963\u001b[0m\n",
      "\u001b[34m[14]#011train-rmse:2.96667#011validation-rmse:2.48653\u001b[0m\n",
      "\u001b[34m[15]#011train-rmse:2.96049#011validation-rmse:2.48337\u001b[0m\n",
      "\u001b[34m[16]#011train-rmse:2.95319#011validation-rmse:2.48107\u001b[0m\n",
      "\u001b[34m[17]#011train-rmse:2.94689#011validation-rmse:2.47832\u001b[0m\n",
      "\u001b[34m[18]#011train-rmse:2.94100#011validation-rmse:2.47813\u001b[0m\n",
      "\u001b[34m[19]#011train-rmse:2.93200#011validation-rmse:2.47602\u001b[0m\n",
      "\n",
      "2022-01-22 11:10:32 Uploading - Uploading generated training model\n",
      "2022-01-22 11:10:32 Completed - Training job completed\n",
      "Training seconds: 1116\n",
      "Billable seconds: 1116\n"
     ]
    }
   ],
   "source": [
    "xgb.fit({'train': s3_input_train, 'validation': s3_input_validation})"
   ]
  },
  {
   "cell_type": "code",
   "execution_count": 7,
   "metadata": {},
   "outputs": [],
   "source": [
    "xgb_transformer = xgb.transformer(instance_count=1, instance_type='ml.c5.4xlarge')"
   ]
  },
  {
   "cell_type": "code",
   "execution_count": 8,
   "metadata": {},
   "outputs": [],
   "source": [
    "test_location = 's3://{}/{}'.format(bucket, 'data/test_no_header.csv')"
   ]
  },
  {
   "cell_type": "code",
   "execution_count": 9,
   "metadata": {},
   "outputs": [
    {
     "name": "stdout",
     "output_type": "stream",
     "text": [
      "...........................\u001b[34m[2022-01-22:11:30:13:INFO] No GPUs detected (normal if no gpus installed)\u001b[0m\n",
      "\u001b[34m[2022-01-22:11:30:13:INFO] No GPUs detected (normal if no gpus installed)\u001b[0m\n",
      "\u001b[34m[2022-01-22:11:30:13:INFO] nginx config: \u001b[0m\n",
      "\u001b[34mworker_processes auto;\u001b[0m\n",
      "\u001b[34mdaemon off;\u001b[0m\n",
      "\u001b[34mpid /tmp/nginx.pid;\u001b[0m\n",
      "\u001b[34merror_log  /dev/stderr;\u001b[0m\n",
      "\u001b[34mworker_rlimit_nofile 4096;\u001b[0m\n",
      "\u001b[34mevents {\n",
      "  worker_connections 2048;\u001b[0m\n",
      "\u001b[34m}\u001b[0m\n",
      "\u001b[34mhttp {\n",
      "  include /etc/nginx/mime.types;\n",
      "  default_type application/octet-stream;\n",
      "  access_log /dev/stdout combined;\n",
      "  upstream gunicorn {\n",
      "    server unix:/tmp/gunicorn.sock;\n",
      "  }\n",
      "  server {\n",
      "    listen 8080 deferred;\n",
      "    client_max_body_size 0;\n",
      "    keepalive_timeout 3;\n",
      "    location ~ ^/(ping|invocations|execution-parameters) {\n",
      "      proxy_set_header X-Forwarded-For $proxy_add_x_forwarded_for;\n",
      "      proxy_set_header Host $http_host;\n",
      "      proxy_redirect off;\n",
      "      proxy_read_timeout 60s;\n",
      "      proxy_pass http://gunicorn;\n",
      "    }\n",
      "    location / {\n",
      "      return 404 \"{}\";\n",
      "    }\n",
      "  }\u001b[0m\n",
      "\u001b[34m}\u001b[0m\n",
      "\u001b[34m[2022-01-22 11:30:13 +0000] [43] [INFO] Starting gunicorn 19.10.0\u001b[0m\n",
      "\u001b[34m[2022-01-22 11:30:13 +0000] [43] [INFO] Listening at: unix:/tmp/gunicorn.sock (43)\u001b[0m\n",
      "\u001b[34m[2022-01-22 11:30:13 +0000] [43] [INFO] Using worker: gevent\u001b[0m\n",
      "\u001b[34m[2022-01-22 11:30:13 +0000] [62] [INFO] Booting worker with pid: 62\u001b[0m\n",
      "\u001b[34m[2022-01-22 11:30:13 +0000] [63] [INFO] Booting worker with pid: 63\u001b[0m\n",
      "\u001b[34m[2022-01-22 11:30:13 +0000] [64] [INFO] Booting worker with pid: 64\u001b[0m\n",
      "\u001b[34m[2022-01-22 11:30:13 +0000] [95] [INFO] Booting worker with pid: 95\u001b[0m\n",
      "\u001b[34m[2022-01-22 11:30:13 +0000] [111] [INFO] Booting worker with pid: 111\u001b[0m\n",
      "\u001b[34m[2022-01-22 11:30:13 +0000] [113] [INFO] Booting worker with pid: 113\u001b[0m\n",
      "\u001b[34m[2022-01-22 11:30:13 +0000] [112] [INFO] Booting worker with pid: 112\u001b[0m\n",
      "\u001b[34m[2022-01-22 11:30:13 +0000] [114] [INFO] Booting worker with pid: 114\u001b[0m\n",
      "\u001b[34m[2022-01-22 11:30:13 +0000] [115] [INFO] Booting worker with pid: 115\u001b[0m\n",
      "\u001b[34m[2022-01-22 11:30:13 +0000] [116] [INFO] Booting worker with pid: 116\u001b[0m\n",
      "\u001b[34m[2022-01-22 11:30:13 +0000] [132] [INFO] Booting worker with pid: 132\u001b[0m\n",
      "\u001b[34m[2022-01-22 11:30:13 +0000] [148] [INFO] Booting worker with pid: 148\u001b[0m\n",
      "\u001b[34m[2022-01-22 11:30:13 +0000] [179] [INFO] Booting worker with pid: 179\u001b[0m\n",
      "\u001b[34m[2022-01-22 11:30:13 +0000] [180] [INFO] Booting worker with pid: 180\u001b[0m\n",
      "\u001b[34m[2022-01-22 11:30:13 +0000] [182] [INFO] Booting worker with pid: 182\u001b[0m\n",
      "\u001b[34m[2022-01-22 11:30:13 +0000] [228] [INFO] Booting worker with pid: 228\u001b[0m\n",
      "\u001b[34m[2022-01-22:11:30:17:INFO] No GPUs detected (normal if no gpus installed)\u001b[0m\n",
      "\u001b[34m169.254.255.130 - - [22/Jan/2022:11:30:17 +0000] \"GET /ping HTTP/1.1\" 200 0 \"-\" \"Go-http-client/1.1\"\u001b[0m\n",
      "\u001b[34m169.254.255.130 - - [22/Jan/2022:11:30:17 +0000] \"GET /execution-parameters HTTP/1.1\" 200 85 \"-\" \"Go-http-client/1.1\"\u001b[0m\n",
      "\u001b[34m[2022-01-22:11:30:18:INFO] No GPUs detected (normal if no gpus installed)\u001b[0m\n",
      "\u001b[34m[2022-01-22:11:30:18:INFO] Determined delimiter of CSV input is ','\u001b[0m\n",
      "\u001b[34m[2022-01-22:11:30:18:INFO] Determined delimiter of CSV input is ','\u001b[0m\n",
      "\u001b[34m[2022-01-22:11:30:19:INFO] No GPUs detected (normal if no gpus installed)\u001b[0m\n",
      "\u001b[34m[2022-01-22:11:30:19:INFO] No GPUs detected (normal if no gpus installed)\u001b[0m\n",
      "\u001b[34m[2022-01-22:11:30:19:INFO] No GPUs detected (normal if no gpus installed)\u001b[0m\n",
      "\u001b[34m[2022-01-22:11:30:19:INFO] Determined delimiter of CSV input is ','\u001b[0m\n",
      "\u001b[34m[2022-01-22:11:30:19:INFO] Determined delimiter of CSV input is ','\u001b[0m\n",
      "\u001b[34m[2022-01-22:11:30:19:INFO] No GPUs detected (normal if no gpus installed)\u001b[0m\n",
      "\u001b[34m[2022-01-22:11:30:19:INFO] No GPUs detected (normal if no gpus installed)\u001b[0m\n",
      "\u001b[34m[2022-01-22:11:30:19:INFO] Determined delimiter of CSV input is ','\u001b[0m\n",
      "\u001b[34m[2022-01-22:11:30:19:INFO] Determined delimiter of CSV input is ','\u001b[0m\n",
      "\u001b[34m[2022-01-22:11:30:19:INFO] No GPUs detected (normal if no gpus installed)\u001b[0m\n",
      "\u001b[34m[2022-01-22:11:30:19:INFO] No GPUs detected (normal if no gpus installed)\u001b[0m\n",
      "\u001b[34m[2022-01-22:11:30:19:INFO] No GPUs detected (normal if no gpus installed)\u001b[0m\n",
      "\u001b[34m[2022-01-22:11:30:19:INFO] Determined delimiter of CSV input is ','\u001b[0m\n",
      "\u001b[34m[2022-01-22:11:30:19:INFO] No GPUs detected (normal if no gpus installed)\u001b[0m\n",
      "\u001b[34m[2022-01-22:11:30:19:INFO] Determined delimiter of CSV input is ','\u001b[0m\n",
      "\u001b[34m[2022-01-22:11:30:19:INFO] Determined delimiter of CSV input is ','\u001b[0m\n",
      "\u001b[34m[2022-01-22:11:30:19:INFO] Determined delimiter of CSV input is ','\u001b[0m\n",
      "\u001b[34m[2022-01-22:11:30:19:INFO] Determined delimiter of CSV input is ','\u001b[0m\n",
      "\u001b[34m169.254.255.130 - - [22/Jan/2022:11:30:19 +0000] \"POST /invocations HTTP/1.1\" 200 1335679 \"-\" \"Go-http-client/1.1\"\u001b[0m\n",
      "\u001b[34m169.254.255.130 - - [22/Jan/2022:11:30:19 +0000] \"POST /invocations HTTP/1.1\" 200 1337783 \"-\" \"Go-http-client/1.1\"\u001b[0m\n",
      "\u001b[34m169.254.255.130 - - [22/Jan/2022:11:30:20 +0000] \"POST /invocations HTTP/1.1\" 200 933572 \"-\" \"Go-http-client/1.1\"\u001b[0m\n",
      "\u001b[34m[2022-01-22:11:30:20:INFO] Determined delimiter of CSV input is ','\u001b[0m\n",
      "\u001b[34m169.254.255.130 - - [22/Jan/2022:11:30:20 +0000] \"POST /invocations HTTP/1.1\" 200 1349448 \"-\" \"Go-http-client/1.1\"\u001b[0m\n",
      "\u001b[34m169.254.255.130 - - [22/Jan/2022:11:30:20 +0000] \"POST /invocations HTTP/1.1\" 200 1347084 \"-\" \"Go-http-client/1.1\"\u001b[0m\n",
      "\u001b[34m169.254.255.130 - - [22/Jan/2022:11:30:20 +0000] \"POST /invocations HTTP/1.1\" 200 1334106 \"-\" \"Go-http-client/1.1\"\u001b[0m\n",
      "\u001b[34m169.254.255.130 - - [22/Jan/2022:11:30:20 +0000] \"POST /invocations HTTP/1.1\" 200 1338435 \"-\" \"Go-http-client/1.1\"\u001b[0m\n",
      "\u001b[34m169.254.255.130 - - [22/Jan/2022:11:30:20 +0000] \"POST /invocations HTTP/1.1\" 200 1336772 \"-\" \"Go-http-client/1.1\"\u001b[0m\n",
      "\u001b[34m169.254.255.130 - - [22/Jan/2022:11:30:20 +0000] \"POST /invocations HTTP/1.1\" 200 1331800 \"-\" \"Go-http-client/1.1\"\u001b[0m\n",
      "\u001b[34m169.254.255.130 - - [22/Jan/2022:11:30:20 +0000] \"POST /invocations HTTP/1.1\" 200 1343437 \"-\" \"Go-http-client/1.1\"\u001b[0m\n",
      "\u001b[34m169.254.255.130 - - [22/Jan/2022:11:30:20 +0000] \"POST /invocations HTTP/1.1\" 200 1331990 \"-\" \"Go-http-client/1.1\"\u001b[0m\n",
      "\u001b[34m169.254.255.130 - - [22/Jan/2022:11:30:21 +0000] \"POST /invocations HTTP/1.1\" 200 1337276 \"-\" \"Go-http-client/1.1\"\u001b[0m\n",
      "\u001b[35m169.254.255.130 - - [22/Jan/2022:11:30:20 +0000] \"POST /invocations HTTP/1.1\" 200 1338435 \"-\" \"Go-http-client/1.1\"\u001b[0m\n",
      "\u001b[35m169.254.255.130 - - [22/Jan/2022:11:30:20 +0000] \"POST /invocations HTTP/1.1\" 200 1336772 \"-\" \"Go-http-client/1.1\"\u001b[0m\n",
      "\u001b[35m169.254.255.130 - - [22/Jan/2022:11:30:20 +0000] \"POST /invocations HTTP/1.1\" 200 1331800 \"-\" \"Go-http-client/1.1\"\u001b[0m\n",
      "\u001b[35m169.254.255.130 - - [22/Jan/2022:11:30:20 +0000] \"POST /invocations HTTP/1.1\" 200 1343437 \"-\" \"Go-http-client/1.1\"\u001b[0m\n",
      "\u001b[35m169.254.255.130 - - [22/Jan/2022:11:30:20 +0000] \"POST /invocations HTTP/1.1\" 200 1331990 \"-\" \"Go-http-client/1.1\"\u001b[0m\n",
      "\u001b[35m169.254.255.130 - - [22/Jan/2022:11:30:21 +0000] \"POST /invocations HTTP/1.1\" 200 1337276 \"-\" \"Go-http-client/1.1\"\u001b[0m\n",
      "\u001b[32m2022-01-22T11:30:17.386:[sagemaker logs]: MaxConcurrentTransforms=16, MaxPayloadInMB=6, BatchStrategy=MULTI_RECORD\u001b[0m\n",
      "\n"
     ]
    }
   ],
   "source": [
    "xgb_transformer.transform(test_location, content_type='text/csv', split_type='Line')"
   ]
  },
  {
   "cell_type": "code",
   "execution_count": 10,
   "metadata": {},
   "outputs": [
    {
     "name": "stdout",
     "output_type": "stream",
     "text": [
      "\u001b[34m[2022-01-22:11:30:13:INFO] No GPUs detected (normal if no gpus installed)\u001b[0m\n",
      "\u001b[34m[2022-01-22:11:30:13:INFO] No GPUs detected (normal if no gpus installed)\u001b[0m\n",
      "\u001b[34m[2022-01-22:11:30:13:INFO] nginx config: \u001b[0m\n",
      "\u001b[34mworker_processes auto;\u001b[0m\n",
      "\u001b[34mdaemon off;\u001b[0m\n",
      "\u001b[34mpid /tmp/nginx.pid;\u001b[0m\n",
      "\u001b[34merror_log  /dev/stderr;\u001b[0m\n",
      "\u001b[34mworker_rlimit_nofile 4096;\u001b[0m\n",
      "\u001b[35m[2022-01-22:11:30:13:INFO] No GPUs detected (normal if no gpus installed)\u001b[0m\n",
      "\u001b[35m[2022-01-22:11:30:13:INFO] No GPUs detected (normal if no gpus installed)\u001b[0m\n",
      "\u001b[35m[2022-01-22:11:30:13:INFO] nginx config: \u001b[0m\n",
      "\u001b[35mworker_processes auto;\u001b[0m\n",
      "\u001b[35mdaemon off;\u001b[0m\n",
      "\u001b[35mpid /tmp/nginx.pid;\u001b[0m\n",
      "\u001b[35merror_log  /dev/stderr;\u001b[0m\n",
      "\u001b[35mworker_rlimit_nofile 4096;\u001b[0m\n",
      "\u001b[34mevents {\n",
      "  worker_connections 2048;\u001b[0m\n",
      "\u001b[34m}\u001b[0m\n",
      "\u001b[34mhttp {\n",
      "  include /etc/nginx/mime.types;\n",
      "  default_type application/octet-stream;\n",
      "  access_log /dev/stdout combined;\n",
      "  upstream gunicorn {\n",
      "    server unix:/tmp/gunicorn.sock;\n",
      "  }\n",
      "  server {\n",
      "    listen 8080 deferred;\n",
      "    client_max_body_size 0;\n",
      "    keepalive_timeout 3;\n",
      "    location ~ ^/(ping|invocations|execution-parameters) {\n",
      "      proxy_set_header X-Forwarded-For $proxy_add_x_forwarded_for;\n",
      "      proxy_set_header Host $http_host;\n",
      "      proxy_redirect off;\n",
      "      proxy_read_timeout 60s;\n",
      "      proxy_pass http://gunicorn;\n",
      "    }\n",
      "    location / {\n",
      "      return 404 \"{}\";\n",
      "    }\n",
      "  }\u001b[0m\n",
      "\u001b[34m}\u001b[0m\n",
      "\u001b[34m[2022-01-22 11:30:13 +0000] [43] [INFO] Starting gunicorn 19.10.0\u001b[0m\n",
      "\u001b[34m[2022-01-22 11:30:13 +0000] [43] [INFO] Listening at: unix:/tmp/gunicorn.sock (43)\u001b[0m\n",
      "\u001b[34m[2022-01-22 11:30:13 +0000] [43] [INFO] Using worker: gevent\u001b[0m\n",
      "\u001b[34m[2022-01-22 11:30:13 +0000] [62] [INFO] Booting worker with pid: 62\u001b[0m\n",
      "\u001b[34m[2022-01-22 11:30:13 +0000] [63] [INFO] Booting worker with pid: 63\u001b[0m\n",
      "\u001b[34m[2022-01-22 11:30:13 +0000] [64] [INFO] Booting worker with pid: 64\u001b[0m\n",
      "\u001b[34m[2022-01-22 11:30:13 +0000] [95] [INFO] Booting worker with pid: 95\u001b[0m\n",
      "\u001b[34m[2022-01-22 11:30:13 +0000] [111] [INFO] Booting worker with pid: 111\u001b[0m\n",
      "\u001b[34m[2022-01-22 11:30:13 +0000] [113] [INFO] Booting worker with pid: 113\u001b[0m\n",
      "\u001b[34m[2022-01-22 11:30:13 +0000] [112] [INFO] Booting worker with pid: 112\u001b[0m\n",
      "\u001b[34m[2022-01-22 11:30:13 +0000] [114] [INFO] Booting worker with pid: 114\u001b[0m\n",
      "\u001b[34m[2022-01-22 11:30:13 +0000] [115] [INFO] Booting worker with pid: 115\u001b[0m\n",
      "\u001b[34m[2022-01-22 11:30:13 +0000] [116] [INFO] Booting worker with pid: 116\u001b[0m\n",
      "\u001b[34m[2022-01-22 11:30:13 +0000] [132] [INFO] Booting worker with pid: 132\u001b[0m\n",
      "\u001b[34m[2022-01-22 11:30:13 +0000] [148] [INFO] Booting worker with pid: 148\u001b[0m\n",
      "\u001b[34m[2022-01-22 11:30:13 +0000] [179] [INFO] Booting worker with pid: 179\u001b[0m\n",
      "\u001b[34m[2022-01-22 11:30:13 +0000] [180] [INFO] Booting worker with pid: 180\u001b[0m\n",
      "\u001b[34m[2022-01-22 11:30:13 +0000] [182] [INFO] Booting worker with pid: 182\u001b[0m\n",
      "\u001b[34m[2022-01-22 11:30:13 +0000] [228] [INFO] Booting worker with pid: 228\u001b[0m\n",
      "\u001b[35mevents {\n",
      "  worker_connections 2048;\u001b[0m\n",
      "\u001b[35m}\u001b[0m\n",
      "\u001b[35mhttp {\n",
      "  include /etc/nginx/mime.types;\n",
      "  default_type application/octet-stream;\n",
      "  access_log /dev/stdout combined;\n",
      "  upstream gunicorn {\n",
      "    server unix:/tmp/gunicorn.sock;\n",
      "  }\n",
      "  server {\n",
      "    listen 8080 deferred;\n",
      "    client_max_body_size 0;\n",
      "    keepalive_timeout 3;\n",
      "    location ~ ^/(ping|invocations|execution-parameters) {\n",
      "      proxy_set_header X-Forwarded-For $proxy_add_x_forwarded_for;\n",
      "      proxy_set_header Host $http_host;\n",
      "      proxy_redirect off;\n",
      "      proxy_read_timeout 60s;\n",
      "      proxy_pass http://gunicorn;\n",
      "    }\n",
      "    location / {\n",
      "      return 404 \"{}\";\n",
      "    }\n",
      "  }\u001b[0m\n",
      "\u001b[35m}\u001b[0m\n",
      "\u001b[35m[2022-01-22 11:30:13 +0000] [43] [INFO] Starting gunicorn 19.10.0\u001b[0m\n",
      "\u001b[35m[2022-01-22 11:30:13 +0000] [43] [INFO] Listening at: unix:/tmp/gunicorn.sock (43)\u001b[0m\n",
      "\u001b[35m[2022-01-22 11:30:13 +0000] [43] [INFO] Using worker: gevent\u001b[0m\n",
      "\u001b[35m[2022-01-22 11:30:13 +0000] [62] [INFO] Booting worker with pid: 62\u001b[0m\n",
      "\u001b[35m[2022-01-22 11:30:13 +0000] [63] [INFO] Booting worker with pid: 63\u001b[0m\n",
      "\u001b[35m[2022-01-22 11:30:13 +0000] [64] [INFO] Booting worker with pid: 64\u001b[0m\n",
      "\u001b[35m[2022-01-22 11:30:13 +0000] [95] [INFO] Booting worker with pid: 95\u001b[0m\n",
      "\u001b[35m[2022-01-22 11:30:13 +0000] [111] [INFO] Booting worker with pid: 111\u001b[0m\n",
      "\u001b[35m[2022-01-22 11:30:13 +0000] [113] [INFO] Booting worker with pid: 113\u001b[0m\n",
      "\u001b[35m[2022-01-22 11:30:13 +0000] [112] [INFO] Booting worker with pid: 112\u001b[0m\n",
      "\u001b[35m[2022-01-22 11:30:13 +0000] [114] [INFO] Booting worker with pid: 114\u001b[0m\n",
      "\u001b[35m[2022-01-22 11:30:13 +0000] [115] [INFO] Booting worker with pid: 115\u001b[0m\n",
      "\u001b[35m[2022-01-22 11:30:13 +0000] [116] [INFO] Booting worker with pid: 116\u001b[0m\n",
      "\u001b[35m[2022-01-22 11:30:13 +0000] [132] [INFO] Booting worker with pid: 132\u001b[0m\n",
      "\u001b[35m[2022-01-22 11:30:13 +0000] [148] [INFO] Booting worker with pid: 148\u001b[0m\n",
      "\u001b[35m[2022-01-22 11:30:13 +0000] [179] [INFO] Booting worker with pid: 179\u001b[0m\n",
      "\u001b[35m[2022-01-22 11:30:13 +0000] [180] [INFO] Booting worker with pid: 180\u001b[0m\n",
      "\u001b[35m[2022-01-22 11:30:13 +0000] [182] [INFO] Booting worker with pid: 182\u001b[0m\n",
      "\u001b[35m[2022-01-22 11:30:13 +0000] [228] [INFO] Booting worker with pid: 228\u001b[0m\n",
      "\u001b[34m[2022-01-22:11:30:17:INFO] No GPUs detected (normal if no gpus installed)\u001b[0m\n",
      "\u001b[34m169.254.255.130 - - [22/Jan/2022:11:30:17 +0000] \"GET /ping HTTP/1.1\" 200 0 \"-\" \"Go-http-client/1.1\"\u001b[0m\n",
      "\u001b[34m169.254.255.130 - - [22/Jan/2022:11:30:17 +0000] \"GET /execution-parameters HTTP/1.1\" 200 85 \"-\" \"Go-http-client/1.1\"\u001b[0m\n",
      "\u001b[34m[2022-01-22:11:30:18:INFO] No GPUs detected (normal if no gpus installed)\u001b[0m\n",
      "\u001b[35m[2022-01-22:11:30:17:INFO] No GPUs detected (normal if no gpus installed)\u001b[0m\n",
      "\u001b[35m169.254.255.130 - - [22/Jan/2022:11:30:17 +0000] \"GET /ping HTTP/1.1\" 200 0 \"-\" \"Go-http-client/1.1\"\u001b[0m\n",
      "\u001b[35m169.254.255.130 - - [22/Jan/2022:11:30:17 +0000] \"GET /execution-parameters HTTP/1.1\" 200 85 \"-\" \"Go-http-client/1.1\"\u001b[0m\n",
      "\u001b[35m[2022-01-22:11:30:18:INFO] No GPUs detected (normal if no gpus installed)\u001b[0m\n",
      "\u001b[34m[2022-01-22:11:30:18:INFO] Determined delimiter of CSV input is ','\u001b[0m\n",
      "\u001b[34m[2022-01-22:11:30:18:INFO] Determined delimiter of CSV input is ','\u001b[0m\n",
      "\u001b[34m[2022-01-22:11:30:19:INFO] No GPUs detected (normal if no gpus installed)\u001b[0m\n",
      "\u001b[34m[2022-01-22:11:30:19:INFO] No GPUs detected (normal if no gpus installed)\u001b[0m\n",
      "\u001b[34m[2022-01-22:11:30:19:INFO] No GPUs detected (normal if no gpus installed)\u001b[0m\n",
      "\u001b[34m[2022-01-22:11:30:19:INFO] Determined delimiter of CSV input is ','\u001b[0m\n",
      "\u001b[34m[2022-01-22:11:30:19:INFO] Determined delimiter of CSV input is ','\u001b[0m\n",
      "\u001b[34m[2022-01-22:11:30:19:INFO] No GPUs detected (normal if no gpus installed)\u001b[0m\n",
      "\u001b[34m[2022-01-22:11:30:19:INFO] No GPUs detected (normal if no gpus installed)\u001b[0m\n",
      "\u001b[34m[2022-01-22:11:30:19:INFO] Determined delimiter of CSV input is ','\u001b[0m\n",
      "\u001b[34m[2022-01-22:11:30:19:INFO] Determined delimiter of CSV input is ','\u001b[0m\n",
      "\u001b[34m[2022-01-22:11:30:19:INFO] No GPUs detected (normal if no gpus installed)\u001b[0m\n",
      "\u001b[34m[2022-01-22:11:30:19:INFO] No GPUs detected (normal if no gpus installed)\u001b[0m\n",
      "\u001b[34m[2022-01-22:11:30:19:INFO] No GPUs detected (normal if no gpus installed)\u001b[0m\n",
      "\u001b[34m[2022-01-22:11:30:19:INFO] Determined delimiter of CSV input is ','\u001b[0m\n",
      "\u001b[35m[2022-01-22:11:30:18:INFO] Determined delimiter of CSV input is ','\u001b[0m\n",
      "\u001b[35m[2022-01-22:11:30:18:INFO] Determined delimiter of CSV input is ','\u001b[0m\n",
      "\u001b[35m[2022-01-22:11:30:19:INFO] No GPUs detected (normal if no gpus installed)\u001b[0m\n",
      "\u001b[35m[2022-01-22:11:30:19:INFO] No GPUs detected (normal if no gpus installed)\u001b[0m\n",
      "\u001b[35m[2022-01-22:11:30:19:INFO] No GPUs detected (normal if no gpus installed)\u001b[0m\n",
      "\u001b[35m[2022-01-22:11:30:19:INFO] Determined delimiter of CSV input is ','\u001b[0m\n",
      "\u001b[35m[2022-01-22:11:30:19:INFO] Determined delimiter of CSV input is ','\u001b[0m\n",
      "\u001b[35m[2022-01-22:11:30:19:INFO] No GPUs detected (normal if no gpus installed)\u001b[0m\n",
      "\u001b[35m[2022-01-22:11:30:19:INFO] No GPUs detected (normal if no gpus installed)\u001b[0m\n",
      "\u001b[35m[2022-01-22:11:30:19:INFO] Determined delimiter of CSV input is ','\u001b[0m\n",
      "\u001b[35m[2022-01-22:11:30:19:INFO] Determined delimiter of CSV input is ','\u001b[0m\n",
      "\u001b[35m[2022-01-22:11:30:19:INFO] No GPUs detected (normal if no gpus installed)\u001b[0m\n",
      "\u001b[35m[2022-01-22:11:30:19:INFO] No GPUs detected (normal if no gpus installed)\u001b[0m\n",
      "\u001b[35m[2022-01-22:11:30:19:INFO] No GPUs detected (normal if no gpus installed)\u001b[0m\n",
      "\u001b[35m[2022-01-22:11:30:19:INFO] Determined delimiter of CSV input is ','\u001b[0m\n",
      "\u001b[34m[2022-01-22:11:30:19:INFO] No GPUs detected (normal if no gpus installed)\u001b[0m\n",
      "\u001b[34m[2022-01-22:11:30:19:INFO] Determined delimiter of CSV input is ','\u001b[0m\n",
      "\u001b[34m[2022-01-22:11:30:19:INFO] Determined delimiter of CSV input is ','\u001b[0m\n",
      "\u001b[34m[2022-01-22:11:30:19:INFO] Determined delimiter of CSV input is ','\u001b[0m\n",
      "\u001b[34m[2022-01-22:11:30:19:INFO] Determined delimiter of CSV input is ','\u001b[0m\n",
      "\u001b[35m[2022-01-22:11:30:19:INFO] No GPUs detected (normal if no gpus installed)\u001b[0m\n",
      "\u001b[35m[2022-01-22:11:30:19:INFO] Determined delimiter of CSV input is ','\u001b[0m\n",
      "\u001b[35m[2022-01-22:11:30:19:INFO] Determined delimiter of CSV input is ','\u001b[0m\n",
      "\u001b[35m[2022-01-22:11:30:19:INFO] Determined delimiter of CSV input is ','\u001b[0m\n",
      "\u001b[35m[2022-01-22:11:30:19:INFO] Determined delimiter of CSV input is ','\u001b[0m\n",
      "\u001b[34m169.254.255.130 - - [22/Jan/2022:11:30:19 +0000] \"POST /invocations HTTP/1.1\" 200 1335679 \"-\" \"Go-http-client/1.1\"\u001b[0m\n",
      "\u001b[34m169.254.255.130 - - [22/Jan/2022:11:30:19 +0000] \"POST /invocations HTTP/1.1\" 200 1337783 \"-\" \"Go-http-client/1.1\"\u001b[0m\n",
      "\u001b[34m169.254.255.130 - - [22/Jan/2022:11:30:20 +0000] \"POST /invocations HTTP/1.1\" 200 933572 \"-\" \"Go-http-client/1.1\"\u001b[0m\n",
      "\u001b[34m[2022-01-22:11:30:20:INFO] Determined delimiter of CSV input is ','\u001b[0m\n",
      "\u001b[34m169.254.255.130 - - [22/Jan/2022:11:30:20 +0000] \"POST /invocations HTTP/1.1\" 200 1349448 \"-\" \"Go-http-client/1.1\"\u001b[0m\n",
      "\u001b[34m169.254.255.130 - - [22/Jan/2022:11:30:20 +0000] \"POST /invocations HTTP/1.1\" 200 1347084 \"-\" \"Go-http-client/1.1\"\u001b[0m\n",
      "\u001b[34m169.254.255.130 - - [22/Jan/2022:11:30:20 +0000] \"POST /invocations HTTP/1.1\" 200 1334106 \"-\" \"Go-http-client/1.1\"\u001b[0m\n",
      "\u001b[35m169.254.255.130 - - [22/Jan/2022:11:30:19 +0000] \"POST /invocations HTTP/1.1\" 200 1335679 \"-\" \"Go-http-client/1.1\"\u001b[0m\n",
      "\u001b[35m169.254.255.130 - - [22/Jan/2022:11:30:19 +0000] \"POST /invocations HTTP/1.1\" 200 1337783 \"-\" \"Go-http-client/1.1\"\u001b[0m\n",
      "\u001b[35m169.254.255.130 - - [22/Jan/2022:11:30:20 +0000] \"POST /invocations HTTP/1.1\" 200 933572 \"-\" \"Go-http-client/1.1\"\u001b[0m\n",
      "\u001b[35m[2022-01-22:11:30:20:INFO] Determined delimiter of CSV input is ','\u001b[0m\n",
      "\u001b[35m169.254.255.130 - - [22/Jan/2022:11:30:20 +0000] \"POST /invocations HTTP/1.1\" 200 1349448 \"-\" \"Go-http-client/1.1\"\u001b[0m\n",
      "\u001b[35m169.254.255.130 - - [22/Jan/2022:11:30:20 +0000] \"POST /invocations HTTP/1.1\" 200 1347084 \"-\" \"Go-http-client/1.1\"\u001b[0m\n",
      "\u001b[35m169.254.255.130 - - [22/Jan/2022:11:30:20 +0000] \"POST /invocations HTTP/1.1\" 200 1334106 \"-\" \"Go-http-client/1.1\"\u001b[0m\n",
      "\u001b[34m169.254.255.130 - - [22/Jan/2022:11:30:20 +0000] \"POST /invocations HTTP/1.1\" 200 1338435 \"-\" \"Go-http-client/1.1\"\u001b[0m\n",
      "\u001b[34m169.254.255.130 - - [22/Jan/2022:11:30:20 +0000] \"POST /invocations HTTP/1.1\" 200 1336772 \"-\" \"Go-http-client/1.1\"\u001b[0m\n",
      "\u001b[34m169.254.255.130 - - [22/Jan/2022:11:30:20 +0000] \"POST /invocations HTTP/1.1\" 200 1331800 \"-\" \"Go-http-client/1.1\"\u001b[0m\n",
      "\u001b[34m169.254.255.130 - - [22/Jan/2022:11:30:20 +0000] \"POST /invocations HTTP/1.1\" 200 1343437 \"-\" \"Go-http-client/1.1\"\u001b[0m\n",
      "\u001b[34m169.254.255.130 - - [22/Jan/2022:11:30:20 +0000] \"POST /invocations HTTP/1.1\" 200 1331990 \"-\" \"Go-http-client/1.1\"\u001b[0m\n",
      "\u001b[34m169.254.255.130 - - [22/Jan/2022:11:30:21 +0000] \"POST /invocations HTTP/1.1\" 200 1337276 \"-\" \"Go-http-client/1.1\"\u001b[0m\n",
      "\u001b[35m169.254.255.130 - - [22/Jan/2022:11:30:20 +0000] \"POST /invocations HTTP/1.1\" 200 1338435 \"-\" \"Go-http-client/1.1\"\u001b[0m\n",
      "\u001b[35m169.254.255.130 - - [22/Jan/2022:11:30:20 +0000] \"POST /invocations HTTP/1.1\" 200 1336772 \"-\" \"Go-http-client/1.1\"\u001b[0m\n",
      "\u001b[35m169.254.255.130 - - [22/Jan/2022:11:30:20 +0000] \"POST /invocations HTTP/1.1\" 200 1331800 \"-\" \"Go-http-client/1.1\"\u001b[0m\n",
      "\u001b[35m169.254.255.130 - - [22/Jan/2022:11:30:20 +0000] \"POST /invocations HTTP/1.1\" 200 1343437 \"-\" \"Go-http-client/1.1\"\u001b[0m\n",
      "\u001b[35m169.254.255.130 - - [22/Jan/2022:11:30:20 +0000] \"POST /invocations HTTP/1.1\" 200 1331990 \"-\" \"Go-http-client/1.1\"\u001b[0m\n",
      "\u001b[35m169.254.255.130 - - [22/Jan/2022:11:30:21 +0000] \"POST /invocations HTTP/1.1\" 200 1337276 \"-\" \"Go-http-client/1.1\"\u001b[0m\n",
      "\u001b[32m2022-01-22T11:30:17.386:[sagemaker logs]: MaxConcurrentTransforms=16, MaxPayloadInMB=6, BatchStrategy=MULTI_RECORD\u001b[0m\n"
     ]
    }
   ],
   "source": [
    "xgb_transformer.wait()"
   ]
  },
  {
   "cell_type": "code",
   "execution_count": 11,
   "metadata": {},
   "outputs": [
    {
     "name": "stdout",
     "output_type": "stream",
     "text": [
      "Note: AWS CLI version 2, the latest major version of the AWS CLI, is now stable and recommended for general use. For more information, see the AWS CLI version 2 installation instructions at: https://docs.aws.amazon.com/cli/latest/userguide/install-cliv2.html\n",
      "\n",
      "usage: aws [options] <command> <subcommand> [<subcommand> ...] [parameters]\n",
      "To see help text, you can run:\n",
      "\n",
      "  aws help\n",
      "  aws <command> help\n",
      "  aws <command> <subcommand> help\n",
      "aws: error: the following arguments are required: paths\n"
     ]
    }
   ],
   "source": [
    "!aws s3 cp --recursive $xgb_transformer.output_path $data_dir"
   ]
  },
  {
   "cell_type": "code",
   "execution_count": 15,
   "metadata": {},
   "outputs": [],
   "source": [
    "data_dir = xgb_transformer.output_path"
   ]
  },
  {
   "cell_type": "code",
   "execution_count": 16,
   "metadata": {},
   "outputs": [],
   "source": [
    "Y_pred = pd.read_csv(os.path.join(data_dir, 'test_no_header.csv.out'), header=None)"
   ]
  },
  {
   "cell_type": "code",
   "execution_count": 17,
   "metadata": {},
   "outputs": [
    {
     "data": {
      "text/html": [
       "<div>\n",
       "<style scoped>\n",
       "    .dataframe tbody tr th:only-of-type {\n",
       "        vertical-align: middle;\n",
       "    }\n",
       "\n",
       "    .dataframe tbody tr th {\n",
       "        vertical-align: top;\n",
       "    }\n",
       "\n",
       "    .dataframe thead th {\n",
       "        text-align: right;\n",
       "    }\n",
       "</style>\n",
       "<table border=\"1\" class=\"dataframe\">\n",
       "  <thead>\n",
       "    <tr style=\"text-align: right;\">\n",
       "      <th></th>\n",
       "      <th>0</th>\n",
       "    </tr>\n",
       "  </thead>\n",
       "  <tbody>\n",
       "    <tr>\n",
       "      <th>0</th>\n",
       "      <td>0.471162</td>\n",
       "    </tr>\n",
       "    <tr>\n",
       "      <th>1</th>\n",
       "      <td>0.517790</td>\n",
       "    </tr>\n",
       "    <tr>\n",
       "      <th>2</th>\n",
       "      <td>0.536669</td>\n",
       "    </tr>\n",
       "    <tr>\n",
       "      <th>3</th>\n",
       "      <td>0.517790</td>\n",
       "    </tr>\n",
       "    <tr>\n",
       "      <th>4</th>\n",
       "      <td>0.471162</td>\n",
       "    </tr>\n",
       "    <tr>\n",
       "      <th>...</th>\n",
       "      <td>...</td>\n",
       "    </tr>\n",
       "    <tr>\n",
       "      <th>823225</th>\n",
       "      <td>1.077206</td>\n",
       "    </tr>\n",
       "    <tr>\n",
       "      <th>823226</th>\n",
       "      <td>0.504309</td>\n",
       "    </tr>\n",
       "    <tr>\n",
       "      <th>823227</th>\n",
       "      <td>1.342117</td>\n",
       "    </tr>\n",
       "    <tr>\n",
       "      <th>823228</th>\n",
       "      <td>1.404573</td>\n",
       "    </tr>\n",
       "    <tr>\n",
       "      <th>823229</th>\n",
       "      <td>3.025978</td>\n",
       "    </tr>\n",
       "  </tbody>\n",
       "</table>\n",
       "<p>823230 rows × 1 columns</p>\n",
       "</div>"
      ],
      "text/plain": [
       "               0\n",
       "0       0.471162\n",
       "1       0.517790\n",
       "2       0.536669\n",
       "3       0.517790\n",
       "4       0.471162\n",
       "...          ...\n",
       "823225  1.077206\n",
       "823226  0.504309\n",
       "823227  1.342117\n",
       "823228  1.404573\n",
       "823229  3.025978\n",
       "\n",
       "[823230 rows x 1 columns]"
      ]
     },
     "execution_count": 17,
     "metadata": {},
     "output_type": "execute_result"
    }
   ],
   "source": [
    "Y_pred"
   ]
  },
  {
   "cell_type": "code",
   "execution_count": 21,
   "metadata": {},
   "outputs": [],
   "source": [
    "Y_test = pd.read_csv('s3://{}/{}'.format(bucket, 'data/val.csv'))['demand']"
   ]
  },
  {
   "cell_type": "code",
   "execution_count": 22,
   "metadata": {},
   "outputs": [
    {
     "data": {
      "text/plain": [
       "0         0\n",
       "1         0\n",
       "2         0\n",
       "3         2\n",
       "4         0\n",
       "         ..\n",
       "823225    1\n",
       "823226    1\n",
       "823227    0\n",
       "823228    1\n",
       "823229    5\n",
       "Name: demand, Length: 823230, dtype: int64"
      ]
     },
     "execution_count": 22,
     "metadata": {},
     "output_type": "execute_result"
    }
   ],
   "source": [
    "Y_test"
   ]
  },
  {
   "cell_type": "code",
   "execution_count": 29,
   "metadata": {},
   "outputs": [],
   "source": [
    "Y = pd.concat([Y_test, Y_pred], axis=1)"
   ]
  },
  {
   "cell_type": "code",
   "execution_count": 31,
   "metadata": {},
   "outputs": [],
   "source": [
    "col_names = ['actual', 'prediction']\n",
    "\n",
    "Y.columns = col_names"
   ]
  },
  {
   "cell_type": "code",
   "execution_count": 32,
   "metadata": {},
   "outputs": [
    {
     "data": {
      "text/html": [
       "<div>\n",
       "<style scoped>\n",
       "    .dataframe tbody tr th:only-of-type {\n",
       "        vertical-align: middle;\n",
       "    }\n",
       "\n",
       "    .dataframe tbody tr th {\n",
       "        vertical-align: top;\n",
       "    }\n",
       "\n",
       "    .dataframe thead th {\n",
       "        text-align: right;\n",
       "    }\n",
       "</style>\n",
       "<table border=\"1\" class=\"dataframe\">\n",
       "  <thead>\n",
       "    <tr style=\"text-align: right;\">\n",
       "      <th></th>\n",
       "      <th>actual</th>\n",
       "      <th>prediction</th>\n",
       "    </tr>\n",
       "  </thead>\n",
       "  <tbody>\n",
       "    <tr>\n",
       "      <th>0</th>\n",
       "      <td>0</td>\n",
       "      <td>0.471162</td>\n",
       "    </tr>\n",
       "    <tr>\n",
       "      <th>1</th>\n",
       "      <td>0</td>\n",
       "      <td>0.517790</td>\n",
       "    </tr>\n",
       "    <tr>\n",
       "      <th>2</th>\n",
       "      <td>0</td>\n",
       "      <td>0.536669</td>\n",
       "    </tr>\n",
       "    <tr>\n",
       "      <th>3</th>\n",
       "      <td>2</td>\n",
       "      <td>0.517790</td>\n",
       "    </tr>\n",
       "    <tr>\n",
       "      <th>4</th>\n",
       "      <td>0</td>\n",
       "      <td>0.471162</td>\n",
       "    </tr>\n",
       "    <tr>\n",
       "      <th>...</th>\n",
       "      <td>...</td>\n",
       "      <td>...</td>\n",
       "    </tr>\n",
       "    <tr>\n",
       "      <th>823225</th>\n",
       "      <td>1</td>\n",
       "      <td>1.077206</td>\n",
       "    </tr>\n",
       "    <tr>\n",
       "      <th>823226</th>\n",
       "      <td>1</td>\n",
       "      <td>0.504309</td>\n",
       "    </tr>\n",
       "    <tr>\n",
       "      <th>823227</th>\n",
       "      <td>0</td>\n",
       "      <td>1.342117</td>\n",
       "    </tr>\n",
       "    <tr>\n",
       "      <th>823228</th>\n",
       "      <td>1</td>\n",
       "      <td>1.404573</td>\n",
       "    </tr>\n",
       "    <tr>\n",
       "      <th>823229</th>\n",
       "      <td>5</td>\n",
       "      <td>3.025978</td>\n",
       "    </tr>\n",
       "  </tbody>\n",
       "</table>\n",
       "<p>823230 rows × 2 columns</p>\n",
       "</div>"
      ],
      "text/plain": [
       "        actual  prediction\n",
       "0            0    0.471162\n",
       "1            0    0.517790\n",
       "2            0    0.536669\n",
       "3            2    0.517790\n",
       "4            0    0.471162\n",
       "...        ...         ...\n",
       "823225       1    1.077206\n",
       "823226       1    0.504309\n",
       "823227       0    1.342117\n",
       "823228       1    1.404573\n",
       "823229       5    3.025978\n",
       "\n",
       "[823230 rows x 2 columns]"
      ]
     },
     "execution_count": 32,
     "metadata": {},
     "output_type": "execute_result"
    }
   ],
   "source": [
    "Y"
   ]
  },
  {
   "cell_type": "code",
   "execution_count": 33,
   "metadata": {},
   "outputs": [],
   "source": [
    "from sklearn.metrics import mean_squared_error"
   ]
  },
  {
   "cell_type": "code",
   "execution_count": 34,
   "metadata": {},
   "outputs": [
    {
     "data": {
      "text/plain": [
       "6.131172588601535"
      ]
     },
     "execution_count": 34,
     "metadata": {},
     "output_type": "execute_result"
    }
   ],
   "source": [
    "mean_squared_error(Y_test, Y_pred)"
   ]
  },
  {
   "cell_type": "code",
   "execution_count": null,
   "metadata": {},
   "outputs": [],
   "source": []
  }
 ],
 "metadata": {
  "accelerator": "GPU",
  "colab": {
   "collapsed_sections": [],
   "machine_shape": "hm",
   "name": "lgbm.ipynb",
   "provenance": [
    {
     "file_id": "1GqZu6zmCy2vMNMZqO78DDuHvwv_9vJcp",
     "timestamp": 1594563549946
    },
    {
     "file_id": "1IzPbxNFQmmSYk9s14L4YjBfUgACn9mW2",
     "timestamp": 1593978024316
    },
    {
     "file_id": "1G7NKeneJNyRtcRxLVbbF9jYtRyuTOa-R",
     "timestamp": 1592749700622
    },
    {
     "file_id": "https://github.com/satyajitghana/TSAI-DeepVision-EVA4.0/blob/master/Utils/Colab_25GBRAM_GPU.ipynb",
     "timestamp": 1592043804148
    }
   ]
  },
  "kernelspec": {
   "display_name": "conda_mxnet_p36",
   "language": "python",
   "name": "conda_mxnet_p36"
  },
  "language_info": {
   "codemirror_mode": {
    "name": "ipython",
    "version": 3
   },
   "file_extension": ".py",
   "mimetype": "text/x-python",
   "name": "python",
   "nbconvert_exporter": "python",
   "pygments_lexer": "ipython3",
   "version": "3.6.13"
  }
 },
 "nbformat": 4,
 "nbformat_minor": 4
}
