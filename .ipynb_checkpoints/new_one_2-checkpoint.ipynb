{
 "cells": [
  {
   "cell_type": "markdown",
   "metadata": {
    "colab_type": "text",
    "id": "4cbgwZWWfWpp"
   },
   "source": [
    "# New Section"
   ]
  },
  {
   "cell_type": "code",
   "execution_count": 1,
   "metadata": {
    "colab": {
     "base_uri": "https://localhost:8080/",
     "height": 35
    },
    "colab_type": "code",
    "executionInfo": {
     "elapsed": 27835,
     "status": "ok",
     "timestamp": 1600549871509,
     "user": {
      "displayName": "Lokesh Gupta",
      "photoUrl": "https://lh3.googleusercontent.com/a-/AOh14Gji9BLG_yBHzfpNsVF1-hq2O8seojfrBmtSDr9g=s64",
      "userId": "00605890011976979562"
     },
     "user_tz": -330
    },
    "id": "_ikfKYQ1l0kG",
    "outputId": "107ba458-f057-42f2-d817-e1c9e0eb92e4"
   },
   "outputs": [],
   "source": [
    "%matplotlib inline\n",
    "\n",
    "import sys\n",
    "import os\n",
    "\n",
    "import numpy as np\n",
    "import pandas as pd\n",
    "\n",
    "import matplotlib.pyplot as plt\n",
    "import plotly.express as px\n",
    "import plotly.graph_objects as go\n",
    "import seaborn as sns\n",
    "\n",
    "\n",
    "import sklearn.model_selection\n",
    "\n",
    "\n",
    "\n",
    "\n",
    "from tqdm import tqdm\n",
    "import random \n",
    "import datetime\n",
    "\n",
    "import joblib\n",
    "import pickle\n",
    "\n",
    "\n",
    "import random \n",
    "import datetime\n",
    "\n",
    "\n",
    "'''\n",
    "#LOCAL\n",
    "ROOT_DIR = os.path.expanduser('~')\n",
    "\n",
    "folder = ROOT_DIR + '/Downloads/m5-forecasting-accuracy/'\n",
    "\n",
    "calendar = pd.read_csv(folder+'calendar.csv')\n",
    "sales_train_evaluation = pd.read_csv(folder+'sales_train_evaluation.csv')\n",
    "sales_train_validation = pd.read_csv(folder+'sales_train_validation.csv')\n",
    "sample_submission = pd.read_csv(folder+'sample_submission.csv')\n",
    "sell_prices = pd.read_csv(folder+'sell_prices.csv')\n",
    "'''\n",
    "\n",
    "\n",
    "#'''\n",
    "#SAGEMAKER:\n",
    "#!conda install -c conda-forge lightgbm\n",
    "\n",
    "import boto3\n",
    "import sagemaker\n",
    "from sagemaker import get_execution_role\n",
    "\n",
    "\n",
    "# sagemaker session, role\n",
    "sagemaker_session = sagemaker.Session()\n",
    "role = sagemaker.get_execution_role()\n",
    "\n",
    "\n",
    "# S3 bucket name\n",
    "bucket = 'm5-forecasting-accuracy'\n",
    "subfolder = ''\n",
    "conn = boto3.client('s3')\n",
    "contents = conn.list_objects(Bucket=bucket, Prefix=subfolder)['Contents']\n",
    "\n",
    "#calendar = pd.read_csv('s3://{}/{}'.format(bucket, 'calendar.csv'))\n",
    "#sales_train_evaluation = pd.read_csv('s3://{}/{}'.format(bucket, 'sales_train_evaluation.csv'))\n",
    "#sales_train_validation = pd.read_csv('s3://{}/{}'.format(bucket, 'sales_train_validation.csv'))\n",
    "#sample_submission = pd.read_csv('s3://{}/{}'.format(bucket, 'sample_submission.csv'))\n",
    "#sell_prices = pd.read_csv('s3://{}/{}'.format(bucket, 'sell_prices.csv'))\n",
    "#'''\n",
    "key='df_melt.pkl'\n",
    "s3 = boto3.resource('s3')\n",
    "df_melt = pickle.loads(s3.Bucket(\"bucket\").Object(key).get()['Body'].read())"
   ]
  },
  {
   "cell_type": "markdown",
   "metadata": {
    "colab_type": "text",
    "id": "ZeTnhH4n2W0H"
   },
   "source": [
    "**Load the data**"
   ]
  },
  {
   "cell_type": "code",
   "execution_count": 2,
   "metadata": {
    "colab": {},
    "colab_type": "code",
    "executionInfo": {
     "elapsed": 10952,
     "status": "ok",
     "timestamp": 1600549935304,
     "user": {
      "displayName": "Lokesh Gupta",
      "photoUrl": "https://lh3.googleusercontent.com/a-/AOh14Gji9BLG_yBHzfpNsVF1-hq2O8seojfrBmtSDr9g=s64",
      "userId": "00605890011976979562"
     },
     "user_tz": -330
    },
    "id": "_09KK2vTFlEz"
   },
   "outputs": [],
   "source": [
    "sales = sales_train_evaluation\n",
    "price = sell_prices\n",
    "cal = calendar"
   ]
  },
  {
   "cell_type": "code",
   "execution_count": 10,
   "metadata": {},
   "outputs": [
    {
     "data": {
      "text/html": [
       "<div>\n",
       "<style scoped>\n",
       "    .dataframe tbody tr th:only-of-type {\n",
       "        vertical-align: middle;\n",
       "    }\n",
       "\n",
       "    .dataframe tbody tr th {\n",
       "        vertical-align: top;\n",
       "    }\n",
       "\n",
       "    .dataframe thead th {\n",
       "        text-align: right;\n",
       "    }\n",
       "</style>\n",
       "<table border=\"1\" class=\"dataframe\">\n",
       "  <thead>\n",
       "    <tr style=\"text-align: right;\">\n",
       "      <th></th>\n",
       "      <th>id</th>\n",
       "      <th>item_id</th>\n",
       "      <th>dept_id</th>\n",
       "      <th>cat_id</th>\n",
       "      <th>store_id</th>\n",
       "      <th>state_id</th>\n",
       "      <th>d_1</th>\n",
       "      <th>d_2</th>\n",
       "      <th>d_3</th>\n",
       "      <th>d_4</th>\n",
       "      <th>...</th>\n",
       "      <th>d_1960</th>\n",
       "      <th>d_1961</th>\n",
       "      <th>d_1962</th>\n",
       "      <th>d_1963</th>\n",
       "      <th>d_1964</th>\n",
       "      <th>d_1965</th>\n",
       "      <th>d_1966</th>\n",
       "      <th>d_1967</th>\n",
       "      <th>d_1968</th>\n",
       "      <th>d_1969</th>\n",
       "    </tr>\n",
       "  </thead>\n",
       "  <tbody>\n",
       "    <tr>\n",
       "      <th>0</th>\n",
       "      <td>HOBBIES_1_001_CA_1_evaluation</td>\n",
       "      <td>HOBBIES_1_001</td>\n",
       "      <td>HOBBIES_1</td>\n",
       "      <td>HOBBIES</td>\n",
       "      <td>CA_1</td>\n",
       "      <td>CA</td>\n",
       "      <td>0</td>\n",
       "      <td>0</td>\n",
       "      <td>0</td>\n",
       "      <td>0</td>\n",
       "      <td>...</td>\n",
       "      <td>0</td>\n",
       "      <td>0</td>\n",
       "      <td>0</td>\n",
       "      <td>0</td>\n",
       "      <td>0</td>\n",
       "      <td>0</td>\n",
       "      <td>0</td>\n",
       "      <td>0</td>\n",
       "      <td>0</td>\n",
       "      <td>0</td>\n",
       "    </tr>\n",
       "    <tr>\n",
       "      <th>1</th>\n",
       "      <td>HOBBIES_1_002_CA_1_evaluation</td>\n",
       "      <td>HOBBIES_1_002</td>\n",
       "      <td>HOBBIES_1</td>\n",
       "      <td>HOBBIES</td>\n",
       "      <td>CA_1</td>\n",
       "      <td>CA</td>\n",
       "      <td>0</td>\n",
       "      <td>0</td>\n",
       "      <td>0</td>\n",
       "      <td>0</td>\n",
       "      <td>...</td>\n",
       "      <td>0</td>\n",
       "      <td>0</td>\n",
       "      <td>0</td>\n",
       "      <td>0</td>\n",
       "      <td>0</td>\n",
       "      <td>0</td>\n",
       "      <td>0</td>\n",
       "      <td>0</td>\n",
       "      <td>0</td>\n",
       "      <td>0</td>\n",
       "    </tr>\n",
       "    <tr>\n",
       "      <th>2</th>\n",
       "      <td>HOBBIES_1_003_CA_1_evaluation</td>\n",
       "      <td>HOBBIES_1_003</td>\n",
       "      <td>HOBBIES_1</td>\n",
       "      <td>HOBBIES</td>\n",
       "      <td>CA_1</td>\n",
       "      <td>CA</td>\n",
       "      <td>0</td>\n",
       "      <td>0</td>\n",
       "      <td>0</td>\n",
       "      <td>0</td>\n",
       "      <td>...</td>\n",
       "      <td>0</td>\n",
       "      <td>0</td>\n",
       "      <td>0</td>\n",
       "      <td>0</td>\n",
       "      <td>0</td>\n",
       "      <td>0</td>\n",
       "      <td>0</td>\n",
       "      <td>0</td>\n",
       "      <td>0</td>\n",
       "      <td>0</td>\n",
       "    </tr>\n",
       "    <tr>\n",
       "      <th>3</th>\n",
       "      <td>HOBBIES_1_004_CA_1_evaluation</td>\n",
       "      <td>HOBBIES_1_004</td>\n",
       "      <td>HOBBIES_1</td>\n",
       "      <td>HOBBIES</td>\n",
       "      <td>CA_1</td>\n",
       "      <td>CA</td>\n",
       "      <td>0</td>\n",
       "      <td>0</td>\n",
       "      <td>0</td>\n",
       "      <td>0</td>\n",
       "      <td>...</td>\n",
       "      <td>0</td>\n",
       "      <td>0</td>\n",
       "      <td>0</td>\n",
       "      <td>0</td>\n",
       "      <td>0</td>\n",
       "      <td>0</td>\n",
       "      <td>0</td>\n",
       "      <td>0</td>\n",
       "      <td>0</td>\n",
       "      <td>0</td>\n",
       "    </tr>\n",
       "    <tr>\n",
       "      <th>4</th>\n",
       "      <td>HOBBIES_1_005_CA_1_evaluation</td>\n",
       "      <td>HOBBIES_1_005</td>\n",
       "      <td>HOBBIES_1</td>\n",
       "      <td>HOBBIES</td>\n",
       "      <td>CA_1</td>\n",
       "      <td>CA</td>\n",
       "      <td>0</td>\n",
       "      <td>0</td>\n",
       "      <td>0</td>\n",
       "      <td>0</td>\n",
       "      <td>...</td>\n",
       "      <td>0</td>\n",
       "      <td>0</td>\n",
       "      <td>0</td>\n",
       "      <td>0</td>\n",
       "      <td>0</td>\n",
       "      <td>0</td>\n",
       "      <td>0</td>\n",
       "      <td>0</td>\n",
       "      <td>0</td>\n",
       "      <td>0</td>\n",
       "    </tr>\n",
       "    <tr>\n",
       "      <th>...</th>\n",
       "      <td>...</td>\n",
       "      <td>...</td>\n",
       "      <td>...</td>\n",
       "      <td>...</td>\n",
       "      <td>...</td>\n",
       "      <td>...</td>\n",
       "      <td>...</td>\n",
       "      <td>...</td>\n",
       "      <td>...</td>\n",
       "      <td>...</td>\n",
       "      <td>...</td>\n",
       "      <td>...</td>\n",
       "      <td>...</td>\n",
       "      <td>...</td>\n",
       "      <td>...</td>\n",
       "      <td>...</td>\n",
       "      <td>...</td>\n",
       "      <td>...</td>\n",
       "      <td>...</td>\n",
       "      <td>...</td>\n",
       "      <td>...</td>\n",
       "    </tr>\n",
       "    <tr>\n",
       "      <th>30485</th>\n",
       "      <td>FOODS_3_823_WI_3_evaluation</td>\n",
       "      <td>FOODS_3_823</td>\n",
       "      <td>FOODS_3</td>\n",
       "      <td>FOODS</td>\n",
       "      <td>WI_3</td>\n",
       "      <td>WI</td>\n",
       "      <td>0</td>\n",
       "      <td>0</td>\n",
       "      <td>2</td>\n",
       "      <td>2</td>\n",
       "      <td>...</td>\n",
       "      <td>0</td>\n",
       "      <td>0</td>\n",
       "      <td>0</td>\n",
       "      <td>0</td>\n",
       "      <td>0</td>\n",
       "      <td>0</td>\n",
       "      <td>0</td>\n",
       "      <td>0</td>\n",
       "      <td>0</td>\n",
       "      <td>0</td>\n",
       "    </tr>\n",
       "    <tr>\n",
       "      <th>30486</th>\n",
       "      <td>FOODS_3_824_WI_3_evaluation</td>\n",
       "      <td>FOODS_3_824</td>\n",
       "      <td>FOODS_3</td>\n",
       "      <td>FOODS</td>\n",
       "      <td>WI_3</td>\n",
       "      <td>WI</td>\n",
       "      <td>0</td>\n",
       "      <td>0</td>\n",
       "      <td>0</td>\n",
       "      <td>0</td>\n",
       "      <td>...</td>\n",
       "      <td>0</td>\n",
       "      <td>0</td>\n",
       "      <td>0</td>\n",
       "      <td>0</td>\n",
       "      <td>0</td>\n",
       "      <td>0</td>\n",
       "      <td>0</td>\n",
       "      <td>0</td>\n",
       "      <td>0</td>\n",
       "      <td>0</td>\n",
       "    </tr>\n",
       "    <tr>\n",
       "      <th>30487</th>\n",
       "      <td>FOODS_3_825_WI_3_evaluation</td>\n",
       "      <td>FOODS_3_825</td>\n",
       "      <td>FOODS_3</td>\n",
       "      <td>FOODS</td>\n",
       "      <td>WI_3</td>\n",
       "      <td>WI</td>\n",
       "      <td>0</td>\n",
       "      <td>6</td>\n",
       "      <td>0</td>\n",
       "      <td>2</td>\n",
       "      <td>...</td>\n",
       "      <td>0</td>\n",
       "      <td>0</td>\n",
       "      <td>0</td>\n",
       "      <td>0</td>\n",
       "      <td>0</td>\n",
       "      <td>0</td>\n",
       "      <td>0</td>\n",
       "      <td>0</td>\n",
       "      <td>0</td>\n",
       "      <td>0</td>\n",
       "    </tr>\n",
       "    <tr>\n",
       "      <th>30488</th>\n",
       "      <td>FOODS_3_826_WI_3_evaluation</td>\n",
       "      <td>FOODS_3_826</td>\n",
       "      <td>FOODS_3</td>\n",
       "      <td>FOODS</td>\n",
       "      <td>WI_3</td>\n",
       "      <td>WI</td>\n",
       "      <td>0</td>\n",
       "      <td>0</td>\n",
       "      <td>0</td>\n",
       "      <td>0</td>\n",
       "      <td>...</td>\n",
       "      <td>0</td>\n",
       "      <td>0</td>\n",
       "      <td>0</td>\n",
       "      <td>0</td>\n",
       "      <td>0</td>\n",
       "      <td>0</td>\n",
       "      <td>0</td>\n",
       "      <td>0</td>\n",
       "      <td>0</td>\n",
       "      <td>0</td>\n",
       "    </tr>\n",
       "    <tr>\n",
       "      <th>30489</th>\n",
       "      <td>FOODS_3_827_WI_3_evaluation</td>\n",
       "      <td>FOODS_3_827</td>\n",
       "      <td>FOODS_3</td>\n",
       "      <td>FOODS</td>\n",
       "      <td>WI_3</td>\n",
       "      <td>WI</td>\n",
       "      <td>0</td>\n",
       "      <td>0</td>\n",
       "      <td>0</td>\n",
       "      <td>0</td>\n",
       "      <td>...</td>\n",
       "      <td>0</td>\n",
       "      <td>0</td>\n",
       "      <td>0</td>\n",
       "      <td>0</td>\n",
       "      <td>0</td>\n",
       "      <td>0</td>\n",
       "      <td>0</td>\n",
       "      <td>0</td>\n",
       "      <td>0</td>\n",
       "      <td>0</td>\n",
       "    </tr>\n",
       "  </tbody>\n",
       "</table>\n",
       "<p>30490 rows × 1975 columns</p>\n",
       "</div>"
      ],
      "text/plain": [
       "                                  id        item_id    dept_id   cat_id  \\\n",
       "0      HOBBIES_1_001_CA_1_evaluation  HOBBIES_1_001  HOBBIES_1  HOBBIES   \n",
       "1      HOBBIES_1_002_CA_1_evaluation  HOBBIES_1_002  HOBBIES_1  HOBBIES   \n",
       "2      HOBBIES_1_003_CA_1_evaluation  HOBBIES_1_003  HOBBIES_1  HOBBIES   \n",
       "3      HOBBIES_1_004_CA_1_evaluation  HOBBIES_1_004  HOBBIES_1  HOBBIES   \n",
       "4      HOBBIES_1_005_CA_1_evaluation  HOBBIES_1_005  HOBBIES_1  HOBBIES   \n",
       "...                              ...            ...        ...      ...   \n",
       "30485    FOODS_3_823_WI_3_evaluation    FOODS_3_823    FOODS_3    FOODS   \n",
       "30486    FOODS_3_824_WI_3_evaluation    FOODS_3_824    FOODS_3    FOODS   \n",
       "30487    FOODS_3_825_WI_3_evaluation    FOODS_3_825    FOODS_3    FOODS   \n",
       "30488    FOODS_3_826_WI_3_evaluation    FOODS_3_826    FOODS_3    FOODS   \n",
       "30489    FOODS_3_827_WI_3_evaluation    FOODS_3_827    FOODS_3    FOODS   \n",
       "\n",
       "      store_id state_id  d_1  d_2  d_3  d_4  ...  d_1960  d_1961  d_1962  \\\n",
       "0         CA_1       CA    0    0    0    0  ...       0       0       0   \n",
       "1         CA_1       CA    0    0    0    0  ...       0       0       0   \n",
       "2         CA_1       CA    0    0    0    0  ...       0       0       0   \n",
       "3         CA_1       CA    0    0    0    0  ...       0       0       0   \n",
       "4         CA_1       CA    0    0    0    0  ...       0       0       0   \n",
       "...        ...      ...  ...  ...  ...  ...  ...     ...     ...     ...   \n",
       "30485     WI_3       WI    0    0    2    2  ...       0       0       0   \n",
       "30486     WI_3       WI    0    0    0    0  ...       0       0       0   \n",
       "30487     WI_3       WI    0    6    0    2  ...       0       0       0   \n",
       "30488     WI_3       WI    0    0    0    0  ...       0       0       0   \n",
       "30489     WI_3       WI    0    0    0    0  ...       0       0       0   \n",
       "\n",
       "       d_1963  d_1964  d_1965  d_1966  d_1967  d_1968  d_1969  \n",
       "0           0       0       0       0       0       0       0  \n",
       "1           0       0       0       0       0       0       0  \n",
       "2           0       0       0       0       0       0       0  \n",
       "3           0       0       0       0       0       0       0  \n",
       "4           0       0       0       0       0       0       0  \n",
       "...       ...     ...     ...     ...     ...     ...     ...  \n",
       "30485       0       0       0       0       0       0       0  \n",
       "30486       0       0       0       0       0       0       0  \n",
       "30487       0       0       0       0       0       0       0  \n",
       "30488       0       0       0       0       0       0       0  \n",
       "30489       0       0       0       0       0       0       0  \n",
       "\n",
       "[30490 rows x 1975 columns]"
      ]
     },
     "execution_count": 10,
     "metadata": {},
     "output_type": "execute_result"
    }
   ],
   "source": [
    "sales"
   ]
  },
  {
   "cell_type": "markdown",
   "metadata": {
    "colab_type": "text",
    "id": "weSeaIMP2lfc"
   },
   "source": [
    "**data preprocessing**"
   ]
  },
  {
   "cell_type": "code",
   "execution_count": 11,
   "metadata": {
    "colab": {},
    "colab_type": "code",
    "id": "kYb78YQBlL1k"
   },
   "outputs": [],
   "source": [
    "#https://www.kaggle.com/anshuls235/time-series-forecasting-eda-fe-modelling/notebook#2.-Downcasting\n",
    "\n",
    "def downcast(df):\n",
    "\n",
    "    cols = df.dtypes.index.tolist()\n",
    "    types = df.dtypes.values.tolist()\n",
    "\n",
    "    for i,t in enumerate(types):\n",
    "\n",
    "        if 'int' in str(t):\n",
    "            if df[cols[i]].min() > np.iinfo(np.int8).min and df[cols[i]].max() < np.iinfo(np.int8).max:\n",
    "                df[cols[i]] = df[cols[i]].astype(np.int8)\n",
    "            elif df[cols[i]].min() > np.iinfo(np.int16).min and df[cols[i]].max() < np.iinfo(np.int16).max:\n",
    "                df[cols[i]] = df[cols[i]].astype(np.int16)\n",
    "            elif df[cols[i]].min() > np.iinfo(np.int32).min and df[cols[i]].max() < np.iinfo(np.int32).max:\n",
    "                df[cols[i]] = df[cols[i]].astype(np.int32)\n",
    "            else:\n",
    "                df[cols[i]] = df[cols[i]].astype(np.int64)\n",
    "\n",
    "        elif 'float' in str(t):\n",
    "            if df[cols[i]].min() > np.finfo(np.float16).min and df[cols[i]].max() < np.finfo(np.float16).max:\n",
    "                df[cols[i]] = df[cols[i]].astype(np.float16)\n",
    "            elif df[cols[i]].min() > np.finfo(np.float32).min and df[cols[i]].max() < np.finfo(np.float32).max:\n",
    "                df[cols[i]] = df[cols[i]].astype(np.float32)\n",
    "            else:\n",
    "                df[cols[i]] = df[cols[i]].astype(np.float64)\n",
    "\n",
    "        elif t == np.object:\n",
    "            if cols[i] == 'date':\n",
    "                df[cols[i]] = pd.to_datetime(df[cols[i]], format='%Y-%m-%d')\n",
    "            else:\n",
    "                df[cols[i]] = df[cols[i]].astype('category')\n",
    "\n",
    "    return df  "
   ]
  },
  {
   "cell_type": "code",
   "execution_count": 5,
   "metadata": {
    "colab": {},
    "colab_type": "code",
    "id": "yufQ8mAflL46"
   },
   "outputs": [],
   "source": [
    "sales = downcast(sales)\n",
    "cal = downcast(cal)\n",
    "price = downcast(price)"
   ]
  },
  {
   "cell_type": "code",
   "execution_count": 12,
   "metadata": {},
   "outputs": [
    {
     "data": {
      "text/html": [
       "<div>\n",
       "<style scoped>\n",
       "    .dataframe tbody tr th:only-of-type {\n",
       "        vertical-align: middle;\n",
       "    }\n",
       "\n",
       "    .dataframe tbody tr th {\n",
       "        vertical-align: top;\n",
       "    }\n",
       "\n",
       "    .dataframe thead th {\n",
       "        text-align: right;\n",
       "    }\n",
       "</style>\n",
       "<table border=\"1\" class=\"dataframe\">\n",
       "  <thead>\n",
       "    <tr style=\"text-align: right;\">\n",
       "      <th></th>\n",
       "      <th>id</th>\n",
       "      <th>item_id</th>\n",
       "      <th>dept_id</th>\n",
       "      <th>cat_id</th>\n",
       "      <th>store_id</th>\n",
       "      <th>state_id</th>\n",
       "      <th>d_1</th>\n",
       "      <th>d_2</th>\n",
       "      <th>d_3</th>\n",
       "      <th>d_4</th>\n",
       "      <th>...</th>\n",
       "      <th>d_1960</th>\n",
       "      <th>d_1961</th>\n",
       "      <th>d_1962</th>\n",
       "      <th>d_1963</th>\n",
       "      <th>d_1964</th>\n",
       "      <th>d_1965</th>\n",
       "      <th>d_1966</th>\n",
       "      <th>d_1967</th>\n",
       "      <th>d_1968</th>\n",
       "      <th>d_1969</th>\n",
       "    </tr>\n",
       "  </thead>\n",
       "  <tbody>\n",
       "    <tr>\n",
       "      <th>0</th>\n",
       "      <td>HOBBIES_1_001_CA_1_evaluation</td>\n",
       "      <td>HOBBIES_1_001</td>\n",
       "      <td>HOBBIES_1</td>\n",
       "      <td>HOBBIES</td>\n",
       "      <td>CA_1</td>\n",
       "      <td>CA</td>\n",
       "      <td>0</td>\n",
       "      <td>0</td>\n",
       "      <td>0</td>\n",
       "      <td>0</td>\n",
       "      <td>...</td>\n",
       "      <td>0</td>\n",
       "      <td>0</td>\n",
       "      <td>0</td>\n",
       "      <td>0</td>\n",
       "      <td>0</td>\n",
       "      <td>0</td>\n",
       "      <td>0</td>\n",
       "      <td>0</td>\n",
       "      <td>0</td>\n",
       "      <td>0</td>\n",
       "    </tr>\n",
       "    <tr>\n",
       "      <th>1</th>\n",
       "      <td>HOBBIES_1_002_CA_1_evaluation</td>\n",
       "      <td>HOBBIES_1_002</td>\n",
       "      <td>HOBBIES_1</td>\n",
       "      <td>HOBBIES</td>\n",
       "      <td>CA_1</td>\n",
       "      <td>CA</td>\n",
       "      <td>0</td>\n",
       "      <td>0</td>\n",
       "      <td>0</td>\n",
       "      <td>0</td>\n",
       "      <td>...</td>\n",
       "      <td>0</td>\n",
       "      <td>0</td>\n",
       "      <td>0</td>\n",
       "      <td>0</td>\n",
       "      <td>0</td>\n",
       "      <td>0</td>\n",
       "      <td>0</td>\n",
       "      <td>0</td>\n",
       "      <td>0</td>\n",
       "      <td>0</td>\n",
       "    </tr>\n",
       "    <tr>\n",
       "      <th>2</th>\n",
       "      <td>HOBBIES_1_003_CA_1_evaluation</td>\n",
       "      <td>HOBBIES_1_003</td>\n",
       "      <td>HOBBIES_1</td>\n",
       "      <td>HOBBIES</td>\n",
       "      <td>CA_1</td>\n",
       "      <td>CA</td>\n",
       "      <td>0</td>\n",
       "      <td>0</td>\n",
       "      <td>0</td>\n",
       "      <td>0</td>\n",
       "      <td>...</td>\n",
       "      <td>0</td>\n",
       "      <td>0</td>\n",
       "      <td>0</td>\n",
       "      <td>0</td>\n",
       "      <td>0</td>\n",
       "      <td>0</td>\n",
       "      <td>0</td>\n",
       "      <td>0</td>\n",
       "      <td>0</td>\n",
       "      <td>0</td>\n",
       "    </tr>\n",
       "    <tr>\n",
       "      <th>3</th>\n",
       "      <td>HOBBIES_1_004_CA_1_evaluation</td>\n",
       "      <td>HOBBIES_1_004</td>\n",
       "      <td>HOBBIES_1</td>\n",
       "      <td>HOBBIES</td>\n",
       "      <td>CA_1</td>\n",
       "      <td>CA</td>\n",
       "      <td>0</td>\n",
       "      <td>0</td>\n",
       "      <td>0</td>\n",
       "      <td>0</td>\n",
       "      <td>...</td>\n",
       "      <td>0</td>\n",
       "      <td>0</td>\n",
       "      <td>0</td>\n",
       "      <td>0</td>\n",
       "      <td>0</td>\n",
       "      <td>0</td>\n",
       "      <td>0</td>\n",
       "      <td>0</td>\n",
       "      <td>0</td>\n",
       "      <td>0</td>\n",
       "    </tr>\n",
       "    <tr>\n",
       "      <th>4</th>\n",
       "      <td>HOBBIES_1_005_CA_1_evaluation</td>\n",
       "      <td>HOBBIES_1_005</td>\n",
       "      <td>HOBBIES_1</td>\n",
       "      <td>HOBBIES</td>\n",
       "      <td>CA_1</td>\n",
       "      <td>CA</td>\n",
       "      <td>0</td>\n",
       "      <td>0</td>\n",
       "      <td>0</td>\n",
       "      <td>0</td>\n",
       "      <td>...</td>\n",
       "      <td>0</td>\n",
       "      <td>0</td>\n",
       "      <td>0</td>\n",
       "      <td>0</td>\n",
       "      <td>0</td>\n",
       "      <td>0</td>\n",
       "      <td>0</td>\n",
       "      <td>0</td>\n",
       "      <td>0</td>\n",
       "      <td>0</td>\n",
       "    </tr>\n",
       "    <tr>\n",
       "      <th>...</th>\n",
       "      <td>...</td>\n",
       "      <td>...</td>\n",
       "      <td>...</td>\n",
       "      <td>...</td>\n",
       "      <td>...</td>\n",
       "      <td>...</td>\n",
       "      <td>...</td>\n",
       "      <td>...</td>\n",
       "      <td>...</td>\n",
       "      <td>...</td>\n",
       "      <td>...</td>\n",
       "      <td>...</td>\n",
       "      <td>...</td>\n",
       "      <td>...</td>\n",
       "      <td>...</td>\n",
       "      <td>...</td>\n",
       "      <td>...</td>\n",
       "      <td>...</td>\n",
       "      <td>...</td>\n",
       "      <td>...</td>\n",
       "      <td>...</td>\n",
       "    </tr>\n",
       "    <tr>\n",
       "      <th>30485</th>\n",
       "      <td>FOODS_3_823_WI_3_evaluation</td>\n",
       "      <td>FOODS_3_823</td>\n",
       "      <td>FOODS_3</td>\n",
       "      <td>FOODS</td>\n",
       "      <td>WI_3</td>\n",
       "      <td>WI</td>\n",
       "      <td>0</td>\n",
       "      <td>0</td>\n",
       "      <td>2</td>\n",
       "      <td>2</td>\n",
       "      <td>...</td>\n",
       "      <td>0</td>\n",
       "      <td>0</td>\n",
       "      <td>0</td>\n",
       "      <td>0</td>\n",
       "      <td>0</td>\n",
       "      <td>0</td>\n",
       "      <td>0</td>\n",
       "      <td>0</td>\n",
       "      <td>0</td>\n",
       "      <td>0</td>\n",
       "    </tr>\n",
       "    <tr>\n",
       "      <th>30486</th>\n",
       "      <td>FOODS_3_824_WI_3_evaluation</td>\n",
       "      <td>FOODS_3_824</td>\n",
       "      <td>FOODS_3</td>\n",
       "      <td>FOODS</td>\n",
       "      <td>WI_3</td>\n",
       "      <td>WI</td>\n",
       "      <td>0</td>\n",
       "      <td>0</td>\n",
       "      <td>0</td>\n",
       "      <td>0</td>\n",
       "      <td>...</td>\n",
       "      <td>0</td>\n",
       "      <td>0</td>\n",
       "      <td>0</td>\n",
       "      <td>0</td>\n",
       "      <td>0</td>\n",
       "      <td>0</td>\n",
       "      <td>0</td>\n",
       "      <td>0</td>\n",
       "      <td>0</td>\n",
       "      <td>0</td>\n",
       "    </tr>\n",
       "    <tr>\n",
       "      <th>30487</th>\n",
       "      <td>FOODS_3_825_WI_3_evaluation</td>\n",
       "      <td>FOODS_3_825</td>\n",
       "      <td>FOODS_3</td>\n",
       "      <td>FOODS</td>\n",
       "      <td>WI_3</td>\n",
       "      <td>WI</td>\n",
       "      <td>0</td>\n",
       "      <td>6</td>\n",
       "      <td>0</td>\n",
       "      <td>2</td>\n",
       "      <td>...</td>\n",
       "      <td>0</td>\n",
       "      <td>0</td>\n",
       "      <td>0</td>\n",
       "      <td>0</td>\n",
       "      <td>0</td>\n",
       "      <td>0</td>\n",
       "      <td>0</td>\n",
       "      <td>0</td>\n",
       "      <td>0</td>\n",
       "      <td>0</td>\n",
       "    </tr>\n",
       "    <tr>\n",
       "      <th>30488</th>\n",
       "      <td>FOODS_3_826_WI_3_evaluation</td>\n",
       "      <td>FOODS_3_826</td>\n",
       "      <td>FOODS_3</td>\n",
       "      <td>FOODS</td>\n",
       "      <td>WI_3</td>\n",
       "      <td>WI</td>\n",
       "      <td>0</td>\n",
       "      <td>0</td>\n",
       "      <td>0</td>\n",
       "      <td>0</td>\n",
       "      <td>...</td>\n",
       "      <td>0</td>\n",
       "      <td>0</td>\n",
       "      <td>0</td>\n",
       "      <td>0</td>\n",
       "      <td>0</td>\n",
       "      <td>0</td>\n",
       "      <td>0</td>\n",
       "      <td>0</td>\n",
       "      <td>0</td>\n",
       "      <td>0</td>\n",
       "    </tr>\n",
       "    <tr>\n",
       "      <th>30489</th>\n",
       "      <td>FOODS_3_827_WI_3_evaluation</td>\n",
       "      <td>FOODS_3_827</td>\n",
       "      <td>FOODS_3</td>\n",
       "      <td>FOODS</td>\n",
       "      <td>WI_3</td>\n",
       "      <td>WI</td>\n",
       "      <td>0</td>\n",
       "      <td>0</td>\n",
       "      <td>0</td>\n",
       "      <td>0</td>\n",
       "      <td>...</td>\n",
       "      <td>0</td>\n",
       "      <td>0</td>\n",
       "      <td>0</td>\n",
       "      <td>0</td>\n",
       "      <td>0</td>\n",
       "      <td>0</td>\n",
       "      <td>0</td>\n",
       "      <td>0</td>\n",
       "      <td>0</td>\n",
       "      <td>0</td>\n",
       "    </tr>\n",
       "  </tbody>\n",
       "</table>\n",
       "<p>30490 rows × 1975 columns</p>\n",
       "</div>"
      ],
      "text/plain": [
       "                                  id        item_id    dept_id   cat_id  \\\n",
       "0      HOBBIES_1_001_CA_1_evaluation  HOBBIES_1_001  HOBBIES_1  HOBBIES   \n",
       "1      HOBBIES_1_002_CA_1_evaluation  HOBBIES_1_002  HOBBIES_1  HOBBIES   \n",
       "2      HOBBIES_1_003_CA_1_evaluation  HOBBIES_1_003  HOBBIES_1  HOBBIES   \n",
       "3      HOBBIES_1_004_CA_1_evaluation  HOBBIES_1_004  HOBBIES_1  HOBBIES   \n",
       "4      HOBBIES_1_005_CA_1_evaluation  HOBBIES_1_005  HOBBIES_1  HOBBIES   \n",
       "...                              ...            ...        ...      ...   \n",
       "30485    FOODS_3_823_WI_3_evaluation    FOODS_3_823    FOODS_3    FOODS   \n",
       "30486    FOODS_3_824_WI_3_evaluation    FOODS_3_824    FOODS_3    FOODS   \n",
       "30487    FOODS_3_825_WI_3_evaluation    FOODS_3_825    FOODS_3    FOODS   \n",
       "30488    FOODS_3_826_WI_3_evaluation    FOODS_3_826    FOODS_3    FOODS   \n",
       "30489    FOODS_3_827_WI_3_evaluation    FOODS_3_827    FOODS_3    FOODS   \n",
       "\n",
       "      store_id state_id  d_1  d_2  d_3  d_4  ...  d_1960  d_1961  d_1962  \\\n",
       "0         CA_1       CA    0    0    0    0  ...       0       0       0   \n",
       "1         CA_1       CA    0    0    0    0  ...       0       0       0   \n",
       "2         CA_1       CA    0    0    0    0  ...       0       0       0   \n",
       "3         CA_1       CA    0    0    0    0  ...       0       0       0   \n",
       "4         CA_1       CA    0    0    0    0  ...       0       0       0   \n",
       "...        ...      ...  ...  ...  ...  ...  ...     ...     ...     ...   \n",
       "30485     WI_3       WI    0    0    2    2  ...       0       0       0   \n",
       "30486     WI_3       WI    0    0    0    0  ...       0       0       0   \n",
       "30487     WI_3       WI    0    6    0    2  ...       0       0       0   \n",
       "30488     WI_3       WI    0    0    0    0  ...       0       0       0   \n",
       "30489     WI_3       WI    0    0    0    0  ...       0       0       0   \n",
       "\n",
       "       d_1963  d_1964  d_1965  d_1966  d_1967  d_1968  d_1969  \n",
       "0           0       0       0       0       0       0       0  \n",
       "1           0       0       0       0       0       0       0  \n",
       "2           0       0       0       0       0       0       0  \n",
       "3           0       0       0       0       0       0       0  \n",
       "4           0       0       0       0       0       0       0  \n",
       "...       ...     ...     ...     ...     ...     ...     ...  \n",
       "30485       0       0       0       0       0       0       0  \n",
       "30486       0       0       0       0       0       0       0  \n",
       "30487       0       0       0       0       0       0       0  \n",
       "30488       0       0       0       0       0       0       0  \n",
       "30489       0       0       0       0       0       0       0  \n",
       "\n",
       "[30490 rows x 1975 columns]"
      ]
     },
     "execution_count": 12,
     "metadata": {},
     "output_type": "execute_result"
    }
   ],
   "source": [
    "sales"
   ]
  },
  {
   "cell_type": "code",
   "execution_count": 7,
   "metadata": {
    "colab": {},
    "colab_type": "code",
    "id": "jKxhJyp7ZOo4"
   },
   "outputs": [
    {
     "name": "stdout",
     "output_type": "stream",
     "text": [
      "CPU times: user 2 µs, sys: 1e+03 ns, total: 3 µs\n",
      "Wall time: 4.77 µs\n"
     ]
    }
   ],
   "source": [
    "%time\n",
    "for day in range(1942,1970):\n",
    "  sales['d_' + str(day)] = 0\n",
    "  sales['d_' + str(day)] = sales['d_' + str(day)].astype(np.int16)"
   ]
  },
  {
   "cell_type": "code",
   "execution_count": 8,
   "metadata": {
    "colab": {},
    "colab_type": "code",
    "id": "7giXtw47mdyF"
   },
   "outputs": [
    {
     "name": "stdout",
     "output_type": "stream",
     "text": [
      "CPU times: user 1e+03 ns, sys: 1e+03 ns, total: 2 µs\n",
      "Wall time: 5.25 µs\n"
     ]
    }
   ],
   "source": [
    "%time\n",
    "df_melt = pd.melt(sales, id_vars=[a for a in sales.columns if a.find(\"id\")!=-1],\n",
    "                           value_vars=[a for a in sales.columns if a.find(\"d_\")==0], var_name='d', value_name='sales')"
   ]
  },
  {
   "cell_type": "code",
   "execution_count": 13,
   "metadata": {},
   "outputs": [
    {
     "data": {
      "text/html": [
       "<div>\n",
       "<style scoped>\n",
       "    .dataframe tbody tr th:only-of-type {\n",
       "        vertical-align: middle;\n",
       "    }\n",
       "\n",
       "    .dataframe tbody tr th {\n",
       "        vertical-align: top;\n",
       "    }\n",
       "\n",
       "    .dataframe thead th {\n",
       "        text-align: right;\n",
       "    }\n",
       "</style>\n",
       "<table border=\"1\" class=\"dataframe\">\n",
       "  <thead>\n",
       "    <tr style=\"text-align: right;\">\n",
       "      <th></th>\n",
       "      <th>id</th>\n",
       "      <th>item_id</th>\n",
       "      <th>dept_id</th>\n",
       "      <th>cat_id</th>\n",
       "      <th>store_id</th>\n",
       "      <th>state_id</th>\n",
       "      <th>d</th>\n",
       "      <th>sales</th>\n",
       "    </tr>\n",
       "  </thead>\n",
       "  <tbody>\n",
       "    <tr>\n",
       "      <th>0</th>\n",
       "      <td>HOBBIES_1_001_CA_1_evaluation</td>\n",
       "      <td>HOBBIES_1_001</td>\n",
       "      <td>HOBBIES_1</td>\n",
       "      <td>HOBBIES</td>\n",
       "      <td>CA_1</td>\n",
       "      <td>CA</td>\n",
       "      <td>d_1</td>\n",
       "      <td>0</td>\n",
       "    </tr>\n",
       "    <tr>\n",
       "      <th>1</th>\n",
       "      <td>HOBBIES_1_002_CA_1_evaluation</td>\n",
       "      <td>HOBBIES_1_002</td>\n",
       "      <td>HOBBIES_1</td>\n",
       "      <td>HOBBIES</td>\n",
       "      <td>CA_1</td>\n",
       "      <td>CA</td>\n",
       "      <td>d_1</td>\n",
       "      <td>0</td>\n",
       "    </tr>\n",
       "    <tr>\n",
       "      <th>2</th>\n",
       "      <td>HOBBIES_1_003_CA_1_evaluation</td>\n",
       "      <td>HOBBIES_1_003</td>\n",
       "      <td>HOBBIES_1</td>\n",
       "      <td>HOBBIES</td>\n",
       "      <td>CA_1</td>\n",
       "      <td>CA</td>\n",
       "      <td>d_1</td>\n",
       "      <td>0</td>\n",
       "    </tr>\n",
       "    <tr>\n",
       "      <th>3</th>\n",
       "      <td>HOBBIES_1_004_CA_1_evaluation</td>\n",
       "      <td>HOBBIES_1_004</td>\n",
       "      <td>HOBBIES_1</td>\n",
       "      <td>HOBBIES</td>\n",
       "      <td>CA_1</td>\n",
       "      <td>CA</td>\n",
       "      <td>d_1</td>\n",
       "      <td>0</td>\n",
       "    </tr>\n",
       "    <tr>\n",
       "      <th>4</th>\n",
       "      <td>HOBBIES_1_005_CA_1_evaluation</td>\n",
       "      <td>HOBBIES_1_005</td>\n",
       "      <td>HOBBIES_1</td>\n",
       "      <td>HOBBIES</td>\n",
       "      <td>CA_1</td>\n",
       "      <td>CA</td>\n",
       "      <td>d_1</td>\n",
       "      <td>0</td>\n",
       "    </tr>\n",
       "    <tr>\n",
       "      <th>...</th>\n",
       "      <td>...</td>\n",
       "      <td>...</td>\n",
       "      <td>...</td>\n",
       "      <td>...</td>\n",
       "      <td>...</td>\n",
       "      <td>...</td>\n",
       "      <td>...</td>\n",
       "      <td>...</td>\n",
       "    </tr>\n",
       "    <tr>\n",
       "      <th>60034805</th>\n",
       "      <td>FOODS_3_823_WI_3_evaluation</td>\n",
       "      <td>FOODS_3_823</td>\n",
       "      <td>FOODS_3</td>\n",
       "      <td>FOODS</td>\n",
       "      <td>WI_3</td>\n",
       "      <td>WI</td>\n",
       "      <td>d_1969</td>\n",
       "      <td>0</td>\n",
       "    </tr>\n",
       "    <tr>\n",
       "      <th>60034806</th>\n",
       "      <td>FOODS_3_824_WI_3_evaluation</td>\n",
       "      <td>FOODS_3_824</td>\n",
       "      <td>FOODS_3</td>\n",
       "      <td>FOODS</td>\n",
       "      <td>WI_3</td>\n",
       "      <td>WI</td>\n",
       "      <td>d_1969</td>\n",
       "      <td>0</td>\n",
       "    </tr>\n",
       "    <tr>\n",
       "      <th>60034807</th>\n",
       "      <td>FOODS_3_825_WI_3_evaluation</td>\n",
       "      <td>FOODS_3_825</td>\n",
       "      <td>FOODS_3</td>\n",
       "      <td>FOODS</td>\n",
       "      <td>WI_3</td>\n",
       "      <td>WI</td>\n",
       "      <td>d_1969</td>\n",
       "      <td>0</td>\n",
       "    </tr>\n",
       "    <tr>\n",
       "      <th>60034808</th>\n",
       "      <td>FOODS_3_826_WI_3_evaluation</td>\n",
       "      <td>FOODS_3_826</td>\n",
       "      <td>FOODS_3</td>\n",
       "      <td>FOODS</td>\n",
       "      <td>WI_3</td>\n",
       "      <td>WI</td>\n",
       "      <td>d_1969</td>\n",
       "      <td>0</td>\n",
       "    </tr>\n",
       "    <tr>\n",
       "      <th>60034809</th>\n",
       "      <td>FOODS_3_827_WI_3_evaluation</td>\n",
       "      <td>FOODS_3_827</td>\n",
       "      <td>FOODS_3</td>\n",
       "      <td>FOODS</td>\n",
       "      <td>WI_3</td>\n",
       "      <td>WI</td>\n",
       "      <td>d_1969</td>\n",
       "      <td>0</td>\n",
       "    </tr>\n",
       "  </tbody>\n",
       "</table>\n",
       "<p>60034810 rows × 8 columns</p>\n",
       "</div>"
      ],
      "text/plain": [
       "                                     id        item_id    dept_id   cat_id  \\\n",
       "0         HOBBIES_1_001_CA_1_evaluation  HOBBIES_1_001  HOBBIES_1  HOBBIES   \n",
       "1         HOBBIES_1_002_CA_1_evaluation  HOBBIES_1_002  HOBBIES_1  HOBBIES   \n",
       "2         HOBBIES_1_003_CA_1_evaluation  HOBBIES_1_003  HOBBIES_1  HOBBIES   \n",
       "3         HOBBIES_1_004_CA_1_evaluation  HOBBIES_1_004  HOBBIES_1  HOBBIES   \n",
       "4         HOBBIES_1_005_CA_1_evaluation  HOBBIES_1_005  HOBBIES_1  HOBBIES   \n",
       "...                                 ...            ...        ...      ...   \n",
       "60034805    FOODS_3_823_WI_3_evaluation    FOODS_3_823    FOODS_3    FOODS   \n",
       "60034806    FOODS_3_824_WI_3_evaluation    FOODS_3_824    FOODS_3    FOODS   \n",
       "60034807    FOODS_3_825_WI_3_evaluation    FOODS_3_825    FOODS_3    FOODS   \n",
       "60034808    FOODS_3_826_WI_3_evaluation    FOODS_3_826    FOODS_3    FOODS   \n",
       "60034809    FOODS_3_827_WI_3_evaluation    FOODS_3_827    FOODS_3    FOODS   \n",
       "\n",
       "         store_id state_id       d  sales  \n",
       "0            CA_1       CA     d_1      0  \n",
       "1            CA_1       CA     d_1      0  \n",
       "2            CA_1       CA     d_1      0  \n",
       "3            CA_1       CA     d_1      0  \n",
       "4            CA_1       CA     d_1      0  \n",
       "...           ...      ...     ...    ...  \n",
       "60034805     WI_3       WI  d_1969      0  \n",
       "60034806     WI_3       WI  d_1969      0  \n",
       "60034807     WI_3       WI  d_1969      0  \n",
       "60034808     WI_3       WI  d_1969      0  \n",
       "60034809     WI_3       WI  d_1969      0  \n",
       "\n",
       "[60034810 rows x 8 columns]"
      ]
     },
     "execution_count": 13,
     "metadata": {},
     "output_type": "execute_result"
    }
   ],
   "source": [
    "df_melt"
   ]
  },
  {
   "cell_type": "code",
   "execution_count": 14,
   "metadata": {
    "colab": {},
    "colab_type": "code",
    "id": "7tTQR1Rn0jbV"
   },
   "outputs": [
    {
     "name": "stdout",
     "output_type": "stream",
     "text": [
      "CPU times: user 3 µs, sys: 0 ns, total: 3 µs\n",
      "Wall time: 5.96 µs\n"
     ]
    }
   ],
   "source": [
    "%time\n",
    "\n",
    "df_melt = pd.merge(df_melt, cal, on='d', how='left')\n"
   ]
  },
  {
   "cell_type": "code",
   "execution_count": 15,
   "metadata": {},
   "outputs": [
    {
     "name": "stdout",
     "output_type": "stream",
     "text": [
      "CPU times: user 2 µs, sys: 0 ns, total: 2 µs\n",
      "Wall time: 5.25 µs\n"
     ]
    }
   ],
   "source": [
    "%time\n",
    "\n",
    "df_melt = pd.merge(df_melt, price, on=['store_id','item_id','wm_yr_wk'], how='left')"
   ]
  },
  {
   "cell_type": "code",
   "execution_count": 16,
   "metadata": {
    "colab": {},
    "colab_type": "code",
    "id": "aiR2KSqq2HtM"
   },
   "outputs": [
    {
     "name": "stdout",
     "output_type": "stream",
     "text": [
      "CPU times: user 2 µs, sys: 1e+03 ns, total: 3 µs\n",
      "Wall time: 5.72 µs\n"
     ]
    }
   ],
   "source": [
    "%time\n",
    "\n",
    "df_melt[\"sell_price\"].fillna(df_melt.groupby(\"id\")[\"sell_price\"].transform(\"mean\"), inplace=True)"
   ]
  },
  {
   "cell_type": "code",
   "execution_count": 17,
   "metadata": {
    "colab": {},
    "colab_type": "code",
    "id": "6qK2O2OUpmlI"
   },
   "outputs": [
    {
     "name": "stdout",
     "output_type": "stream",
     "text": [
      "CPU times: user 1e+03 ns, sys: 0 ns, total: 1e+03 ns\n",
      "Wall time: 5.25 µs\n"
     ]
    }
   ],
   "source": [
    "%time\n",
    "df_melt.drop(columns=[\"date\",\"weekday\"], inplace=True)\n"
   ]
  },
  {
   "cell_type": "code",
   "execution_count": 18,
   "metadata": {},
   "outputs": [
    {
     "name": "stdout",
     "output_type": "stream",
     "text": [
      "CPU times: user 2 µs, sys: 1e+03 ns, total: 3 µs\n",
      "Wall time: 4.77 µs\n"
     ]
    }
   ],
   "source": [
    "%time\n",
    "df_melt['d'] = df_melt['d'].apply(lambda a: a.split('_')[1]).astype(np.int16)"
   ]
  },
  {
   "cell_type": "code",
   "execution_count": 19,
   "metadata": {},
   "outputs": [
    {
     "data": {
      "text/html": [
       "<div>\n",
       "<style scoped>\n",
       "    .dataframe tbody tr th:only-of-type {\n",
       "        vertical-align: middle;\n",
       "    }\n",
       "\n",
       "    .dataframe tbody tr th {\n",
       "        vertical-align: top;\n",
       "    }\n",
       "\n",
       "    .dataframe thead th {\n",
       "        text-align: right;\n",
       "    }\n",
       "</style>\n",
       "<table border=\"1\" class=\"dataframe\">\n",
       "  <thead>\n",
       "    <tr style=\"text-align: right;\">\n",
       "      <th></th>\n",
       "      <th>id</th>\n",
       "      <th>item_id</th>\n",
       "      <th>dept_id</th>\n",
       "      <th>cat_id</th>\n",
       "      <th>store_id</th>\n",
       "      <th>state_id</th>\n",
       "      <th>d</th>\n",
       "      <th>sales</th>\n",
       "      <th>wm_yr_wk</th>\n",
       "      <th>wday</th>\n",
       "      <th>month</th>\n",
       "      <th>year</th>\n",
       "      <th>event_name_1</th>\n",
       "      <th>event_type_1</th>\n",
       "      <th>event_name_2</th>\n",
       "      <th>event_type_2</th>\n",
       "      <th>snap_CA</th>\n",
       "      <th>snap_TX</th>\n",
       "      <th>snap_WI</th>\n",
       "      <th>sell_price</th>\n",
       "    </tr>\n",
       "  </thead>\n",
       "  <tbody>\n",
       "    <tr>\n",
       "      <th>0</th>\n",
       "      <td>HOBBIES_1_001_CA_1_evaluation</td>\n",
       "      <td>HOBBIES_1_001</td>\n",
       "      <td>HOBBIES_1</td>\n",
       "      <td>HOBBIES</td>\n",
       "      <td>CA_1</td>\n",
       "      <td>CA</td>\n",
       "      <td>1</td>\n",
       "      <td>0</td>\n",
       "      <td>11101</td>\n",
       "      <td>1</td>\n",
       "      <td>1</td>\n",
       "      <td>2011</td>\n",
       "      <td>NaN</td>\n",
       "      <td>NaN</td>\n",
       "      <td>NaN</td>\n",
       "      <td>NaN</td>\n",
       "      <td>0</td>\n",
       "      <td>0</td>\n",
       "      <td>0</td>\n",
       "      <td>8.281250</td>\n",
       "    </tr>\n",
       "    <tr>\n",
       "      <th>1</th>\n",
       "      <td>HOBBIES_1_002_CA_1_evaluation</td>\n",
       "      <td>HOBBIES_1_002</td>\n",
       "      <td>HOBBIES_1</td>\n",
       "      <td>HOBBIES</td>\n",
       "      <td>CA_1</td>\n",
       "      <td>CA</td>\n",
       "      <td>1</td>\n",
       "      <td>0</td>\n",
       "      <td>11101</td>\n",
       "      <td>1</td>\n",
       "      <td>1</td>\n",
       "      <td>2011</td>\n",
       "      <td>NaN</td>\n",
       "      <td>NaN</td>\n",
       "      <td>NaN</td>\n",
       "      <td>NaN</td>\n",
       "      <td>0</td>\n",
       "      <td>0</td>\n",
       "      <td>0</td>\n",
       "      <td>3.970703</td>\n",
       "    </tr>\n",
       "    <tr>\n",
       "      <th>2</th>\n",
       "      <td>HOBBIES_1_003_CA_1_evaluation</td>\n",
       "      <td>HOBBIES_1_003</td>\n",
       "      <td>HOBBIES_1</td>\n",
       "      <td>HOBBIES</td>\n",
       "      <td>CA_1</td>\n",
       "      <td>CA</td>\n",
       "      <td>1</td>\n",
       "      <td>0</td>\n",
       "      <td>11101</td>\n",
       "      <td>1</td>\n",
       "      <td>1</td>\n",
       "      <td>2011</td>\n",
       "      <td>NaN</td>\n",
       "      <td>NaN</td>\n",
       "      <td>NaN</td>\n",
       "      <td>NaN</td>\n",
       "      <td>0</td>\n",
       "      <td>0</td>\n",
       "      <td>0</td>\n",
       "      <td>2.970703</td>\n",
       "    </tr>\n",
       "    <tr>\n",
       "      <th>3</th>\n",
       "      <td>HOBBIES_1_004_CA_1_evaluation</td>\n",
       "      <td>HOBBIES_1_004</td>\n",
       "      <td>HOBBIES_1</td>\n",
       "      <td>HOBBIES</td>\n",
       "      <td>CA_1</td>\n",
       "      <td>CA</td>\n",
       "      <td>1</td>\n",
       "      <td>0</td>\n",
       "      <td>11101</td>\n",
       "      <td>1</td>\n",
       "      <td>1</td>\n",
       "      <td>2011</td>\n",
       "      <td>NaN</td>\n",
       "      <td>NaN</td>\n",
       "      <td>NaN</td>\n",
       "      <td>NaN</td>\n",
       "      <td>0</td>\n",
       "      <td>0</td>\n",
       "      <td>0</td>\n",
       "      <td>4.527344</td>\n",
       "    </tr>\n",
       "    <tr>\n",
       "      <th>4</th>\n",
       "      <td>HOBBIES_1_005_CA_1_evaluation</td>\n",
       "      <td>HOBBIES_1_005</td>\n",
       "      <td>HOBBIES_1</td>\n",
       "      <td>HOBBIES</td>\n",
       "      <td>CA_1</td>\n",
       "      <td>CA</td>\n",
       "      <td>1</td>\n",
       "      <td>0</td>\n",
       "      <td>11101</td>\n",
       "      <td>1</td>\n",
       "      <td>1</td>\n",
       "      <td>2011</td>\n",
       "      <td>NaN</td>\n",
       "      <td>NaN</td>\n",
       "      <td>NaN</td>\n",
       "      <td>NaN</td>\n",
       "      <td>0</td>\n",
       "      <td>0</td>\n",
       "      <td>0</td>\n",
       "      <td>2.941406</td>\n",
       "    </tr>\n",
       "    <tr>\n",
       "      <th>...</th>\n",
       "      <td>...</td>\n",
       "      <td>...</td>\n",
       "      <td>...</td>\n",
       "      <td>...</td>\n",
       "      <td>...</td>\n",
       "      <td>...</td>\n",
       "      <td>...</td>\n",
       "      <td>...</td>\n",
       "      <td>...</td>\n",
       "      <td>...</td>\n",
       "      <td>...</td>\n",
       "      <td>...</td>\n",
       "      <td>...</td>\n",
       "      <td>...</td>\n",
       "      <td>...</td>\n",
       "      <td>...</td>\n",
       "      <td>...</td>\n",
       "      <td>...</td>\n",
       "      <td>...</td>\n",
       "      <td>...</td>\n",
       "    </tr>\n",
       "    <tr>\n",
       "      <th>60034805</th>\n",
       "      <td>FOODS_3_823_WI_3_evaluation</td>\n",
       "      <td>FOODS_3_823</td>\n",
       "      <td>FOODS_3</td>\n",
       "      <td>FOODS</td>\n",
       "      <td>WI_3</td>\n",
       "      <td>WI</td>\n",
       "      <td>1969</td>\n",
       "      <td>0</td>\n",
       "      <td>11621</td>\n",
       "      <td>2</td>\n",
       "      <td>6</td>\n",
       "      <td>2016</td>\n",
       "      <td>NBAFinalsEnd</td>\n",
       "      <td>Sporting</td>\n",
       "      <td>Father's day</td>\n",
       "      <td>Cultural</td>\n",
       "      <td>0</td>\n",
       "      <td>0</td>\n",
       "      <td>0</td>\n",
       "      <td>2.980469</td>\n",
       "    </tr>\n",
       "    <tr>\n",
       "      <th>60034806</th>\n",
       "      <td>FOODS_3_824_WI_3_evaluation</td>\n",
       "      <td>FOODS_3_824</td>\n",
       "      <td>FOODS_3</td>\n",
       "      <td>FOODS</td>\n",
       "      <td>WI_3</td>\n",
       "      <td>WI</td>\n",
       "      <td>1969</td>\n",
       "      <td>0</td>\n",
       "      <td>11621</td>\n",
       "      <td>2</td>\n",
       "      <td>6</td>\n",
       "      <td>2016</td>\n",
       "      <td>NBAFinalsEnd</td>\n",
       "      <td>Sporting</td>\n",
       "      <td>Father's day</td>\n",
       "      <td>Cultural</td>\n",
       "      <td>0</td>\n",
       "      <td>0</td>\n",
       "      <td>0</td>\n",
       "      <td>2.480469</td>\n",
       "    </tr>\n",
       "    <tr>\n",
       "      <th>60034807</th>\n",
       "      <td>FOODS_3_825_WI_3_evaluation</td>\n",
       "      <td>FOODS_3_825</td>\n",
       "      <td>FOODS_3</td>\n",
       "      <td>FOODS</td>\n",
       "      <td>WI_3</td>\n",
       "      <td>WI</td>\n",
       "      <td>1969</td>\n",
       "      <td>0</td>\n",
       "      <td>11621</td>\n",
       "      <td>2</td>\n",
       "      <td>6</td>\n",
       "      <td>2016</td>\n",
       "      <td>NBAFinalsEnd</td>\n",
       "      <td>Sporting</td>\n",
       "      <td>Father's day</td>\n",
       "      <td>Cultural</td>\n",
       "      <td>0</td>\n",
       "      <td>0</td>\n",
       "      <td>0</td>\n",
       "      <td>3.980469</td>\n",
       "    </tr>\n",
       "    <tr>\n",
       "      <th>60034808</th>\n",
       "      <td>FOODS_3_826_WI_3_evaluation</td>\n",
       "      <td>FOODS_3_826</td>\n",
       "      <td>FOODS_3</td>\n",
       "      <td>FOODS</td>\n",
       "      <td>WI_3</td>\n",
       "      <td>WI</td>\n",
       "      <td>1969</td>\n",
       "      <td>0</td>\n",
       "      <td>11621</td>\n",
       "      <td>2</td>\n",
       "      <td>6</td>\n",
       "      <td>2016</td>\n",
       "      <td>NBAFinalsEnd</td>\n",
       "      <td>Sporting</td>\n",
       "      <td>Father's day</td>\n",
       "      <td>Cultural</td>\n",
       "      <td>0</td>\n",
       "      <td>0</td>\n",
       "      <td>0</td>\n",
       "      <td>1.280273</td>\n",
       "    </tr>\n",
       "    <tr>\n",
       "      <th>60034809</th>\n",
       "      <td>FOODS_3_827_WI_3_evaluation</td>\n",
       "      <td>FOODS_3_827</td>\n",
       "      <td>FOODS_3</td>\n",
       "      <td>FOODS</td>\n",
       "      <td>WI_3</td>\n",
       "      <td>WI</td>\n",
       "      <td>1969</td>\n",
       "      <td>0</td>\n",
       "      <td>11621</td>\n",
       "      <td>2</td>\n",
       "      <td>6</td>\n",
       "      <td>2016</td>\n",
       "      <td>NBAFinalsEnd</td>\n",
       "      <td>Sporting</td>\n",
       "      <td>Father's day</td>\n",
       "      <td>Cultural</td>\n",
       "      <td>0</td>\n",
       "      <td>0</td>\n",
       "      <td>0</td>\n",
       "      <td>1.000000</td>\n",
       "    </tr>\n",
       "  </tbody>\n",
       "</table>\n",
       "<p>60034810 rows × 20 columns</p>\n",
       "</div>"
      ],
      "text/plain": [
       "                                     id        item_id    dept_id   cat_id  \\\n",
       "0         HOBBIES_1_001_CA_1_evaluation  HOBBIES_1_001  HOBBIES_1  HOBBIES   \n",
       "1         HOBBIES_1_002_CA_1_evaluation  HOBBIES_1_002  HOBBIES_1  HOBBIES   \n",
       "2         HOBBIES_1_003_CA_1_evaluation  HOBBIES_1_003  HOBBIES_1  HOBBIES   \n",
       "3         HOBBIES_1_004_CA_1_evaluation  HOBBIES_1_004  HOBBIES_1  HOBBIES   \n",
       "4         HOBBIES_1_005_CA_1_evaluation  HOBBIES_1_005  HOBBIES_1  HOBBIES   \n",
       "...                                 ...            ...        ...      ...   \n",
       "60034805    FOODS_3_823_WI_3_evaluation    FOODS_3_823    FOODS_3    FOODS   \n",
       "60034806    FOODS_3_824_WI_3_evaluation    FOODS_3_824    FOODS_3    FOODS   \n",
       "60034807    FOODS_3_825_WI_3_evaluation    FOODS_3_825    FOODS_3    FOODS   \n",
       "60034808    FOODS_3_826_WI_3_evaluation    FOODS_3_826    FOODS_3    FOODS   \n",
       "60034809    FOODS_3_827_WI_3_evaluation    FOODS_3_827    FOODS_3    FOODS   \n",
       "\n",
       "         store_id state_id     d  sales  wm_yr_wk  wday  month  year  \\\n",
       "0            CA_1       CA     1      0     11101     1      1  2011   \n",
       "1            CA_1       CA     1      0     11101     1      1  2011   \n",
       "2            CA_1       CA     1      0     11101     1      1  2011   \n",
       "3            CA_1       CA     1      0     11101     1      1  2011   \n",
       "4            CA_1       CA     1      0     11101     1      1  2011   \n",
       "...           ...      ...   ...    ...       ...   ...    ...   ...   \n",
       "60034805     WI_3       WI  1969      0     11621     2      6  2016   \n",
       "60034806     WI_3       WI  1969      0     11621     2      6  2016   \n",
       "60034807     WI_3       WI  1969      0     11621     2      6  2016   \n",
       "60034808     WI_3       WI  1969      0     11621     2      6  2016   \n",
       "60034809     WI_3       WI  1969      0     11621     2      6  2016   \n",
       "\n",
       "          event_name_1 event_type_1  event_name_2 event_type_2  snap_CA  \\\n",
       "0                  NaN          NaN           NaN          NaN        0   \n",
       "1                  NaN          NaN           NaN          NaN        0   \n",
       "2                  NaN          NaN           NaN          NaN        0   \n",
       "3                  NaN          NaN           NaN          NaN        0   \n",
       "4                  NaN          NaN           NaN          NaN        0   \n",
       "...                ...          ...           ...          ...      ...   \n",
       "60034805  NBAFinalsEnd     Sporting  Father's day     Cultural        0   \n",
       "60034806  NBAFinalsEnd     Sporting  Father's day     Cultural        0   \n",
       "60034807  NBAFinalsEnd     Sporting  Father's day     Cultural        0   \n",
       "60034808  NBAFinalsEnd     Sporting  Father's day     Cultural        0   \n",
       "60034809  NBAFinalsEnd     Sporting  Father's day     Cultural        0   \n",
       "\n",
       "          snap_TX  snap_WI  sell_price  \n",
       "0               0        0    8.281250  \n",
       "1               0        0    3.970703  \n",
       "2               0        0    2.970703  \n",
       "3               0        0    4.527344  \n",
       "4               0        0    2.941406  \n",
       "...           ...      ...         ...  \n",
       "60034805        0        0    2.980469  \n",
       "60034806        0        0    2.480469  \n",
       "60034807        0        0    3.980469  \n",
       "60034808        0        0    1.280273  \n",
       "60034809        0        0    1.000000  \n",
       "\n",
       "[60034810 rows x 20 columns]"
      ]
     },
     "execution_count": 19,
     "metadata": {},
     "output_type": "execute_result"
    }
   ],
   "source": [
    "df_melt"
   ]
  },
  {
   "cell_type": "code",
   "execution_count": 22,
   "metadata": {},
   "outputs": [
    {
     "data": {
      "text/plain": [
       "'m5-forecasting-accuracy'"
      ]
     },
     "execution_count": 22,
     "metadata": {},
     "output_type": "execute_result"
    }
   ],
   "source": [
    "bucket"
   ]
  },
  {
   "cell_type": "code",
   "execution_count": 21,
   "metadata": {},
   "outputs": [],
   "source": [
    "import boto3\n",
    "import pickle\n",
    "\n",
    "key='df_melt.pkl'\n",
    "pickle_byte_obj = pickle.dumps([df_melt]) \n"
   ]
  },
  {
   "cell_type": "code",
   "execution_count": 23,
   "metadata": {},
   "outputs": [
    {
     "data": {
      "text/plain": [
       "{'ResponseMetadata': {'RequestId': 'ZBHJ1478PDQ0YWXD',\n",
       "  'HostId': 'UbNhfGXwLEk3YSFyhMdzy4JDSz65PH2ABNYksf95UFsp4F7cLU7mffNTHgRxXke4EOOvIRLFEEs=',\n",
       "  'HTTPStatusCode': 200,\n",
       "  'HTTPHeaders': {'x-amz-id-2': 'UbNhfGXwLEk3YSFyhMdzy4JDSz65PH2ABNYksf95UFsp4F7cLU7mffNTHgRxXke4EOOvIRLFEEs=',\n",
       "   'x-amz-request-id': 'ZBHJ1478PDQ0YWXD',\n",
       "   'date': 'Mon, 03 Jan 2022 08:11:24 GMT',\n",
       "   'etag': '\"09396ffd044d397359ae757c606412f4\"',\n",
       "   'server': 'AmazonS3',\n",
       "   'content-length': '0'},\n",
       "  'RetryAttempts': 0},\n",
       " 'ETag': '\"09396ffd044d397359ae757c606412f4\"'}"
      ]
     },
     "execution_count": 23,
     "metadata": {},
     "output_type": "execute_result"
    }
   ],
   "source": [
    "s3_resource = boto3.resource('s3')\n",
    "s3_resource.Object(bucket,key).put(Body=pickle_byte_obj)"
   ]
  },
  {
   "cell_type": "code",
   "execution_count": null,
   "metadata": {},
   "outputs": [],
   "source": []
  },
  {
   "cell_type": "code",
   "execution_count": 24,
   "metadata": {
    "colab_type": "text",
    "id": "LcTHGSYP29uP"
   },
   "outputs": [
    {
     "ename": "SyntaxError",
     "evalue": "invalid syntax (<ipython-input-24-f324bc74a581>, line 1)",
     "output_type": "error",
     "traceback": [
      "\u001b[0;36m  File \u001b[0;32m\"<ipython-input-24-f324bc74a581>\"\u001b[0;36m, line \u001b[0;32m1\u001b[0m\n\u001b[0;31m    **features engineering**\u001b[0m\n\u001b[0m     ^\u001b[0m\n\u001b[0;31mSyntaxError\u001b[0m\u001b[0;31m:\u001b[0m invalid syntax\n"
     ]
    }
   ],
   "source": [
    "**features engineering**"
   ]
  },
  {
   "cell_type": "code",
   "execution_count": 25,
   "metadata": {
    "colab": {},
    "colab_type": "code",
    "id": "MX06dYtPpmrq"
   },
   "outputs": [],
   "source": [
    "#label encoding features\n",
    "\n",
    "columns = list(df_melt.columns)\n",
    "d_types = list(df_melt.dtypes.values)\n",
    "\n",
    "for a, d_t in enumerate(d_types):\n",
    "  if d_t.name == 'category':\n",
    "    df_melt[columns[a]] = df_melt[columns[a]].cat.codes\n",
    "        "
   ]
  },
  {
   "cell_type": "code",
   "execution_count": 26,
   "metadata": {
    "colab": {
     "base_uri": "https://localhost:8080/",
     "height": 35
    },
    "colab_type": "code",
    "executionInfo": {
     "elapsed": 187082,
     "status": "ok",
     "timestamp": 1600544619832,
     "user": {
      "displayName": "Lokesh gupta",
      "photoUrl": "https://lh3.googleusercontent.com/a-/AOh14GjgepOBUJNK5O4L3S_yCfIoggqUXSSiWvkPozefEA=s64",
      "userId": "01478317668303379605"
     },
     "user_tz": -330
    },
    "id": "o6v94fK26EvP",
    "outputId": "3d6204a7-3815-4e6e-f02c-3240e4fac624"
   },
   "outputs": [
    {
     "name": "stderr",
     "output_type": "stream",
     "text": [
      "100%|██████████| 8/8 [00:32<00:00,  4.11s/it]\n"
     ]
    }
   ],
   "source": [
    "#lag features\n",
    "\n",
    "lags = [28, 35, 42, 49, 56, 63, 70, 77]\n",
    "for lag in tqdm(lags):\n",
    "  df_melt[\"lag_\" + str(lag)] = df_melt.groupby(\"id\")[\"sales\"].shift(lag).astype(np.float16)"
   ]
  },
  {
   "cell_type": "code",
   "execution_count": null,
   "metadata": {
    "colab": {},
    "colab_type": "code",
    "id": "uqbVrPOsUT5t"
   },
   "outputs": [],
   "source": [
    "#rolling median features\n",
    "\n",
    "df_melt['lag_28'] = df_melt.groupby('id')['sales'].transform(lambda x: x.shift(28))\n",
    "\n",
    "df_melt['rolling_median_7'] = df_melt.groupby('id')['lag_28'].transform(lambda x: x.rolling(7).median())\n",
    "df_melt['rolling_median_28'] = df_melt.groupby('id')['lag_28'].transform(lambda x: x.rolling(28).median())\n",
    "df_melt['rolling_median_50'] = df_melt.groupby('id')['lag_28'].transform(lambda x: x.rolling(50).median())"
   ]
  },
  {
   "cell_type": "code",
   "execution_count": null,
   "metadata": {
    "colab": {
     "base_uri": "https://localhost:8080/",
     "height": 218
    },
    "colab_type": "code",
    "executionInfo": {
     "elapsed": 386970,
     "status": "ok",
     "timestamp": 1600544824875,
     "user": {
      "displayName": "Lokesh gupta",
      "photoUrl": "https://lh3.googleusercontent.com/a-/AOh14GjgepOBUJNK5O4L3S_yCfIoggqUXSSiWvkPozefEA=s64",
      "userId": "01478317668303379605"
     },
     "user_tz": -330
    },
    "id": "gnOuoP46tmBe",
    "outputId": "b8f92edb-25a8-42f9-ab8e-feb34bc3c866"
   },
   "outputs": [],
   "source": [
    "df_melt = df_melt[df_melt['d']>1050]\n",
    "df_melt.head()"
   ]
  },
  {
   "cell_type": "code",
   "execution_count": null,
   "metadata": {
    "colab": {
     "base_uri": "https://localhost:8080/",
     "height": 599
    },
    "colab_type": "code",
    "executionInfo": {
     "elapsed": 387369,
     "status": "ok",
     "timestamp": 1600544826346,
     "user": {
      "displayName": "Lokesh gupta",
      "photoUrl": "https://lh3.googleusercontent.com/a-/AOh14GjgepOBUJNK5O4L3S_yCfIoggqUXSSiWvkPozefEA=s64",
      "userId": "01478317668303379605"
     },
     "user_tz": -330
    },
    "id": "9HEccxvB3jQd",
    "outputId": "0d960775-c0ba-496c-a522-01f97fb6e35f"
   },
   "outputs": [],
   "source": [
    "df_melt.isnull().any()"
   ]
  },
  {
   "cell_type": "code",
   "execution_count": null,
   "metadata": {
    "colab": {},
    "colab_type": "code",
    "id": "79Pv-0CKM-XV"
   },
   "outputs": [],
   "source": [
    "df_melt.to_pickle(\"df_melt\")"
   ]
  },
  {
   "cell_type": "code",
   "execution_count": null,
   "metadata": {
    "colab": {},
    "colab_type": "code",
    "id": "1zn75MauM_OC"
   },
   "outputs": [],
   "source": [
    "df_melt=pd.read_pickle(\"df_melt\")"
   ]
  },
  {
   "cell_type": "code",
   "execution_count": null,
   "metadata": {
    "colab": {},
    "colab_type": "code",
    "executionInfo": {
     "elapsed": 34218,
     "status": "ok",
     "timestamp": 1600549963943,
     "user": {
      "displayName": "Lokesh Gupta",
      "photoUrl": "https://lh3.googleusercontent.com/a-/AOh14Gji9BLG_yBHzfpNsVF1-hq2O8seojfrBmtSDr9g=s64",
      "userId": "00605890011976979562"
     },
     "user_tz": -330
    },
    "id": "7ithLg8TL1lu"
   },
   "outputs": [],
   "source": [
    "df_melt = pd.read_pickle(\"/content/drive/My Drive/M5 Forcasting/df_melt\")"
   ]
  },
  {
   "cell_type": "code",
   "execution_count": null,
   "metadata": {
    "colab": {
     "base_uri": "https://localhost:8080/",
     "height": 35
    },
    "colab_type": "code",
    "executionInfo": {
     "elapsed": 32400,
     "status": "ok",
     "timestamp": 1600549963948,
     "user": {
      "displayName": "Lokesh Gupta",
      "photoUrl": "https://lh3.googleusercontent.com/a-/AOh14Gji9BLG_yBHzfpNsVF1-hq2O8seojfrBmtSDr9g=s64",
      "userId": "00605890011976979562"
     },
     "user_tz": -330
    },
    "id": "x7mPZGkp3gEy",
    "outputId": "125d253c-c6af-48a1-a82f-9344a81d5c87"
   },
   "outputs": [],
   "source": [
    "df_melt.shape"
   ]
  },
  {
   "cell_type": "code",
   "execution_count": null,
   "metadata": {},
   "outputs": [],
   "source": [
    "df_melt"
   ]
  },
  {
   "cell_type": "code",
   "execution_count": null,
   "metadata": {},
   "outputs": [],
   "source": [
    "key='df_melt_rolling.pkl'\n",
    "pickle_byte_obj = pickle.dumps([df_melt]) \n",
    "s3_resource = boto3.resource('s3')\n",
    "s3_resource.Object(bucket,key).put(Body=pickle_byte_obj)"
   ]
  },
  {
   "cell_type": "markdown",
   "metadata": {
    "colab_type": "text",
    "id": "bjqAJtd33vMP"
   },
   "source": [
    "**train-test split**"
   ]
  },
  {
   "cell_type": "code",
   "execution_count": 7,
   "metadata": {
    "colab": {},
    "colab_type": "code",
    "executionInfo": {
     "elapsed": 6867,
     "status": "ok",
     "timestamp": 1600549990425,
     "user": {
      "displayName": "Lokesh Gupta",
      "photoUrl": "https://lh3.googleusercontent.com/a-/AOh14Gji9BLG_yBHzfpNsVF1-hq2O8seojfrBmtSDr9g=s64",
      "userId": "00605890011976979562"
     },
     "user_tz": -330
    },
    "id": "idDKRRUZNftJ"
   },
   "outputs": [],
   "source": [
    "X_train = df_melt[df_melt[\"d\"] < 1914].drop(\"sales\", axis=1)\n",
    "X_val =  df_melt[(df_melt['d']>=1914) & (df_melt['d']<=1941)].drop('sales',axis=1)\n",
    "X_test = df_melt[df_melt[\"d\"] >= 1942].drop(\"sales\", axis=1)\n",
    "\n",
    "y_train = df_melt[df_melt[\"d\"] < 1914][\"sales\"]\n",
    "y_val = df_melt[(df_melt['d']>=1914) & (df_melt['d']<=1941)][\"sales\"]"
   ]
  },
  {
   "cell_type": "code",
   "execution_count": 8,
   "metadata": {
    "colab": {
     "base_uri": "https://localhost:8080/",
     "height": 35
    },
    "colab_type": "code",
    "executionInfo": {
     "elapsed": 976,
     "status": "ok",
     "timestamp": 1600549994248,
     "user": {
      "displayName": "Lokesh Gupta",
      "photoUrl": "https://lh3.googleusercontent.com/a-/AOh14Gji9BLG_yBHzfpNsVF1-hq2O8seojfrBmtSDr9g=s64",
      "userId": "00605890011976979562"
     },
     "user_tz": -330
    },
    "id": "mIQsRiBtNSuW",
    "outputId": "b5630566-e682-4ea6-9cd0-2ba634106742"
   },
   "outputs": [
    {
     "data": {
      "text/plain": [
       "(26312870, 30)"
      ]
     },
     "execution_count": 8,
     "metadata": {
      "tags": []
     },
     "output_type": "execute_result"
    }
   ],
   "source": [
    "X_train.shape"
   ]
  },
  {
   "cell_type": "code",
   "execution_count": 9,
   "metadata": {
    "colab": {
     "base_uri": "https://localhost:8080/",
     "height": 35
    },
    "colab_type": "code",
    "executionInfo": {
     "elapsed": 1020,
     "status": "ok",
     "timestamp": 1600549996857,
     "user": {
      "displayName": "Lokesh Gupta",
      "photoUrl": "https://lh3.googleusercontent.com/a-/AOh14Gji9BLG_yBHzfpNsVF1-hq2O8seojfrBmtSDr9g=s64",
      "userId": "00605890011976979562"
     },
     "user_tz": -330
    },
    "id": "Q8l91PfWns5f",
    "outputId": "689e9852-4711-4775-f7e6-e74f0a3de7ae"
   },
   "outputs": [
    {
     "data": {
      "text/plain": [
       "(853720, 30)"
      ]
     },
     "execution_count": 9,
     "metadata": {
      "tags": []
     },
     "output_type": "execute_result"
    }
   ],
   "source": [
    "X_val.shape"
   ]
  },
  {
   "cell_type": "markdown",
   "metadata": {
    "colab_type": "text",
    "id": "zARPtUMd391j"
   },
   "source": [
    "compute the weights for level 12 series"
   ]
  },
  {
   "cell_type": "code",
   "execution_count": 10,
   "metadata": {
    "colab": {},
    "colab_type": "code",
    "executionInfo": {
     "elapsed": 3252,
     "status": "ok",
     "timestamp": 1600550002704,
     "user": {
      "displayName": "Lokesh Gupta",
      "photoUrl": "https://lh3.googleusercontent.com/a-/AOh14Gji9BLG_yBHzfpNsVF1-hq2O8seojfrBmtSDr9g=s64",
      "userId": "00605890011976979562"
     },
     "user_tz": -330
    },
    "id": "QU0P5bzmnjD3"
   },
   "outputs": [],
   "source": [
    "price[\"id\"] = price[\"item_id\"] + \"_\" + price[\"store_id\"] + \"_evaluation\"\n",
    "cal[\"d\"] = cal[\"d\"].apply(lambda a: int(a.split(\"_\")[1]))"
   ]
  },
  {
   "cell_type": "code",
   "execution_count": 11,
   "metadata": {
    "colab": {
     "base_uri": "https://localhost:8080/",
     "height": 35
    },
    "colab_type": "code",
    "executionInfo": {
     "elapsed": 10767,
     "status": "ok",
     "timestamp": 1600550013497,
     "user": {
      "displayName": "Lokesh Gupta",
      "photoUrl": "https://lh3.googleusercontent.com/a-/AOh14Gji9BLG_yBHzfpNsVF1-hq2O8seojfrBmtSDr9g=s64",
      "userId": "00605890011976979562"
     },
     "user_tz": -330
    },
    "id": "8-L15PmfNfoE",
    "outputId": "8fbb9f11-8f8b-4d4a-fc08-8d3143cc5f4a"
   },
   "outputs": [
    {
     "name": "stderr",
     "output_type": "stream",
     "text": [
      "100%|██████████| 28/28 [00:09<00:00,  2.98it/s]\n"
     ]
    }
   ],
   "source": [
    "#https://www.kaggle.com/qcw171717/other-naive-forecasts-submission-score/notebook\n",
    "\n",
    "for day in tqdm(range(1886, 1914)):  \n",
    "    wk_id = list(cal[cal[\"d\"]==day][\"wm_yr_wk\"])[0]\n",
    "    wk_price = price[price[\"wm_yr_wk\"]==wk_id]\n",
    "    df_sales = sales.merge(wk_price[[\"sell_price\", \"id\"]], on=[\"id\"], how='inner')\n",
    "    df_sales[\"unit_sales_\" + str(day)] = df_sales[\"sell_price\"] * df_sales[\"d_\" + str(day)]\n",
    "    df_sales.drop(columns=[\"sell_price\"], inplace=True)"
   ]
  },
  {
   "cell_type": "code",
   "execution_count": 12,
   "metadata": {
    "colab": {},
    "colab_type": "code",
    "executionInfo": {
     "elapsed": 1503,
     "status": "ok",
     "timestamp": 1600550015006,
     "user": {
      "displayName": "Lokesh Gupta",
      "photoUrl": "https://lh3.googleusercontent.com/a-/AOh14Gji9BLG_yBHzfpNsVF1-hq2O8seojfrBmtSDr9g=s64",
      "userId": "00605890011976979562"
     },
     "user_tz": -330
    },
    "id": "hhzhRjmpNfwl"
   },
   "outputs": [],
   "source": [
    "col = [a for a in df_sales.columns if a.find(\"unit_sales\")==0]\n",
    "df_sales[\"sales\"] = df_sales[col]\n",
    "df_sales[\"weight\"] = df_sales[\"sales\"] / df_sales[\"sales\"].sum()\n",
    "df_sales.drop(columns=[\"sales\", col[0]], axis=1, inplace=True)\n",
    "df_sales[\"weight\"] /= 12"
   ]
  },
  {
   "cell_type": "code",
   "execution_count": 13,
   "metadata": {
    "colab": {},
    "colab_type": "code",
    "executionInfo": {
     "elapsed": 1501,
     "status": "ok",
     "timestamp": 1600550015012,
     "user": {
      "displayName": "Lokesh Gupta",
      "photoUrl": "https://lh3.googleusercontent.com/a-/AOh14Gji9BLG_yBHzfpNsVF1-hq2O8seojfrBmtSDr9g=s64",
      "userId": "00605890011976979562"
     },
     "user_tz": -330
    },
    "id": "5H2omGBypKOC"
   },
   "outputs": [],
   "source": [
    "aggregation_level = {2: [\"state_id\"], 3: [\"store_id\"], 4: [\"cat_id\"], 5: [\"dept_id\"], \n",
    "              6: [\"state_id\", \"cat_id\"], 7: [\"state_id\", \"dept_id\"], 8: [\"store_id\", \"cat_id\"], 9: [\"store_id\", \"dept_id\"],\n",
    "              10: [\"item_id\"], 11: [\"item_id\", \"state_id\"]}"
   ]
  },
  {
   "cell_type": "code",
   "execution_count": 14,
   "metadata": {
    "colab": {},
    "colab_type": "code",
    "executionInfo": {
     "elapsed": 1498,
     "status": "ok",
     "timestamp": 1600550015015,
     "user": {
      "displayName": "Lokesh Gupta",
      "photoUrl": "https://lh3.googleusercontent.com/a-/AOh14Gji9BLG_yBHzfpNsVF1-hq2O8seojfrBmtSDr9g=s64",
      "userId": "00605890011976979562"
     },
     "user_tz": -330
    },
    "id": "4klrZhdFpmnm"
   },
   "outputs": [],
   "source": [
    "#function to calculate rmsse \n",
    "\n",
    "h = 28\n",
    "n = 1913\n",
    "\n",
    "def RMSSE(ground_truth, forecast, train_series):\n",
    "    \n",
    "    num = ((ground_truth - forecast)**2).sum(axis=1)\n",
    "    den = 1/(n-1) * ((train_series[:, 1:] - train_series[:, :-1]) ** 2).sum(axis=1)\n",
    "    rmsse = (1/h * num/den) ** 0.5\n",
    "\n",
    "    return rmsse"
   ]
  },
  {
   "cell_type": "code",
   "execution_count": 15,
   "metadata": {
    "colab": {},
    "colab_type": "code",
    "executionInfo": {
     "elapsed": 1493,
     "status": "ok",
     "timestamp": 1600550015016,
     "user": {
      "displayName": "Lokesh Gupta",
      "photoUrl": "https://lh3.googleusercontent.com/a-/AOh14Gji9BLG_yBHzfpNsVF1-hq2O8seojfrBmtSDr9g=s64",
      "userId": "00605890011976979562"
     },
     "user_tz": -330
    },
    "id": "aqv5D5R8OK6Z"
   },
   "outputs": [],
   "source": [
    "# function to compute custom hyperparametrer tuning\n",
    "\n",
    "def hyperparameter_tuning(X_train, y_train, model):\n",
    "\n",
    "    model.fit(X_train, y_train)\n",
    "\n",
    "    for d in range(1914, 1942):\n",
    "        df_sales['F_' + str(d)] = model.predict(X_val[X_val['d']==d])\n",
    "    \n",
    "    data = df_sales[[a for a in df_sales.columns if a.find(\"d_\") == 0 or a.find(\"F_\") == 0]]\n",
    "    data = data.sum()\n",
    "\n",
    "    aggregated_df = pd.DataFrame(data).transpose()    \n",
    "    aggregated_df[\"level\"] = 1\n",
    "    aggregated_df[\"weight\"] = 1/12    \n",
    "    columns = aggregated_df.columns  \n",
    "\n",
    "    for lev in aggregation_level:\n",
    "        df_t = df_sales.groupby(by=aggregation_level[lev]).sum().reset_index()\n",
    "        df_t[\"level\"] = lev\n",
    "        aggregated_df = aggregated_df.append(df_t[columns])     \n",
    "\n",
    "    train_columns = [a for a in df_sales.columns if a.find(\"d_\") == 0 and int(a.split('_')[1]) < 1914]\n",
    "    actual_value_columns = [a for a in df_sales.columns if a.find(\"d_\") == 0 and int(a.split('_')[1]) in range(1914, 1942)]\n",
    "    forecast_value_columns = [a for a in df_sales.columns if a.find(\"F_\") == 0]    \n",
    "\n",
    "    ground_truth_df = np.array(df_sales[actual_value_columns])\n",
    "    forecast_df = np.array(df_sales[forecast_value_columns])\n",
    "    train_series_df = np.array(df_sales[train_columns])\n",
    "\n",
    "    ground_truth_agg_df = np.array(aggregated_df[actual_value_columns])\n",
    "    forecast_agg_df = np.array(aggregated_df[forecast_value_columns])\n",
    "    train_series_agg_df = np.array(aggregated_df[train_columns])\n",
    "\n",
    "    df_sales[\"rmsse\"] = RMSSE(ground_truth_df, forecast_df, train_series_df)\n",
    "    aggregated_df[\"rmsse\"] = RMSSE(ground_truth_agg_df, forecast_agg_df, train_series_agg_df)\n",
    "\n",
    "    df_sales[\"wrmsse\"] = df_sales[\"weight\"] * df_sales[\"rmsse\"]\n",
    "    aggregated_df[\"wrmsse\"] = aggregated_df[\"weight\"] * aggregated_df[\"rmsse\"]\n",
    "\n",
    "    print(df_sales[\"wrmsse\"].sum() + aggregated_df[\"wrmsse\"].sum())\n",
    "    \n",
    "    return (df_sales[\"wrmsse\"].sum() + aggregated_df[\"wrmsse\"].sum())"
   ]
  },
  {
   "cell_type": "code",
   "execution_count": null,
   "metadata": {
    "colab": {
     "base_uri": "https://localhost:8080/",
     "height": 1000
    },
    "colab_type": "code",
    "executionInfo": {
     "elapsed": 3121625,
     "status": "ok",
     "timestamp": 1600549057300,
     "user": {
      "displayName": "Lokesh gupta",
      "photoUrl": "https://lh3.googleusercontent.com/a-/AOh14GjgepOBUJNK5O4L3S_yCfIoggqUXSSiWvkPozefEA=s64",
      "userId": "01478317668303379605"
     },
     "user_tz": -330
    },
    "id": "FjSro2CiNflE",
    "outputId": "28be4991-7ada-454b-a915-feae746addbe"
   },
   "outputs": [
    {
     "name": "stderr",
     "output_type": "stream",
     "text": [
      "\n",
      "  0%|          | 0/15 [00:00<?, ?it/s]\u001b[A"
     ]
    },
    {
     "name": "stdout",
     "output_type": "stream",
     "text": [
      "0.03\n",
      "106\n",
      "139\n"
     ]
    },
    {
     "name": "stderr",
     "output_type": "stream",
     "text": [
      "\n",
      "  7%|▋         | 1/15 [03:54<54:37, 234.11s/it]\u001b[A"
     ]
    },
    {
     "name": "stdout",
     "output_type": "stream",
     "text": [
      "0.8616449802156569\n",
      "0.031\n",
      "35\n",
      "70\n"
     ]
    },
    {
     "name": "stderr",
     "output_type": "stream",
     "text": [
      "\n",
      " 13%|█▎        | 2/15 [06:57<47:24, 218.78s/it]\u001b[A"
     ]
    },
    {
     "name": "stdout",
     "output_type": "stream",
     "text": [
      "0.9137737438358748\n",
      "0.068\n",
      "78\n",
      "109\n"
     ]
    },
    {
     "name": "stderr",
     "output_type": "stream",
     "text": [
      "\n",
      " 20%|██        | 3/15 [10:10<42:13, 211.12s/it]\u001b[A"
     ]
    },
    {
     "name": "stdout",
     "output_type": "stream",
     "text": [
      "0.717371937092594\n",
      "0.035\n",
      "63\n",
      "141\n"
     ]
    },
    {
     "name": "stderr",
     "output_type": "stream",
     "text": [
      "\n",
      " 27%|██▋       | 4/15 [13:33<38:16, 208.80s/it]\u001b[A"
     ]
    },
    {
     "name": "stdout",
     "output_type": "stream",
     "text": [
      "0.8460583729572915\n",
      "0.045\n",
      "86\n",
      "60\n"
     ]
    },
    {
     "name": "stderr",
     "output_type": "stream",
     "text": [
      "\n",
      " 33%|███▎      | 5/15 [16:59<34:39, 208.00s/it]\u001b[A"
     ]
    },
    {
     "name": "stdout",
     "output_type": "stream",
     "text": [
      "0.7813279366764813\n",
      "0.071\n",
      "123\n",
      "147\n"
     ]
    },
    {
     "name": "stderr",
     "output_type": "stream",
     "text": [
      "\n",
      " 40%|████      | 6/15 [20:30<31:18, 208.70s/it]\u001b[A"
     ]
    },
    {
     "name": "stdout",
     "output_type": "stream",
     "text": [
      "0.7067169301558276\n",
      "0.075\n",
      "95\n",
      "59\n"
     ]
    },
    {
     "name": "stderr",
     "output_type": "stream",
     "text": [
      "\n",
      " 47%|████▋     | 7/15 [23:42<27:10, 203.83s/it]\u001b[A"
     ]
    },
    {
     "name": "stdout",
     "output_type": "stream",
     "text": [
      "0.7116286218121783\n",
      "0.025\n",
      "110\n",
      "124\n"
     ]
    },
    {
     "name": "stderr",
     "output_type": "stream",
     "text": [
      "\n",
      " 53%|█████▎    | 8/15 [27:40<24:58, 214.11s/it]\u001b[A"
     ]
    },
    {
     "name": "stdout",
     "output_type": "stream",
     "text": [
      "0.9194683079155135\n",
      "0.051\n",
      "71\n",
      "77\n"
     ]
    },
    {
     "name": "stderr",
     "output_type": "stream",
     "text": [
      "\n",
      " 60%|██████    | 9/15 [30:57<20:53, 208.95s/it]\u001b[A"
     ]
    },
    {
     "name": "stdout",
     "output_type": "stream",
     "text": [
      "0.7640327690552523\n",
      "0.03\n",
      "88\n",
      "137\n"
     ]
    },
    {
     "name": "stderr",
     "output_type": "stream",
     "text": [
      "\n",
      " 67%|██████▋   | 10/15 [34:39<17:44, 212.95s/it]\u001b[A"
     ]
    },
    {
     "name": "stdout",
     "output_type": "stream",
     "text": [
      "0.8722651953749397\n",
      "0.064\n",
      "71\n",
      "127\n"
     ]
    },
    {
     "name": "stderr",
     "output_type": "stream",
     "text": [
      "\n",
      " 73%|███████▎  | 11/15 [37:53<13:48, 207.17s/it]\u001b[A"
     ]
    },
    {
     "name": "stdout",
     "output_type": "stream",
     "text": [
      "0.72746246445814\n",
      "0.069\n",
      "94\n",
      "62\n"
     ]
    },
    {
     "name": "stderr",
     "output_type": "stream",
     "text": [
      "\n",
      " 80%|████████  | 12/15 [41:12<10:13, 204.54s/it]\u001b[A"
     ]
    },
    {
     "name": "stdout",
     "output_type": "stream",
     "text": [
      "0.7167816797727539\n",
      "0.039\n",
      "101\n",
      "127\n"
     ]
    },
    {
     "name": "stderr",
     "output_type": "stream",
     "text": [
      "\n",
      " 87%|████████▋ | 13/15 [44:53<06:59, 209.52s/it]\u001b[A"
     ]
    },
    {
     "name": "stdout",
     "output_type": "stream",
     "text": [
      "0.7983751072002795\n",
      "0.025\n",
      "116\n",
      "117\n"
     ]
    },
    {
     "name": "stderr",
     "output_type": "stream",
     "text": [
      "\n",
      " 93%|█████████▎| 14/15 [48:53<03:38, 218.68s/it]\u001b[A"
     ]
    },
    {
     "name": "stdout",
     "output_type": "stream",
     "text": [
      "0.9138323060393725\n",
      "0.073\n",
      "64\n",
      "119\n"
     ]
    },
    {
     "name": "stderr",
     "output_type": "stream",
     "text": [
      "\n",
      "100%|██████████| 15/15 [52:00<00:00, 208.01s/it]"
     ]
    },
    {
     "name": "stdout",
     "output_type": "stream",
     "text": [
      "0.7140471507273172\n",
      "CPU times: user 3h 21s, sys: 1min 46s, total: 3h 2min 7s\n",
      "Wall time: 52min\n"
     ]
    },
    {
     "name": "stderr",
     "output_type": "stream",
     "text": [
      "\n"
     ]
    }
   ],
   "source": [
    "%%time\n",
    "\n",
    "wrmsse=[]\n",
    "lr=[]\n",
    "n_leaves=[]\n",
    "min_d_leaf=[]\n",
    "\n",
    "for _ in tqdm(range(15)):\n",
    "\n",
    "    learning_rate = random.randint(25, 75)/1000\n",
    "    num_leaves = random.randint(32, 128)\n",
    "    min_data_in_leaf = random.randint(50, 150)\n",
    "\n",
    "    print(learning_rate)\n",
    "    print(num_leaves)\n",
    "    print(min_data_in_leaf)\n",
    "    \n",
    "    model = lgb.LGBMRegressor(learning_rate= learning_rate,num_leaves=num_leaves,min_data_in_leaf=min_data_in_leaf)\n",
    "    \n",
    "    WRMSSE = hyperparameter_tuning(X_train, y_train, model)\n",
    "\n",
    "    wrmsse.append(WRMSSE)\n",
    "    lr.append(learning_rate)\n",
    "    n_leaves.append(num_leaves)\n",
    "    min_d_leaf.append(min_data_in_leaf)\n",
    "   "
   ]
  },
  {
   "cell_type": "code",
   "execution_count": null,
   "metadata": {
    "colab": {},
    "colab_type": "code",
    "id": "8DCGX-8R88na"
   },
   "outputs": [],
   "source": [
    "minpos = wrmsse.index(min(wrmsse))\n",
    "learning_rate = lr[minpos]\n",
    "num_leaves = n_leaves[minpos]\n",
    "min_data_in_leaf = min_d_leaf[minpos]"
   ]
  },
  {
   "cell_type": "code",
   "execution_count": 27,
   "metadata": {
    "colab": {},
    "colab_type": "code",
    "executionInfo": {
     "elapsed": 1242,
     "status": "ok",
     "timestamp": 1600550764594,
     "user": {
      "displayName": "Lokesh Gupta",
      "photoUrl": "https://lh3.googleusercontent.com/a-/AOh14Gji9BLG_yBHzfpNsVF1-hq2O8seojfrBmtSDr9g=s64",
      "userId": "00605890011976979562"
     },
     "user_tz": -330
    },
    "id": "xHWmdV4xMRb_"
   },
   "outputs": [],
   "source": [
    "learning_rate = 0.071\n",
    "num_leaves = 123\n",
    "min_data_in_leaf = 147"
   ]
  },
  {
   "cell_type": "code",
   "execution_count": 28,
   "metadata": {
    "colab": {
     "base_uri": "https://localhost:8080/",
     "height": 145
    },
    "colab_type": "code",
    "executionInfo": {
     "elapsed": 233585,
     "status": "ok",
     "timestamp": 1600550998061,
     "user": {
      "displayName": "Lokesh Gupta",
      "photoUrl": "https://lh3.googleusercontent.com/a-/AOh14Gji9BLG_yBHzfpNsVF1-hq2O8seojfrBmtSDr9g=s64",
      "userId": "00605890011976979562"
     },
     "user_tz": -330
    },
    "id": "785grHDH8_Xl",
    "outputId": "19951dc2-55f4-45cf-9771-4f33a79986a3"
   },
   "outputs": [
    {
     "data": {
      "text/plain": [
       "LGBMRegressor(boosting_type='gbdt', class_weight=None, colsample_bytree=1.0,\n",
       "              importance_type='split', learning_rate=0.071, max_depth=-1,\n",
       "              min_child_samples=20, min_child_weight=0.001,\n",
       "              min_data_in_leaf=147, min_split_gain=0.0, n_estimators=100,\n",
       "              n_jobs=-1, num_leaves=123, objective=None, random_state=None,\n",
       "              reg_alpha=0.0, reg_lambda=0.0, silent=True, subsample=1.0,\n",
       "              subsample_for_bin=200000, subsample_freq=0)"
      ]
     },
     "execution_count": 28,
     "metadata": {
      "tags": []
     },
     "output_type": "execute_result"
    }
   ],
   "source": [
    "#fit the model on best parameters\n",
    "\n",
    "m_lgb = lgb.LGBMRegressor( learning_rate=learning_rate ,\n",
    "                           num_leaves=num_leaves ,\n",
    "                           min_data_in_leaf=min_data_in_leaf)\n",
    "\n",
    "m_lgb.fit(X_train, y_train)"
   ]
  },
  {
   "cell_type": "code",
   "execution_count": 29,
   "metadata": {
    "colab": {},
    "colab_type": "code",
    "executionInfo": {
     "elapsed": 3771,
     "status": "ok",
     "timestamp": 1600551010622,
     "user": {
      "displayName": "Lokesh Gupta",
      "photoUrl": "https://lh3.googleusercontent.com/a-/AOh14Gji9BLG_yBHzfpNsVF1-hq2O8seojfrBmtSDr9g=s64",
      "userId": "00605890011976979562"
     },
     "user_tz": -330
    },
    "id": "V6lsM2F-GTRC"
   },
   "outputs": [],
   "source": [
    "#predict the validation data\n",
    "\n",
    "for d in range(1914, 1942):\n",
    "    df_sales['F_' + str(d)] = m_lgb.predict(X_val[X_val['d']==d])"
   ]
  },
  {
   "cell_type": "code",
   "execution_count": 30,
   "metadata": {
    "colab": {},
    "colab_type": "code",
    "executionInfo": {
     "elapsed": 1074,
     "status": "ok",
     "timestamp": 1600551011722,
     "user": {
      "displayName": "Lokesh Gupta",
      "photoUrl": "https://lh3.googleusercontent.com/a-/AOh14Gji9BLG_yBHzfpNsVF1-hq2O8seojfrBmtSDr9g=s64",
      "userId": "00605890011976979562"
     },
     "user_tz": -330
    },
    "id": "cmQPADigG_V1"
   },
   "outputs": [],
   "source": [
    "def WRMSSE(df_sales):\n",
    "\n",
    "  aggregation_level = {2: [\"state_id\"], 3: [\"store_id\"], 4: [\"cat_id\"], 5: [\"dept_id\"], \n",
    "              6: [\"state_id\", \"cat_id\"], 7: [\"state_id\", \"dept_id\"], 8: [\"store_id\", \"cat_id\"], 9: [\"store_id\", \"dept_id\"],\n",
    "              10: [\"item_id\"], 11: [\"item_id\", \"state_id\"]}\n",
    "\n",
    "  data = df_sales[[a for a in df_sales.columns if a.find(\"d_\") == 0 or a.find(\"F_\") == 0]]\n",
    "  data = data.sum()\n",
    "\n",
    "  aggregated_df = pd.DataFrame(data).transpose()    \n",
    "  aggregated_df[\"level\"] = 1\n",
    "  aggregated_df[\"weight\"] = 1/12    \n",
    "  columns = aggregated_df.columns  \n",
    "\n",
    "  for lev in aggregation_level:\n",
    "      df_t = df_sales.groupby(by=aggregation_level[lev]).sum().reset_index()\n",
    "      df_t[\"level\"] = lev\n",
    "      aggregated_df = aggregated_df.append(df_t[columns])     \n",
    "\n",
    "  #print(df_sales.shape[0], aggregated_df.shape[0], df_sales.shape[0] + aggregated_df.shape[0])\n",
    "  #print(aggregated_df[\"weight\"].sum() + df_sales[\"weight\"].sum())    \n",
    "\n",
    "  train_columns = [a for a in df_sales.columns if a.find(\"d_\") == 0 and int(a.split('_')[1]) < 1914]\n",
    "  actual_value_columns = [a for a in df_sales.columns if a.find(\"d_\") == 0 and int(a.split('_')[1]) in range(1914, 1942)]\n",
    "  forecast_value_columns = [a for a in df_sales.columns if a.find(\"F_\") == 0]    \n",
    "\n",
    "\n",
    "  ground_truth_df = np.array(df_sales[actual_value_columns])\n",
    "  forecast_df = np.array(df_sales[forecast_value_columns])\n",
    "  train_series_df = np.array(df_sales[train_columns])\n",
    "\n",
    "  ground_truth_agg_df = np.array(aggregated_df[actual_value_columns])\n",
    "  forecast_agg_df = np.array(aggregated_df[forecast_value_columns])\n",
    "  train_series_agg_df = np.array(aggregated_df[train_columns])\n",
    "\n",
    "  df_sales[\"rmsse\"] = RMSSE(ground_truth_df, forecast_df, train_series_df)\n",
    "  aggregated_df[\"rmsse\"] = RMSSE(ground_truth_agg_df, forecast_agg_df, train_series_agg_df)\n",
    "\n",
    "  df_sales[\"wrmsse\"] = df_sales[\"weight\"] * df_sales[\"rmsse\"]\n",
    "  aggregated_df[\"wrmsse\"] = aggregated_df[\"weight\"] * aggregated_df[\"rmsse\"]\n",
    "\n",
    "  print(\"df\", df_sales[\"wrmsse\"].sum())\n",
    "  print(\"agg_df\",aggregated_df[\"wrmsse\"].sum())\n",
    "\n",
    "  WRMSSE = df_sales[\"wrmsse\"].sum() + aggregated_df[\"wrmsse\"].sum()\n",
    "  #print(WRMSSE)\n",
    "\n",
    "  return WRMSSE     "
   ]
  },
  {
   "cell_type": "code",
   "execution_count": 31,
   "metadata": {
    "colab": {
     "base_uri": "https://localhost:8080/",
     "height": 72
    },
    "colab_type": "code",
    "executionInfo": {
     "elapsed": 15697,
     "status": "ok",
     "timestamp": 1600551030310,
     "user": {
      "displayName": "Lokesh Gupta",
      "photoUrl": "https://lh3.googleusercontent.com/a-/AOh14Gji9BLG_yBHzfpNsVF1-hq2O8seojfrBmtSDr9g=s64",
      "userId": "00605890011976979562"
     },
     "user_tz": -330
    },
    "id": "dp1zK6kNG_io",
    "outputId": "53cf58b0-cdcd-4148-a3f0-c7772eb83316"
   },
   "outputs": [
    {
     "name": "stdout",
     "output_type": "stream",
     "text": [
      "df 0.0871697137234316\n",
      "agg_df 0.619547216432396\n"
     ]
    },
    {
     "data": {
      "text/plain": [
       "0.7067169301558276"
      ]
     },
     "execution_count": 31,
     "metadata": {
      "tags": []
     },
     "output_type": "execute_result"
    }
   ],
   "source": [
    "WRMSSE(df_sales)\n"
   ]
  },
  {
   "cell_type": "markdown",
   "metadata": {
    "colab_type": "text",
    "id": "v7fKvj1E69Rz"
   },
   "source": [
    "**create submission file**"
   ]
  },
  {
   "cell_type": "code",
   "execution_count": 32,
   "metadata": {
    "colab": {
     "base_uri": "https://localhost:8080/",
     "height": 308
    },
    "colab_type": "code",
    "executionInfo": {
     "elapsed": 1213,
     "status": "ok",
     "timestamp": 1600551044762,
     "user": {
      "displayName": "Lokesh Gupta",
      "photoUrl": "https://lh3.googleusercontent.com/a-/AOh14Gji9BLG_yBHzfpNsVF1-hq2O8seojfrBmtSDr9g=s64",
      "userId": "00605890011976979562"
     },
     "user_tz": -330
    },
    "id": "ioD2h-NnCo5r",
    "outputId": "2faa193b-0b23-4aea-aab7-9b7f837cb7dd"
   },
   "outputs": [
    {
     "name": "stderr",
     "output_type": "stream",
     "text": [
      "/usr/local/lib/python3.6/dist-packages/ipykernel_launcher.py:4: SettingWithCopyWarning:\n",
      "\n",
      "\n",
      "A value is trying to be set on a copy of a slice from a DataFrame.\n",
      "Try using .loc[row_indexer,col_indexer] = value instead\n",
      "\n",
      "See the caveats in the documentation: https://pandas.pydata.org/pandas-docs/stable/user_guide/indexing.html#returning-a-view-versus-a-copy\n",
      "\n",
      "/usr/local/lib/python3.6/dist-packages/ipykernel_launcher.py:6: SettingWithCopyWarning:\n",
      "\n",
      "\n",
      "A value is trying to be set on a copy of a slice from a DataFrame.\n",
      "Try using .loc[row_indexer,col_indexer] = value instead\n",
      "\n",
      "See the caveats in the documentation: https://pandas.pydata.org/pandas-docs/stable/user_guide/indexing.html#returning-a-view-versus-a-copy\n",
      "\n"
     ]
    }
   ],
   "source": [
    "submit_df1 = df_sales[[\"id\"]]\n",
    "\n",
    "for d, i in enumerate(range(1914, 1942)):\n",
    "    submit_df1['F' + str(d+1)] = df_sales[\"F_\" + str(i)]\n",
    "\n",
    "submit_df1[\"id\"] = submit_df1[\"id\"].apply(lambda x: x.replace('evaluation', 'validation'))    "
   ]
  },
  {
   "cell_type": "code",
   "execution_count": 34,
   "metadata": {
    "colab": {
     "base_uri": "https://localhost:8080/",
     "height": 163
    },
    "colab_type": "code",
    "executionInfo": {
     "elapsed": 3676,
     "status": "ok",
     "timestamp": 1600551068670,
     "user": {
      "displayName": "Lokesh Gupta",
      "photoUrl": "https://lh3.googleusercontent.com/a-/AOh14Gji9BLG_yBHzfpNsVF1-hq2O8seojfrBmtSDr9g=s64",
      "userId": "00605890011976979562"
     },
     "user_tz": -330
    },
    "id": "lam9XIn6hhaK",
    "outputId": "61842a8d-38e0-4fb2-85d1-8ebf389e4b60"
   },
   "outputs": [
    {
     "name": "stderr",
     "output_type": "stream",
     "text": [
      "/usr/local/lib/python3.6/dist-packages/ipykernel_launcher.py:3: SettingWithCopyWarning:\n",
      "\n",
      "\n",
      "A value is trying to be set on a copy of a slice from a DataFrame.\n",
      "Try using .loc[row_indexer,col_indexer] = value instead\n",
      "\n",
      "See the caveats in the documentation: https://pandas.pydata.org/pandas-docs/stable/user_guide/indexing.html#returning-a-view-versus-a-copy\n",
      "\n"
     ]
    }
   ],
   "source": [
    "submit_df2 = df_sales[[\"id\"]]\n",
    "for d in range(1, 29):\n",
    "    submit_df2['F' + str(d)] = m_lgb.predict(X_test[X_test['d']==(1941+d)])"
   ]
  },
  {
   "cell_type": "code",
   "execution_count": 35,
   "metadata": {
    "colab": {},
    "colab_type": "code",
    "executionInfo": {
     "elapsed": 3986,
     "status": "ok",
     "timestamp": 1600551075800,
     "user": {
      "displayName": "Lokesh Gupta",
      "photoUrl": "https://lh3.googleusercontent.com/a-/AOh14Gji9BLG_yBHzfpNsVF1-hq2O8seojfrBmtSDr9g=s64",
      "userId": "00605890011976979562"
     },
     "user_tz": -330
    },
    "id": "uFZlYhfVdJDg"
   },
   "outputs": [],
   "source": [
    "submit = submit_df1.append(submit_df2).reset_index(drop=True)\n",
    "submit.to_csv(\"submission.csv\", index=False)"
   ]
  },
  {
   "cell_type": "code",
   "execution_count": null,
   "metadata": {
    "colab": {},
    "colab_type": "code",
    "id": "w9cqYpcAUxTt"
   },
   "outputs": [],
   "source": []
  }
 ],
 "metadata": {
  "accelerator": "GPU",
  "colab": {
   "collapsed_sections": [],
   "machine_shape": "hm",
   "name": "lgbm.ipynb",
   "provenance": [
    {
     "file_id": "1GqZu6zmCy2vMNMZqO78DDuHvwv_9vJcp",
     "timestamp": 1594563549946
    },
    {
     "file_id": "1IzPbxNFQmmSYk9s14L4YjBfUgACn9mW2",
     "timestamp": 1593978024316
    },
    {
     "file_id": "1G7NKeneJNyRtcRxLVbbF9jYtRyuTOa-R",
     "timestamp": 1592749700622
    },
    {
     "file_id": "https://github.com/satyajitghana/TSAI-DeepVision-EVA4.0/blob/master/Utils/Colab_25GBRAM_GPU.ipynb",
     "timestamp": 1592043804148
    }
   ]
  },
  "kernelspec": {
   "display_name": "conda_mxnet_p36",
   "language": "python",
   "name": "conda_mxnet_p36"
  },
  "language_info": {
   "codemirror_mode": {
    "name": "ipython",
    "version": 3
   },
   "file_extension": ".py",
   "mimetype": "text/x-python",
   "name": "python",
   "nbconvert_exporter": "python",
   "pygments_lexer": "ipython3",
   "version": "3.6.13"
  }
 },
 "nbformat": 4,
 "nbformat_minor": 4
}
