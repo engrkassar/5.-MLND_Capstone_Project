{
 "cells": [
  {
   "cell_type": "markdown",
   "metadata": {
    "colab_type": "text",
    "id": "4cbgwZWWfWpp"
   },
   "source": [
    "# New Section"
   ]
  },
  {
   "cell_type": "code",
   "execution_count": 3,
   "metadata": {
    "colab": {
     "base_uri": "https://localhost:8080/",
     "height": 35
    },
    "colab_type": "code",
    "executionInfo": {
     "elapsed": 27835,
     "status": "ok",
     "timestamp": 1600549871509,
     "user": {
      "displayName": "Lokesh Gupta",
      "photoUrl": "https://lh3.googleusercontent.com/a-/AOh14Gji9BLG_yBHzfpNsVF1-hq2O8seojfrBmtSDr9g=s64",
      "userId": "00605890011976979562"
     },
     "user_tz": -330
    },
    "id": "_ikfKYQ1l0kG",
    "outputId": "107ba458-f057-42f2-d817-e1c9e0eb92e4"
   },
   "outputs": [],
   "source": [
    "\n",
    "import sys\n",
    "import os\n",
    "\n",
    "import numpy as np\n",
    "import pandas as pd\n",
    "pd.set_option('display.max_rows', 500)\n",
    "pd.set_option('display.max_columns', 2000)\n",
    "pd.set_option('display.width', 2000)\n",
    "\n",
    "import sklearn.model_selection\n",
    "\n",
    "import joblib\n",
    "import pickle\n",
    "import tempfile\n",
    "\n",
    "\n",
    "import boto3\n",
    "import sagemaker\n",
    "from sagemaker import get_execution_role\n",
    "from sagemaker.amazon.amazon_estimator import get_image_uri\n",
    "\n",
    "sagemaker_session = sagemaker.Session()\n",
    "role = sagemaker.get_execution_role()\n",
    "\n",
    "\n",
    "# S3 bucket name\n",
    "bucket = 'sagemaker-us-west-2-479862333671'\n"
   ]
  },
  {
   "cell_type": "code",
   "execution_count": 4,
   "metadata": {},
   "outputs": [
    {
     "name": "stderr",
     "output_type": "stream",
     "text": [
      "The method get_image_uri has been renamed in sagemaker>=2.\n",
      "See: https://sagemaker.readthedocs.io/en/stable/v2.html for details.\n"
     ]
    },
    {
     "data": {
      "text/plain": [
       "'246618743249.dkr.ecr.us-west-2.amazonaws.com/sagemaker-xgboost:1.0-1-cpu-py3'"
      ]
     },
     "execution_count": 4,
     "metadata": {},
     "output_type": "execute_result"
    }
   ],
   "source": [
    "container = get_image_uri(boto3.Session().region_name, 'xgboost', '1.0-1')\n",
    "container "
   ]
  },
  {
   "cell_type": "code",
   "execution_count": 5,
   "metadata": {},
   "outputs": [
    {
     "data": {
      "text/plain": [
       "({'config': {'DataSource': {'S3DataSource': {'S3DataType': 'S3Prefix',\n",
       "     'S3Uri': 's3://sagemaker-us-west-2-479862333671/data/train.csv',\n",
       "     'S3DataDistributionType': 'FullyReplicated'}},\n",
       "   'ContentType': 'csv'}},\n",
       " {'config': {'DataSource': {'S3DataSource': {'S3DataType': 'S3Prefix',\n",
       "     'S3Uri': 's3://sagemaker-us-west-2-479862333671/data/val.csv',\n",
       "     'S3DataDistributionType': 'FullyReplicated'}},\n",
       "   'ContentType': 'csv'}})"
      ]
     },
     "execution_count": 5,
     "metadata": {},
     "output_type": "execute_result"
    }
   ],
   "source": [
    "s3_input_train = sagemaker.inputs.TrainingInput(s3_data='s3://{}/{}'.format(bucket, 'data/train.csv'), content_type='csv')\n",
    "s3_input_validation = sagemaker.inputs.TrainingInput(s3_data='s3://{}/{}'.format(bucket, 'data/val.csv'), content_type='csv')\n",
    "(vars(s3_input_train), vars(s3_input_validation))"
   ]
  },
  {
   "cell_type": "code",
   "execution_count": 6,
   "metadata": {},
   "outputs": [],
   "source": [
    "prefix = 'perdictions'"
   ]
  },
  {
   "cell_type": "code",
   "execution_count": 7,
   "metadata": {},
   "outputs": [],
   "source": [
    "xgb = sagemaker.estimator.Estimator(container,\n",
    "                                    role, \n",
    "                                    instance_count=1, \n",
    "                                    instance_type='ml.m4.2xlarge',\n",
    "                                    output_path='s3://{}/{}/output'.format(bucket, prefix),\n",
    "                                    sagemaker_session=sagemaker_session)\n"
   ]
  },
  {
   "cell_type": "code",
   "execution_count": 8,
   "metadata": {},
   "outputs": [],
   "source": [
    "xgb.set_hyperparameters(max_depth=5,\n",
    "                        eta=0.2,\n",
    "                        gamma=4,\n",
    "                        min_child_weight=6,\n",
    "                        subsample=0.8,\n",
    "                        silent=0,\n",
    "                        objective='reg:squarederror',\n",
    "                        eval_metric='rmse',\n",
    "                        num_round=20)"
   ]
  },
  {
   "cell_type": "code",
   "execution_count": 9,
   "metadata": {},
   "outputs": [
    {
     "name": "stdout",
     "output_type": "stream",
     "text": [
      "2022-01-16 10:37:47 Starting - Starting the training job...\n",
      "2022-01-16 10:38:11 Starting - Launching requested ML instancesProfilerReport-1642329467: InProgress\n",
      "......\n",
      "2022-01-16 10:39:11 Starting - Preparing the instances for training.........\n",
      "2022-01-16 10:40:33 Downloading - Downloading input data............\n",
      "2022-01-16 10:42:36 Training - Downloading the training image..\n",
      "2022-01-16 10:43:12 Training - Training image download completed. Training in progress.\u001b[34mINFO:sagemaker-containers:Imported framework sagemaker_xgboost_container.training\u001b[0m\n",
      "\u001b[34mINFO:sagemaker-containers:Failed to parse hyperparameter objective value reg:linear to Json.\u001b[0m\n",
      "\u001b[34mReturning the value itself\u001b[0m\n",
      "\u001b[34mINFO:sagemaker-containers:No GPUs detected (normal if no gpus installed)\u001b[0m\n",
      "\u001b[34mINFO:sagemaker_xgboost_container.training:Running XGBoost Sagemaker in algorithm mode\u001b[0m\n",
      "\u001b[34mINFO:root:Determined delimiter of CSV input is ','\u001b[0m\n",
      "\u001b[34mINFO:root:Determined delimiter of CSV input is ','\u001b[0m\n",
      "\u001b[34mINFO:root:Determined delimiter of CSV input is ','\u001b[0m\n",
      "\u001b[34m[10:43:58] 45396814x29 matrix with 1316507606 entries loaded from /opt/ml/input/data/train?format=csv&label_column=0&delimiter=,\u001b[0m\n",
      "\u001b[34mINFO:root:Determined delimiter of CSV input is ','\u001b[0m\n",
      "\u001b[34m[10:43:59] 823230x29 matrix with 23873670 entries loaded from /opt/ml/input/data/validation?format=csv&label_column=0&delimiter=,\u001b[0m\n",
      "\u001b[34mINFO:root:Single node training.\u001b[0m\n",
      "\u001b[34mINFO:root:Train matrix has 45396814 rows\u001b[0m\n",
      "\u001b[34mINFO:root:Validation matrix has 823230 rows\u001b[0m\n",
      "\u001b[34m[10:43:59] WARNING: /workspace/src/objective/regression_obj.cu:167: reg:linear is now deprecated in favor of reg:squarederror.\u001b[0m\n",
      "\u001b[34m[10:43:59] WARNING: /workspace/src/learner.cc:328: \u001b[0m\n",
      "\u001b[34mParameters: { num_round, silent } might not be used.\n",
      "  This may not be accurate due to some parameters are only used in language bindings but\n",
      "  passed down to XGBoost core.  Or some parameters are not used but slip through this\n",
      "  verification. Please open an issue if you find above cases.\u001b[0m\n",
      "\u001b[34m[10:44:03] WARNING: /workspace/src/gbm/gbtree.cc:138: Tree method is automatically selected to be 'approx' for faster speed. To use old behavior (exact greedy algorithm on single machine), set tree_method to 'exact'.\u001b[0m\n",
      "\u001b[34m[0]#011train-rmse:3.98114#011validation-rmse:3.34979\u001b[0m\n",
      "\u001b[34m[1]#011train-rmse:3.70633#011validation-rmse:3.08153\u001b[0m\n",
      "\u001b[34m[2]#011train-rmse:3.51426#011validation-rmse:2.89611\u001b[0m\n",
      "\u001b[34m[3]#011train-rmse:3.37029#011validation-rmse:2.76591\u001b[0m\n",
      "\u001b[34m[4]#011train-rmse:3.26071#011validation-rmse:2.67680\u001b[0m\n",
      "\u001b[34m[5]#011train-rmse:3.19121#011validation-rmse:2.62385\u001b[0m\n",
      "\u001b[34m[6]#011train-rmse:3.13483#011validation-rmse:2.57996\u001b[0m\n",
      "\u001b[34m[7]#011train-rmse:3.10101#011validation-rmse:2.55787\u001b[0m\n",
      "\u001b[34m[8]#011train-rmse:3.06592#011validation-rmse:2.53723\u001b[0m\n",
      "\u001b[34m[9]#011train-rmse:3.04411#011validation-rmse:2.52258\u001b[0m\n",
      "\u001b[34m[10]#011train-rmse:3.02697#011validation-rmse:2.51152\u001b[0m\n",
      "\u001b[34m[11]#011train-rmse:3.01342#011validation-rmse:2.50429\u001b[0m\n",
      "\u001b[34m[12]#011train-rmse:2.99320#011validation-rmse:2.49600\u001b[0m\n",
      "\u001b[34m[13]#011train-rmse:2.97795#011validation-rmse:2.48963\u001b[0m\n",
      "\u001b[34m[14]#011train-rmse:2.96667#011validation-rmse:2.48653\u001b[0m\n",
      "\u001b[34m[15]#011train-rmse:2.96049#011validation-rmse:2.48337\u001b[0m\n",
      "\u001b[34m[16]#011train-rmse:2.95319#011validation-rmse:2.48107\u001b[0m\n",
      "\u001b[34m[17]#011train-rmse:2.94689#011validation-rmse:2.47832\u001b[0m\n",
      "\u001b[34m[18]#011train-rmse:2.94100#011validation-rmse:2.47813\u001b[0m\n",
      "\u001b[34m[19]#011train-rmse:2.93200#011validation-rmse:2.47602\u001b[0m\n",
      "\n",
      "2022-01-16 10:58:16 Uploading - Uploading generated training model\n",
      "2022-01-16 10:58:16 Completed - Training job completed\n",
      "Training seconds: 1062\n",
      "Billable seconds: 1062\n"
     ]
    }
   ],
   "source": [
    "xgb.fit({'train': s3_input_train, 'validation': s3_input_validation})"
   ]
  },
  {
   "cell_type": "code",
   "execution_count": 10,
   "metadata": {},
   "outputs": [],
   "source": [
    "xgb_transformer = xgb.transformer(instance_count=1, instance_type='ml.c5.4xlarge')"
   ]
  },
  {
   "cell_type": "code",
   "execution_count": 11,
   "metadata": {},
   "outputs": [
    {
     "ename": "NameError",
     "evalue": "name 'X_val_location' is not defined",
     "output_type": "error",
     "traceback": [
      "\u001b[0;31m---------------------------------------------------------------------------\u001b[0m",
      "\u001b[0;31mNameError\u001b[0m                                 Traceback (most recent call last)",
      "\u001b[0;32m<ipython-input-11-99b88d2284bc>\u001b[0m in \u001b[0;36m<module>\u001b[0;34m\u001b[0m\n\u001b[0;32m----> 1\u001b[0;31m \u001b[0mxgb_transformer\u001b[0m\u001b[0;34m.\u001b[0m\u001b[0mtransform\u001b[0m\u001b[0;34m(\u001b[0m\u001b[0mX_val_location\u001b[0m\u001b[0;34m,\u001b[0m \u001b[0mcontent_type\u001b[0m\u001b[0;34m=\u001b[0m\u001b[0;34m'text/csv'\u001b[0m\u001b[0;34m,\u001b[0m \u001b[0msplit_type\u001b[0m\u001b[0;34m=\u001b[0m\u001b[0;34m'Line'\u001b[0m\u001b[0;34m)\u001b[0m\u001b[0;34m\u001b[0m\u001b[0;34m\u001b[0m\u001b[0m\n\u001b[0m",
      "\u001b[0;31mNameError\u001b[0m: name 'X_val_location' is not defined"
     ]
    }
   ],
   "source": [
    "xgb_transformer.transform(X_val_location, content_type='text/csv', split_type='Line')"
   ]
  },
  {
   "cell_type": "code",
   "execution_count": null,
   "metadata": {},
   "outputs": [],
   "source": [
    "xgb_transformer.wait()"
   ]
  },
  {
   "cell_type": "code",
   "execution_count": null,
   "metadata": {},
   "outputs": [],
   "source": [
    "!aws s3 cp --recursive $xgb_transformer.output_path $data_dir"
   ]
  },
  {
   "cell_type": "code",
   "execution_count": null,
   "metadata": {},
   "outputs": [],
   "source": [
    "Y_pred = pd.read_csv(os.path.join(data_dir, 'X_val_values.csv.out'), header=None)"
   ]
  },
  {
   "cell_type": "code",
   "execution_count": null,
   "metadata": {},
   "outputs": [],
   "source": [
    "data_dir = ''\n",
    "Y_test = pd.read_csv('s3://{}/{}'.format(bucket, 'data/val.csv'))['demand']"
   ]
  },
  {
   "cell_type": "code",
   "execution_count": null,
   "metadata": {},
   "outputs": [],
   "source": [
    "Y_test"
   ]
  },
  {
   "cell_type": "code",
   "execution_count": null,
   "metadata": {},
   "outputs": [],
   "source": [
    "Y_pred"
   ]
  },
  {
   "cell_type": "code",
   "execution_count": null,
   "metadata": {},
   "outputs": [],
   "source": []
  }
 ],
 "metadata": {
  "accelerator": "GPU",
  "colab": {
   "collapsed_sections": [],
   "machine_shape": "hm",
   "name": "lgbm.ipynb",
   "provenance": [
    {
     "file_id": "1GqZu6zmCy2vMNMZqO78DDuHvwv_9vJcp",
     "timestamp": 1594563549946
    },
    {
     "file_id": "1IzPbxNFQmmSYk9s14L4YjBfUgACn9mW2",
     "timestamp": 1593978024316
    },
    {
     "file_id": "1G7NKeneJNyRtcRxLVbbF9jYtRyuTOa-R",
     "timestamp": 1592749700622
    },
    {
     "file_id": "https://github.com/satyajitghana/TSAI-DeepVision-EVA4.0/blob/master/Utils/Colab_25GBRAM_GPU.ipynb",
     "timestamp": 1592043804148
    }
   ]
  },
  "kernelspec": {
   "display_name": "conda_mxnet_p36",
   "language": "python",
   "name": "conda_mxnet_p36"
  },
  "language_info": {
   "codemirror_mode": {
    "name": "ipython",
    "version": 3
   },
   "file_extension": ".py",
   "mimetype": "text/x-python",
   "name": "python",
   "nbconvert_exporter": "python",
   "pygments_lexer": "ipython3",
   "version": "3.6.13"
  }
 },
 "nbformat": 4,
 "nbformat_minor": 4
}
