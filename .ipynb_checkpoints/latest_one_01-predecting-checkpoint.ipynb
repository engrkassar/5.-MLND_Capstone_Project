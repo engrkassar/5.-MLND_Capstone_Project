{
 "cells": [
  {
   "cell_type": "markdown",
   "metadata": {
    "colab_type": "text",
    "id": "4cbgwZWWfWpp"
   },
   "source": [
    "# New Section"
   ]
  },
  {
   "cell_type": "code",
   "execution_count": 1,
   "metadata": {
    "colab": {
     "base_uri": "https://localhost:8080/",
     "height": 35
    },
    "colab_type": "code",
    "executionInfo": {
     "elapsed": 27835,
     "status": "ok",
     "timestamp": 1600549871509,
     "user": {
      "displayName": "Lokesh Gupta",
      "photoUrl": "https://lh3.googleusercontent.com/a-/AOh14Gji9BLG_yBHzfpNsVF1-hq2O8seojfrBmtSDr9g=s64",
      "userId": "00605890011976979562"
     },
     "user_tz": -330
    },
    "id": "_ikfKYQ1l0kG",
    "outputId": "107ba458-f057-42f2-d817-e1c9e0eb92e4"
   },
   "outputs": [
    {
     "name": "stdout",
     "output_type": "stream",
     "text": [
      "Using matplotlib backend: agg\n"
     ]
    }
   ],
   "source": [
    "%matplotlib\n",
    "import matplotlib.pyplot as plt\n",
    "\n",
    "import sys\n",
    "import os\n",
    "\n",
    "import numpy as np\n",
    "import pandas as pd\n",
    "pd.set_option('display.max_rows', 500)\n",
    "pd.set_option('display.max_columns', 500)\n",
    "pd.set_option('display.width', 1000)\n",
    "\n",
    "import sklearn.model_selection\n",
    "from sklearn.preprocessing import OneHotEncoder\n",
    "from sklearn.preprocessing import LabelEncoder\n",
    "\n",
    "import datetime\n",
    "\n",
    "import joblib\n",
    "import pickle\n",
    "import tempfile\n",
    "\n",
    "\n",
    "import boto3\n",
    "import sagemaker\n",
    "from sagemaker import get_execution_role\n",
    "\n",
    "sagemaker_session = sagemaker.Session()\n",
    "role = sagemaker.get_execution_role()\n",
    "\n",
    "\n",
    "# S3 bucket name\n",
    "bucket = 'sagemaker-us-west-2-479862333671'\n",
    "subfolder = ''\n",
    "conn = boto3.client('s3')\n",
    "contents = conn.list_objects(Bucket=bucket, Prefix=subfolder)['Contents']\n"
   ]
  },
  {
   "cell_type": "code",
   "execution_count": 4,
   "metadata": {},
   "outputs": [],
   "source": [
    "model_data='s3://sagemaker-us-west-2-479862333671/perdictions/output/sagemaker-xgboost-2022-01-12-11-28-10-280/output/model.tar.gz'"
   ]
  },
  {
   "cell_type": "code",
   "execution_count": 5,
   "metadata": {},
   "outputs": [
    {
     "data": {
      "text/plain": [
       "'s3://sagemaker-us-west-2-479862333671/perdictions/output/sagemaker-xgboost-2022-01-12-11-28-10-280/output/model.tar.gz'"
      ]
     },
     "execution_count": 5,
     "metadata": {},
     "output_type": "execute_result"
    }
   ],
   "source": [
    "model_data"
   ]
  },
  {
   "cell_type": "code",
   "execution_count": 6,
   "metadata": {},
   "outputs": [],
   "source": [
    "from sagemaker import image_uris\n"
   ]
  },
  {
   "cell_type": "code",
   "execution_count": 7,
   "metadata": {},
   "outputs": [],
   "source": [
    "image=image_uris.retrieve(framework='xgboost',region='us-west-2',version='1.2-1')"
   ]
  },
  {
   "cell_type": "code",
   "execution_count": 8,
   "metadata": {},
   "outputs": [
    {
     "data": {
      "text/plain": [
       "'246618743249.dkr.ecr.us-west-2.amazonaws.com/sagemaker-xgboost:1.2-1'"
      ]
     },
     "execution_count": 8,
     "metadata": {},
     "output_type": "execute_result"
    }
   ],
   "source": [
    "image "
   ]
  },
  {
   "cell_type": "code",
   "execution_count": 9,
   "metadata": {},
   "outputs": [
    {
     "data": {
      "text/plain": [
       "'arn:aws:iam::479862333671:role/service-role/AmazonSageMaker-ExecutionRole-20220103T082598'"
      ]
     },
     "execution_count": 9,
     "metadata": {},
     "output_type": "execute_result"
    }
   ],
   "source": [
    "role"
   ]
  },
  {
   "cell_type": "code",
   "execution_count": 10,
   "metadata": {},
   "outputs": [],
   "source": [
    "trainedmodel = sagemaker.model.Model(\n",
    "    image_uri=image,\n",
    "    model_data = model_data,\n",
    "    role=role)"
   ]
  },
  {
   "cell_type": "code",
   "execution_count": 11,
   "metadata": {},
   "outputs": [],
   "source": [
    "model_transformer = trainedmodel.transformer(instance_count=1, instance_type='ml.c5.4xlarge')"
   ]
  },
  {
   "cell_type": "code",
   "execution_count": 12,
   "metadata": {},
   "outputs": [],
   "source": [
    "X_val_location = 's3://{}/{}'.format(bucket, 'data/X_val_values.csv')"
   ]
  },
  {
   "cell_type": "code",
   "execution_count": 13,
   "metadata": {},
   "outputs": [
    {
     "name": "stdout",
     "output_type": "stream",
     "text": [
      "..............................\n",
      "\u001b[34m[2022-01-12:12:18:08:INFO] No GPUs detected (normal if no gpus installed)\u001b[0m\n",
      "\u001b[34m[2022-01-12:12:18:08:INFO] No GPUs detected (normal if no gpus installed)\u001b[0m\n",
      "\u001b[34m[2022-01-12:12:18:08:INFO] nginx config: \u001b[0m\n",
      "\u001b[34mworker_processes auto;\u001b[0m\n",
      "\u001b[34mdaemon off;\u001b[0m\n",
      "\u001b[34mpid /tmp/nginx.pid;\u001b[0m\n",
      "\u001b[34merror_log  /dev/stderr;\u001b[0m\n",
      "\u001b[34mworker_rlimit_nofile 4096;\u001b[0m\n",
      "\u001b[34mevents {\n",
      "  worker_connections 2048;\u001b[0m\n",
      "\u001b[34m}\u001b[0m\n",
      "\u001b[35m[2022-01-12:12:18:08:INFO] No GPUs detected (normal if no gpus installed)\u001b[0m\n",
      "\u001b[35m[2022-01-12:12:18:08:INFO] No GPUs detected (normal if no gpus installed)\u001b[0m\n",
      "\u001b[35m[2022-01-12:12:18:08:INFO] nginx config: \u001b[0m\n",
      "\u001b[35mworker_processes auto;\u001b[0m\n",
      "\u001b[35mdaemon off;\u001b[0m\n",
      "\u001b[35mpid /tmp/nginx.pid;\u001b[0m\n",
      "\u001b[35merror_log  /dev/stderr;\u001b[0m\n",
      "\u001b[35mworker_rlimit_nofile 4096;\u001b[0m\n",
      "\u001b[35mevents {\n",
      "  worker_connections 2048;\u001b[0m\n",
      "\u001b[35m}\u001b[0m\n",
      "\u001b[34mhttp {\n",
      "  include /etc/nginx/mime.types;\n",
      "  default_type application/octet-stream;\n",
      "  access_log /dev/stdout combined;\n",
      "  upstream gunicorn {\n",
      "    server unix:/tmp/gunicorn.sock;\n",
      "  }\n",
      "  server {\n",
      "    listen 8080 deferred;\n",
      "    client_max_body_size 0;\n",
      "    keepalive_timeout 3;\n",
      "    location ~ ^/(ping|invocations|execution-parameters) {\n",
      "      proxy_set_header X-Forwarded-For $proxy_add_x_forwarded_for;\n",
      "      proxy_set_header Host $http_host;\n",
      "      proxy_redirect off;\n",
      "      proxy_read_timeout 60s;\n",
      "      proxy_pass http://gunicorn;\n",
      "    }\n",
      "    location / {\n",
      "      return 404 \"{}\";\n",
      "    }\n",
      "  }\u001b[0m\n",
      "\u001b[34m}\u001b[0m\n",
      "\u001b[34m[2022-01-12 12:18:08 +0000] [44] [INFO] Starting gunicorn 19.10.0\u001b[0m\n",
      "\u001b[34m[2022-01-12 12:18:08 +0000] [44] [INFO] Listening at: unix:/tmp/gunicorn.sock (44)\u001b[0m\n",
      "\u001b[34m[2022-01-12 12:18:08 +0000] [44] [INFO] Using worker: gevent\u001b[0m\n",
      "\u001b[34m[2022-01-12 12:18:08 +0000] [63] [INFO] Booting worker with pid: 63\u001b[0m\n",
      "\u001b[34m[2022-01-12 12:18:08 +0000] [79] [INFO] Booting worker with pid: 79\u001b[0m\n",
      "\u001b[34m[2022-01-12 12:18:08 +0000] [80] [INFO] Booting worker with pid: 80\u001b[0m\n",
      "\u001b[34m[2022-01-12 12:18:08 +0000] [81] [INFO] Booting worker with pid: 81\u001b[0m\n",
      "\u001b[34m[2022-01-12 12:18:08 +0000] [112] [INFO] Booting worker with pid: 112\u001b[0m\n",
      "\u001b[34m[2022-01-12 12:18:08 +0000] [128] [INFO] Booting worker with pid: 128\u001b[0m\n",
      "\u001b[34m[2022-01-12 12:18:08 +0000] [144] [INFO] Booting worker with pid: 144\u001b[0m\n",
      "\u001b[34m[2022-01-12 12:18:09 +0000] [145] [INFO] Booting worker with pid: 145\u001b[0m\n",
      "\u001b[34m[2022-01-12 12:18:09 +0000] [161] [INFO] Booting worker with pid: 161\u001b[0m\n",
      "\u001b[34m[2022-01-12 12:18:09 +0000] [178] [INFO] Booting worker with pid: 178\u001b[0m\n",
      "\u001b[34m[2022-01-12 12:18:09 +0000] [179] [INFO] Booting worker with pid: 179\u001b[0m\n",
      "\u001b[34m[2022-01-12 12:18:09 +0000] [211] [INFO] Booting worker with pid: 211\u001b[0m\n",
      "\u001b[34m[2022-01-12 12:18:09 +0000] [227] [INFO] Booting worker with pid: 227\u001b[0m\n",
      "\u001b[34m[2022-01-12 12:18:09 +0000] [245] [INFO] Booting worker with pid: 245\u001b[0m\n",
      "\u001b[34m[2022-01-12 12:18:09 +0000] [246] [INFO] Booting worker with pid: 246\u001b[0m\n",
      "\u001b[34m[2022-01-12 12:18:09 +0000] [247] [INFO] Booting worker with pid: 247\u001b[0m\n",
      "\u001b[35mhttp {\n",
      "  include /etc/nginx/mime.types;\n",
      "  default_type application/octet-stream;\n",
      "  access_log /dev/stdout combined;\n",
      "  upstream gunicorn {\n",
      "    server unix:/tmp/gunicorn.sock;\n",
      "  }\n",
      "  server {\n",
      "    listen 8080 deferred;\n",
      "    client_max_body_size 0;\n",
      "    keepalive_timeout 3;\n",
      "    location ~ ^/(ping|invocations|execution-parameters) {\n",
      "      proxy_set_header X-Forwarded-For $proxy_add_x_forwarded_for;\n",
      "      proxy_set_header Host $http_host;\n",
      "      proxy_redirect off;\n",
      "      proxy_read_timeout 60s;\n",
      "      proxy_pass http://gunicorn;\n",
      "    }\n",
      "    location / {\n",
      "      return 404 \"{}\";\n",
      "    }\n",
      "  }\u001b[0m\n",
      "\u001b[35m}\u001b[0m\n",
      "\u001b[35m[2022-01-12 12:18:08 +0000] [44] [INFO] Starting gunicorn 19.10.0\u001b[0m\n",
      "\u001b[35m[2022-01-12 12:18:08 +0000] [44] [INFO] Listening at: unix:/tmp/gunicorn.sock (44)\u001b[0m\n",
      "\u001b[35m[2022-01-12 12:18:08 +0000] [44] [INFO] Using worker: gevent\u001b[0m\n",
      "\u001b[35m[2022-01-12 12:18:08 +0000] [63] [INFO] Booting worker with pid: 63\u001b[0m\n",
      "\u001b[35m[2022-01-12 12:18:08 +0000] [79] [INFO] Booting worker with pid: 79\u001b[0m\n",
      "\u001b[35m[2022-01-12 12:18:08 +0000] [80] [INFO] Booting worker with pid: 80\u001b[0m\n",
      "\u001b[35m[2022-01-12 12:18:08 +0000] [81] [INFO] Booting worker with pid: 81\u001b[0m\n",
      "\u001b[35m[2022-01-12 12:18:08 +0000] [112] [INFO] Booting worker with pid: 112\u001b[0m\n",
      "\u001b[35m[2022-01-12 12:18:08 +0000] [128] [INFO] Booting worker with pid: 128\u001b[0m\n",
      "\u001b[35m[2022-01-12 12:18:08 +0000] [144] [INFO] Booting worker with pid: 144\u001b[0m\n",
      "\u001b[35m[2022-01-12 12:18:09 +0000] [145] [INFO] Booting worker with pid: 145\u001b[0m\n",
      "\u001b[35m[2022-01-12 12:18:09 +0000] [161] [INFO] Booting worker with pid: 161\u001b[0m\n",
      "\u001b[35m[2022-01-12 12:18:09 +0000] [178] [INFO] Booting worker with pid: 178\u001b[0m\n",
      "\u001b[35m[2022-01-12 12:18:09 +0000] [179] [INFO] Booting worker with pid: 179\u001b[0m\n",
      "\u001b[35m[2022-01-12 12:18:09 +0000] [211] [INFO] Booting worker with pid: 211\u001b[0m\n",
      "\u001b[35m[2022-01-12 12:18:09 +0000] [227] [INFO] Booting worker with pid: 227\u001b[0m\n",
      "\u001b[35m[2022-01-12 12:18:09 +0000] [245] [INFO] Booting worker with pid: 245\u001b[0m\n",
      "\u001b[35m[2022-01-12 12:18:09 +0000] [246] [INFO] Booting worker with pid: 246\u001b[0m\n",
      "\u001b[35m[2022-01-12 12:18:09 +0000] [247] [INFO] Booting worker with pid: 247\u001b[0m\n",
      "\u001b[34m[2022-01-12:12:18:12:INFO] No GPUs detected (normal if no gpus installed)\u001b[0m\n",
      "\u001b[34m169.254.255.130 - - [12/Jan/2022:12:18:12 +0000] \"GET /ping HTTP/1.1\" 200 0 \"-\" \"Go-http-client/1.1\"\u001b[0m\n",
      "\u001b[35m[2022-01-12:12:18:12:INFO] No GPUs detected (normal if no gpus installed)\u001b[0m\n",
      "\u001b[35m169.254.255.130 - - [12/Jan/2022:12:18:12 +0000] \"GET /ping HTTP/1.1\" 200 0 \"-\" \"Go-http-client/1.1\"\u001b[0m\n",
      "\u001b[34m[2022-01-12:12:18:12:INFO] No GPUs detected (normal if no gpus installed)\u001b[0m\n",
      "\u001b[34m169.254.255.130 - - [12/Jan/2022:12:18:12 +0000] \"GET /execution-parameters HTTP/1.1\" 200 85 \"-\" \"Go-http-client/1.1\"\u001b[0m\n",
      "\u001b[34m[2022-01-12:12:18:13:INFO] No GPUs detected (normal if no gpus installed)\u001b[0m\n",
      "\u001b[34m[2022-01-12:12:18:13:INFO] No GPUs detected (normal if no gpus installed)\u001b[0m\n",
      "\u001b[34m[2022-01-12:12:18:13:INFO] Determined delimiter of CSV input is ','\u001b[0m\n",
      "\u001b[34m[2022-01-12:12:18:13:INFO] Determined delimiter of CSV input is ','\u001b[0m\n",
      "\u001b[34m[2022-01-12:12:18:13:INFO] Determined delimiter of CSV input is ','\u001b[0m\n",
      "\u001b[34m[2022-01-12:12:18:13:INFO] No GPUs detected (normal if no gpus installed)\u001b[0m\n",
      "\u001b[34m[2022-01-12:12:18:13:INFO] Determined delimiter of CSV input is ','\u001b[0m\n",
      "\u001b[34m[2022-01-12:12:18:13:INFO] No GPUs detected (normal if no gpus installed)\u001b[0m\n",
      "\u001b[34m[2022-01-12:12:18:13:INFO] No GPUs detected (normal if no gpus installed)\u001b[0m\n",
      "\u001b[34m[2022-01-12:12:18:13:INFO] Determined delimiter of CSV input is ','\u001b[0m\n",
      "\u001b[34m[2022-01-12:12:18:13:INFO] Determined delimiter of CSV input is ','\u001b[0m\n",
      "\u001b[34m[2022-01-12:12:18:13:INFO] No GPUs detected (normal if no gpus installed)\u001b[0m\n",
      "\u001b[34m[2022-01-12:12:18:13:INFO] No GPUs detected (normal if no gpus installed)\u001b[0m\n",
      "\u001b[34m[2022-01-12:12:18:13:INFO] Determined delimiter of CSV input is ','\u001b[0m\n",
      "\u001b[34m[2022-01-12:12:18:13:INFO] No GPUs detected (normal if no gpus installed)\u001b[0m\n",
      "\u001b[34m[2022-01-12:12:18:13:INFO] Determined delimiter of CSV input is ','\u001b[0m\n",
      "\u001b[34m[2022-01-12:12:18:13:INFO] No GPUs detected (normal if no gpus installed)\u001b[0m\n",
      "\u001b[34m[2022-01-12:12:18:13:INFO] No GPUs detected (normal if no gpus installed)\u001b[0m\n",
      "\u001b[34m[2022-01-12:12:18:13:INFO] Determined delimiter of CSV input is ','\u001b[0m\n",
      "\u001b[34m[2022-01-12:12:18:13:INFO] Determined delimiter of CSV input is ','\u001b[0m\n",
      "\u001b[34m[2022-01-12:12:18:13:INFO] Determined delimiter of CSV input is ','\u001b[0m\n",
      "\u001b[34m[2022-01-12:12:18:13:INFO] Determined delimiter of CSV input is ','\u001b[0m\n",
      "\u001b[35m[2022-01-12:12:18:12:INFO] No GPUs detected (normal if no gpus installed)\u001b[0m\n",
      "\u001b[35m169.254.255.130 - - [12/Jan/2022:12:18:12 +0000] \"GET /execution-parameters HTTP/1.1\" 200 85 \"-\" \"Go-http-client/1.1\"\u001b[0m\n",
      "\u001b[35m[2022-01-12:12:18:13:INFO] No GPUs detected (normal if no gpus installed)\u001b[0m\n",
      "\u001b[35m[2022-01-12:12:18:13:INFO] No GPUs detected (normal if no gpus installed)\u001b[0m\n",
      "\u001b[35m[2022-01-12:12:18:13:INFO] Determined delimiter of CSV input is ','\u001b[0m\n",
      "\u001b[35m[2022-01-12:12:18:13:INFO] Determined delimiter of CSV input is ','\u001b[0m\n",
      "\u001b[35m[2022-01-12:12:18:13:INFO] Determined delimiter of CSV input is ','\u001b[0m\n",
      "\u001b[35m[2022-01-12:12:18:13:INFO] No GPUs detected (normal if no gpus installed)\u001b[0m\n",
      "\u001b[35m[2022-01-12:12:18:13:INFO] Determined delimiter of CSV input is ','\u001b[0m\n",
      "\u001b[35m[2022-01-12:12:18:13:INFO] No GPUs detected (normal if no gpus installed)\u001b[0m\n",
      "\u001b[35m[2022-01-12:12:18:13:INFO] No GPUs detected (normal if no gpus installed)\u001b[0m\n",
      "\u001b[35m[2022-01-12:12:18:13:INFO] Determined delimiter of CSV input is ','\u001b[0m\n",
      "\u001b[35m[2022-01-12:12:18:13:INFO] Determined delimiter of CSV input is ','\u001b[0m\n",
      "\u001b[35m[2022-01-12:12:18:13:INFO] No GPUs detected (normal if no gpus installed)\u001b[0m\n",
      "\u001b[35m[2022-01-12:12:18:13:INFO] No GPUs detected (normal if no gpus installed)\u001b[0m\n",
      "\u001b[35m[2022-01-12:12:18:13:INFO] Determined delimiter of CSV input is ','\u001b[0m\n",
      "\u001b[35m[2022-01-12:12:18:13:INFO] No GPUs detected (normal if no gpus installed)\u001b[0m\n",
      "\u001b[35m[2022-01-12:12:18:13:INFO] Determined delimiter of CSV input is ','\u001b[0m\n",
      "\u001b[35m[2022-01-12:12:18:13:INFO] No GPUs detected (normal if no gpus installed)\u001b[0m\n",
      "\u001b[35m[2022-01-12:12:18:13:INFO] No GPUs detected (normal if no gpus installed)\u001b[0m\n",
      "\u001b[35m[2022-01-12:12:18:13:INFO] Determined delimiter of CSV input is ','\u001b[0m\n",
      "\u001b[35m[2022-01-12:12:18:13:INFO] Determined delimiter of CSV input is ','\u001b[0m\n",
      "\u001b[35m[2022-01-12:12:18:13:INFO] Determined delimiter of CSV input is ','\u001b[0m\n",
      "\u001b[35m[2022-01-12:12:18:13:INFO] Determined delimiter of CSV input is ','\u001b[0m\n",
      "\u001b[34m[12:18:14] WARNING: ../src/objective/regression_obj.cu:174: reg:linear is now deprecated in favor of reg:squarederror.\u001b[0m\n",
      "\u001b[34m169.254.255.130 - - [12/Jan/2022:12:18:14 +0000] \"POST /invocations HTTP/1.1\" 200 1337783 \"-\" \"Go-http-client/1.1\"\u001b[0m\n",
      "\u001b[35m[12:18:14] WARNING: ../src/objective/regression_obj.cu:174: reg:linear is now deprecated in favor of reg:squarederror.\u001b[0m\n",
      "\u001b[35m169.254.255.130 - - [12/Jan/2022:12:18:14 +0000] \"POST /invocations HTTP/1.1\" 200 1337783 \"-\" \"Go-http-client/1.1\"\u001b[0m\n",
      "\u001b[34m[12:18:14] WARNING: ../src/objective/regression_obj.cu:174: reg:linear is now deprecated in favor of reg:squarederror.\u001b[0m\n",
      "\u001b[34m[12:18:14] WARNING: ../src/objective/regression_obj.cu:174: reg:linear is now deprecated in favor of reg:squarederror.\u001b[0m\n",
      "\u001b[34m[12:18:14] WARNING: ../src/objective/regression_obj.cu:174: reg:linear is now deprecated in favor of reg:squarederror.\u001b[0m\n",
      "\u001b[34m169.254.255.130 - - [12/Jan/2022:12:18:14 +0000] \"POST /invocations HTTP/1.1\" 200 1338435 \"-\" \"Go-http-client/1.1\"\u001b[0m\n",
      "\u001b[34m169.254.255.130 - - [12/Jan/2022:12:18:14 +0000] \"POST /invocations HTTP/1.1\" 200 1334106 \"-\" \"Go-http-client/1.1\"\u001b[0m\n",
      "\u001b[35m[12:18:14] WARNING: ../src/objective/regression_obj.cu:174: reg:linear is now deprecated in favor of reg:squarederror.\u001b[0m\n",
      "\u001b[35m[12:18:14] WARNING: ../src/objective/regression_obj.cu:174: reg:linear is now deprecated in favor of reg:squarederror.\u001b[0m\n",
      "\u001b[35m[12:18:14] WARNING: ../src/objective/regression_obj.cu:174: reg:linear is now deprecated in favor of reg:squarederror.\u001b[0m\n",
      "\u001b[35m169.254.255.130 - - [12/Jan/2022:12:18:14 +0000] \"POST /invocations HTTP/1.1\" 200 1338435 \"-\" \"Go-http-client/1.1\"\u001b[0m\n",
      "\u001b[35m169.254.255.130 - - [12/Jan/2022:12:18:14 +0000] \"POST /invocations HTTP/1.1\" 200 1334106 \"-\" \"Go-http-client/1.1\"\u001b[0m\n",
      "\u001b[32m2022-01-12T12:18:12.938:[sagemaker logs]: MaxConcurrentTransforms=16, MaxPayloadInMB=6, BatchStrategy=MULTI_RECORD\u001b[0m\n",
      "\u001b[34m169.254.255.130 - - [12/Jan/2022:12:18:14 +0000] \"POST /invocations HTTP/1.1\" 200 1347084 \"-\" \"Go-http-client/1.1\"\u001b[0m\n",
      "\u001b[34m[12:18:14] WARNING: ../src/objective/regression_obj.cu:174: reg:linear is now deprecated in favor of reg:squarederror.\u001b[0m\n",
      "\u001b[34m[12:18:15] WARNING: ../src/objective/regression_obj.cu:174: reg:linear is now deprecated in favor of reg:squarederror.\u001b[0m\n",
      "\u001b[34m169.254.255.130 - - [12/Jan/2022:12:18:15 +0000] \"POST /invocations HTTP/1.1\" 200 1335679 \"-\" \"Go-http-client/1.1\"\u001b[0m\n",
      "\u001b[34m169.254.255.130 - - [12/Jan/2022:12:18:15 +0000] \"POST /invocations HTTP/1.1\" 200 933572 \"-\" \"Go-http-client/1.1\"\u001b[0m\n",
      "\u001b[34m[12:18:15] WARNING: ../src/objective/regression_obj.cu:174: reg:linear is now deprecated in favor of reg:squarederror.\u001b[0m\n",
      "\u001b[34m[12:18:15] WARNING: ../src/objective/regression_obj.cu:174: reg:linear is now deprecated in favor of reg:squarederror.\u001b[0m\n",
      "\u001b[34m[12:18:15] WARNING: ../src/objective/regression_obj.cu:174: reg:linear is now deprecated in favor of reg:squarederror.\u001b[0m\n",
      "\u001b[34m[12:18:15] WARNING: ../src/objective/regression_obj.cu:174: reg:linear is now deprecated in favor of reg:squarederror.\u001b[0m\n",
      "\u001b[34m[12:18:15] WARNING: ../src/objective/regression_obj.cu:174: reg:linear is now deprecated in favor of reg:squarederror.\u001b[0m\n",
      "\u001b[34m169.254.255.130 - - [12/Jan/2022:12:18:15 +0000] \"POST /invocations HTTP/1.1\" 200 1331800 \"-\" \"Go-http-client/1.1\"\u001b[0m\n",
      "\u001b[34m[12:18:15] WARNING: ../src/objective/regression_obj.cu:174: reg:linear is now deprecated in favor of reg:squarederror.\u001b[0m\n",
      "\u001b[34m169.254.255.130 - - [12/Jan/2022:12:18:15 +0000] \"POST /invocations HTTP/1.1\" 200 1349448 \"-\" \"Go-http-client/1.1\"\u001b[0m\n",
      "\u001b[34m169.254.255.130 - - [12/Jan/2022:12:18:15 +0000] \"POST /invocations HTTP/1.1\" 200 1336772 \"-\" \"Go-http-client/1.1\"\u001b[0m\n",
      "\u001b[34m169.254.255.130 - - [12/Jan/2022:12:18:15 +0000] \"POST /invocations HTTP/1.1\" 200 1343437 \"-\" \"Go-http-client/1.1\"\u001b[0m\n",
      "\u001b[34m169.254.255.130 - - [12/Jan/2022:12:18:15 +0000] \"POST /invocations HTTP/1.1\" 200 1337276 \"-\" \"Go-http-client/1.1\"\u001b[0m\n",
      "\u001b[34m169.254.255.130 - - [12/Jan/2022:12:18:15 +0000] \"POST /invocations HTTP/1.1\" 200 1331990 \"-\" \"Go-http-client/1.1\"\u001b[0m\n",
      "\u001b[35m169.254.255.130 - - [12/Jan/2022:12:18:14 +0000] \"POST /invocations HTTP/1.1\" 200 1347084 \"-\" \"Go-http-client/1.1\"\u001b[0m\n",
      "\u001b[35m[12:18:14] WARNING: ../src/objective/regression_obj.cu:174: reg:linear is now deprecated in favor of reg:squarederror.\u001b[0m\n",
      "\u001b[35m[12:18:15] WARNING: ../src/objective/regression_obj.cu:174: reg:linear is now deprecated in favor of reg:squarederror.\u001b[0m\n",
      "\u001b[35m169.254.255.130 - - [12/Jan/2022:12:18:15 +0000] \"POST /invocations HTTP/1.1\" 200 1335679 \"-\" \"Go-http-client/1.1\"\u001b[0m\n",
      "\u001b[35m169.254.255.130 - - [12/Jan/2022:12:18:15 +0000] \"POST /invocations HTTP/1.1\" 200 933572 \"-\" \"Go-http-client/1.1\"\u001b[0m\n",
      "\u001b[35m[12:18:15] WARNING: ../src/objective/regression_obj.cu:174: reg:linear is now deprecated in favor of reg:squarederror.\u001b[0m\n",
      "\u001b[35m[12:18:15] WARNING: ../src/objective/regression_obj.cu:174: reg:linear is now deprecated in favor of reg:squarederror.\u001b[0m\n",
      "\u001b[35m[12:18:15] WARNING: ../src/objective/regression_obj.cu:174: reg:linear is now deprecated in favor of reg:squarederror.\u001b[0m\n",
      "\u001b[35m[12:18:15] WARNING: ../src/objective/regression_obj.cu:174: reg:linear is now deprecated in favor of reg:squarederror.\u001b[0m\n",
      "\u001b[35m[12:18:15] WARNING: ../src/objective/regression_obj.cu:174: reg:linear is now deprecated in favor of reg:squarederror.\u001b[0m\n",
      "\u001b[35m169.254.255.130 - - [12/Jan/2022:12:18:15 +0000] \"POST /invocations HTTP/1.1\" 200 1331800 \"-\" \"Go-http-client/1.1\"\u001b[0m\n",
      "\u001b[35m[12:18:15] WARNING: ../src/objective/regression_obj.cu:174: reg:linear is now deprecated in favor of reg:squarederror.\u001b[0m\n",
      "\u001b[35m169.254.255.130 - - [12/Jan/2022:12:18:15 +0000] \"POST /invocations HTTP/1.1\" 200 1349448 \"-\" \"Go-http-client/1.1\"\u001b[0m\n",
      "\u001b[35m169.254.255.130 - - [12/Jan/2022:12:18:15 +0000] \"POST /invocations HTTP/1.1\" 200 1336772 \"-\" \"Go-http-client/1.1\"\u001b[0m\n",
      "\u001b[35m169.254.255.130 - - [12/Jan/2022:12:18:15 +0000] \"POST /invocations HTTP/1.1\" 200 1343437 \"-\" \"Go-http-client/1.1\"\u001b[0m\n",
      "\u001b[35m169.254.255.130 - - [12/Jan/2022:12:18:15 +0000] \"POST /invocations HTTP/1.1\" 200 1337276 \"-\" \"Go-http-client/1.1\"\u001b[0m\n",
      "\u001b[35m169.254.255.130 - - [12/Jan/2022:12:18:15 +0000] \"POST /invocations HTTP/1.1\" 200 1331990 \"-\" \"Go-http-client/1.1\"\u001b[0m\n"
     ]
    }
   ],
   "source": [
    "model_transformer.transform(X_val_location, content_type='text/csv', split_type='Line')"
   ]
  },
  {
   "cell_type": "code",
   "execution_count": 14,
   "metadata": {},
   "outputs": [
    {
     "name": "stdout",
     "output_type": "stream",
     "text": [
      "\u001b[34m[2022-01-12:12:18:08:INFO] No GPUs detected (normal if no gpus installed)\u001b[0m\n",
      "\u001b[34m[2022-01-12:12:18:08:INFO] No GPUs detected (normal if no gpus installed)\u001b[0m\n",
      "\u001b[34m[2022-01-12:12:18:08:INFO] nginx config: \u001b[0m\n",
      "\u001b[34mworker_processes auto;\u001b[0m\n",
      "\u001b[34mdaemon off;\u001b[0m\n",
      "\u001b[34mpid /tmp/nginx.pid;\u001b[0m\n",
      "\u001b[34merror_log  /dev/stderr;\u001b[0m\n",
      "\u001b[34mworker_rlimit_nofile 4096;\u001b[0m\n",
      "\u001b[34mevents {\n",
      "  worker_connections 2048;\u001b[0m\n",
      "\u001b[34m}\u001b[0m\n",
      "\u001b[35m[2022-01-12:12:18:08:INFO] No GPUs detected (normal if no gpus installed)\u001b[0m\n",
      "\u001b[35m[2022-01-12:12:18:08:INFO] No GPUs detected (normal if no gpus installed)\u001b[0m\n",
      "\u001b[35m[2022-01-12:12:18:08:INFO] nginx config: \u001b[0m\n",
      "\u001b[35mworker_processes auto;\u001b[0m\n",
      "\u001b[35mdaemon off;\u001b[0m\n",
      "\u001b[35mpid /tmp/nginx.pid;\u001b[0m\n",
      "\u001b[35merror_log  /dev/stderr;\u001b[0m\n",
      "\u001b[35mworker_rlimit_nofile 4096;\u001b[0m\n",
      "\u001b[35mevents {\n",
      "  worker_connections 2048;\u001b[0m\n",
      "\u001b[35m}\u001b[0m\n",
      "\u001b[34mhttp {\n",
      "  include /etc/nginx/mime.types;\n",
      "  default_type application/octet-stream;\n",
      "  access_log /dev/stdout combined;\n",
      "  upstream gunicorn {\n",
      "    server unix:/tmp/gunicorn.sock;\n",
      "  }\n",
      "  server {\n",
      "    listen 8080 deferred;\n",
      "    client_max_body_size 0;\n",
      "    keepalive_timeout 3;\n",
      "    location ~ ^/(ping|invocations|execution-parameters) {\n",
      "      proxy_set_header X-Forwarded-For $proxy_add_x_forwarded_for;\n",
      "      proxy_set_header Host $http_host;\n",
      "      proxy_redirect off;\n",
      "      proxy_read_timeout 60s;\n",
      "      proxy_pass http://gunicorn;\n",
      "    }\n",
      "    location / {\n",
      "      return 404 \"{}\";\n",
      "    }\n",
      "  }\u001b[0m\n",
      "\u001b[34m}\u001b[0m\n",
      "\u001b[34m[2022-01-12 12:18:08 +0000] [44] [INFO] Starting gunicorn 19.10.0\u001b[0m\n",
      "\u001b[34m[2022-01-12 12:18:08 +0000] [44] [INFO] Listening at: unix:/tmp/gunicorn.sock (44)\u001b[0m\n",
      "\u001b[34m[2022-01-12 12:18:08 +0000] [44] [INFO] Using worker: gevent\u001b[0m\n",
      "\u001b[34m[2022-01-12 12:18:08 +0000] [63] [INFO] Booting worker with pid: 63\u001b[0m\n",
      "\u001b[34m[2022-01-12 12:18:08 +0000] [79] [INFO] Booting worker with pid: 79\u001b[0m\n",
      "\u001b[34m[2022-01-12 12:18:08 +0000] [80] [INFO] Booting worker with pid: 80\u001b[0m\n",
      "\u001b[34m[2022-01-12 12:18:08 +0000] [81] [INFO] Booting worker with pid: 81\u001b[0m\n",
      "\u001b[34m[2022-01-12 12:18:08 +0000] [112] [INFO] Booting worker with pid: 112\u001b[0m\n",
      "\u001b[34m[2022-01-12 12:18:08 +0000] [128] [INFO] Booting worker with pid: 128\u001b[0m\n",
      "\u001b[34m[2022-01-12 12:18:08 +0000] [144] [INFO] Booting worker with pid: 144\u001b[0m\n",
      "\u001b[34m[2022-01-12 12:18:09 +0000] [145] [INFO] Booting worker with pid: 145\u001b[0m\n",
      "\u001b[34m[2022-01-12 12:18:09 +0000] [161] [INFO] Booting worker with pid: 161\u001b[0m\n",
      "\u001b[34m[2022-01-12 12:18:09 +0000] [178] [INFO] Booting worker with pid: 178\u001b[0m\n",
      "\u001b[34m[2022-01-12 12:18:09 +0000] [179] [INFO] Booting worker with pid: 179\u001b[0m\n",
      "\u001b[34m[2022-01-12 12:18:09 +0000] [211] [INFO] Booting worker with pid: 211\u001b[0m\n",
      "\u001b[34m[2022-01-12 12:18:09 +0000] [227] [INFO] Booting worker with pid: 227\u001b[0m\n",
      "\u001b[34m[2022-01-12 12:18:09 +0000] [245] [INFO] Booting worker with pid: 245\u001b[0m\n",
      "\u001b[34m[2022-01-12 12:18:09 +0000] [246] [INFO] Booting worker with pid: 246\u001b[0m\n",
      "\u001b[34m[2022-01-12 12:18:09 +0000] [247] [INFO] Booting worker with pid: 247\u001b[0m\n",
      "\u001b[35mhttp {\n",
      "  include /etc/nginx/mime.types;\n",
      "  default_type application/octet-stream;\n",
      "  access_log /dev/stdout combined;\n",
      "  upstream gunicorn {\n",
      "    server unix:/tmp/gunicorn.sock;\n",
      "  }\n",
      "  server {\n",
      "    listen 8080 deferred;\n",
      "    client_max_body_size 0;\n",
      "    keepalive_timeout 3;\n",
      "    location ~ ^/(ping|invocations|execution-parameters) {\n",
      "      proxy_set_header X-Forwarded-For $proxy_add_x_forwarded_for;\n",
      "      proxy_set_header Host $http_host;\n",
      "      proxy_redirect off;\n",
      "      proxy_read_timeout 60s;\n",
      "      proxy_pass http://gunicorn;\n",
      "    }\n",
      "    location / {\n",
      "      return 404 \"{}\";\n",
      "    }\n",
      "  }\u001b[0m\n",
      "\u001b[35m}\u001b[0m\n",
      "\u001b[35m[2022-01-12 12:18:08 +0000] [44] [INFO] Starting gunicorn 19.10.0\u001b[0m\n",
      "\u001b[35m[2022-01-12 12:18:08 +0000] [44] [INFO] Listening at: unix:/tmp/gunicorn.sock (44)\u001b[0m\n",
      "\u001b[35m[2022-01-12 12:18:08 +0000] [44] [INFO] Using worker: gevent\u001b[0m\n",
      "\u001b[35m[2022-01-12 12:18:08 +0000] [63] [INFO] Booting worker with pid: 63\u001b[0m\n",
      "\u001b[35m[2022-01-12 12:18:08 +0000] [79] [INFO] Booting worker with pid: 79\u001b[0m\n",
      "\u001b[35m[2022-01-12 12:18:08 +0000] [80] [INFO] Booting worker with pid: 80\u001b[0m\n",
      "\u001b[35m[2022-01-12 12:18:08 +0000] [81] [INFO] Booting worker with pid: 81\u001b[0m\n",
      "\u001b[35m[2022-01-12 12:18:08 +0000] [112] [INFO] Booting worker with pid: 112\u001b[0m\n",
      "\u001b[35m[2022-01-12 12:18:08 +0000] [128] [INFO] Booting worker with pid: 128\u001b[0m\n",
      "\u001b[35m[2022-01-12 12:18:08 +0000] [144] [INFO] Booting worker with pid: 144\u001b[0m\n",
      "\u001b[35m[2022-01-12 12:18:09 +0000] [145] [INFO] Booting worker with pid: 145\u001b[0m\n",
      "\u001b[35m[2022-01-12 12:18:09 +0000] [161] [INFO] Booting worker with pid: 161\u001b[0m\n",
      "\u001b[35m[2022-01-12 12:18:09 +0000] [178] [INFO] Booting worker with pid: 178\u001b[0m\n",
      "\u001b[35m[2022-01-12 12:18:09 +0000] [179] [INFO] Booting worker with pid: 179\u001b[0m\n",
      "\u001b[35m[2022-01-12 12:18:09 +0000] [211] [INFO] Booting worker with pid: 211\u001b[0m\n",
      "\u001b[35m[2022-01-12 12:18:09 +0000] [227] [INFO] Booting worker with pid: 227\u001b[0m\n",
      "\u001b[35m[2022-01-12 12:18:09 +0000] [245] [INFO] Booting worker with pid: 245\u001b[0m\n",
      "\u001b[35m[2022-01-12 12:18:09 +0000] [246] [INFO] Booting worker with pid: 246\u001b[0m\n",
      "\u001b[35m[2022-01-12 12:18:09 +0000] [247] [INFO] Booting worker with pid: 247\u001b[0m\n",
      "\u001b[34m[2022-01-12:12:18:12:INFO] No GPUs detected (normal if no gpus installed)\u001b[0m\n",
      "\u001b[34m169.254.255.130 - - [12/Jan/2022:12:18:12 +0000] \"GET /ping HTTP/1.1\" 200 0 \"-\" \"Go-http-client/1.1\"\u001b[0m\n",
      "\u001b[35m[2022-01-12:12:18:12:INFO] No GPUs detected (normal if no gpus installed)\u001b[0m\n",
      "\u001b[35m169.254.255.130 - - [12/Jan/2022:12:18:12 +0000] \"GET /ping HTTP/1.1\" 200 0 \"-\" \"Go-http-client/1.1\"\u001b[0m\n",
      "\u001b[34m[2022-01-12:12:18:12:INFO] No GPUs detected (normal if no gpus installed)\u001b[0m\n",
      "\u001b[34m169.254.255.130 - - [12/Jan/2022:12:18:12 +0000] \"GET /execution-parameters HTTP/1.1\" 200 85 \"-\" \"Go-http-client/1.1\"\u001b[0m\n",
      "\u001b[34m[2022-01-12:12:18:13:INFO] No GPUs detected (normal if no gpus installed)\u001b[0m\n",
      "\u001b[34m[2022-01-12:12:18:13:INFO] No GPUs detected (normal if no gpus installed)\u001b[0m\n",
      "\u001b[34m[2022-01-12:12:18:13:INFO] Determined delimiter of CSV input is ','\u001b[0m\n",
      "\u001b[34m[2022-01-12:12:18:13:INFO] Determined delimiter of CSV input is ','\u001b[0m\n",
      "\u001b[34m[2022-01-12:12:18:13:INFO] Determined delimiter of CSV input is ','\u001b[0m\n",
      "\u001b[34m[2022-01-12:12:18:13:INFO] No GPUs detected (normal if no gpus installed)\u001b[0m\n",
      "\u001b[34m[2022-01-12:12:18:13:INFO] Determined delimiter of CSV input is ','\u001b[0m\n",
      "\u001b[34m[2022-01-12:12:18:13:INFO] No GPUs detected (normal if no gpus installed)\u001b[0m\n",
      "\u001b[34m[2022-01-12:12:18:13:INFO] No GPUs detected (normal if no gpus installed)\u001b[0m\n",
      "\u001b[34m[2022-01-12:12:18:13:INFO] Determined delimiter of CSV input is ','\u001b[0m\n",
      "\u001b[34m[2022-01-12:12:18:13:INFO] Determined delimiter of CSV input is ','\u001b[0m\n",
      "\u001b[34m[2022-01-12:12:18:13:INFO] No GPUs detected (normal if no gpus installed)\u001b[0m\n",
      "\u001b[34m[2022-01-12:12:18:13:INFO] No GPUs detected (normal if no gpus installed)\u001b[0m\n",
      "\u001b[34m[2022-01-12:12:18:13:INFO] Determined delimiter of CSV input is ','\u001b[0m\n",
      "\u001b[34m[2022-01-12:12:18:13:INFO] No GPUs detected (normal if no gpus installed)\u001b[0m\n",
      "\u001b[34m[2022-01-12:12:18:13:INFO] Determined delimiter of CSV input is ','\u001b[0m\n",
      "\u001b[34m[2022-01-12:12:18:13:INFO] No GPUs detected (normal if no gpus installed)\u001b[0m\n",
      "\u001b[34m[2022-01-12:12:18:13:INFO] No GPUs detected (normal if no gpus installed)\u001b[0m\n",
      "\u001b[34m[2022-01-12:12:18:13:INFO] Determined delimiter of CSV input is ','\u001b[0m\n",
      "\u001b[34m[2022-01-12:12:18:13:INFO] Determined delimiter of CSV input is ','\u001b[0m\n",
      "\u001b[34m[2022-01-12:12:18:13:INFO] Determined delimiter of CSV input is ','\u001b[0m\n",
      "\u001b[34m[2022-01-12:12:18:13:INFO] Determined delimiter of CSV input is ','\u001b[0m\n",
      "\u001b[35m[2022-01-12:12:18:12:INFO] No GPUs detected (normal if no gpus installed)\u001b[0m\n",
      "\u001b[35m169.254.255.130 - - [12/Jan/2022:12:18:12 +0000] \"GET /execution-parameters HTTP/1.1\" 200 85 \"-\" \"Go-http-client/1.1\"\u001b[0m\n",
      "\u001b[35m[2022-01-12:12:18:13:INFO] No GPUs detected (normal if no gpus installed)\u001b[0m\n",
      "\u001b[35m[2022-01-12:12:18:13:INFO] No GPUs detected (normal if no gpus installed)\u001b[0m\n",
      "\u001b[35m[2022-01-12:12:18:13:INFO] Determined delimiter of CSV input is ','\u001b[0m\n",
      "\u001b[35m[2022-01-12:12:18:13:INFO] Determined delimiter of CSV input is ','\u001b[0m\n",
      "\u001b[35m[2022-01-12:12:18:13:INFO] Determined delimiter of CSV input is ','\u001b[0m\n",
      "\u001b[35m[2022-01-12:12:18:13:INFO] No GPUs detected (normal if no gpus installed)\u001b[0m\n",
      "\u001b[35m[2022-01-12:12:18:13:INFO] Determined delimiter of CSV input is ','\u001b[0m\n",
      "\u001b[35m[2022-01-12:12:18:13:INFO] No GPUs detected (normal if no gpus installed)\u001b[0m\n",
      "\u001b[35m[2022-01-12:12:18:13:INFO] No GPUs detected (normal if no gpus installed)\u001b[0m\n",
      "\u001b[35m[2022-01-12:12:18:13:INFO] Determined delimiter of CSV input is ','\u001b[0m\n",
      "\u001b[35m[2022-01-12:12:18:13:INFO] Determined delimiter of CSV input is ','\u001b[0m\n",
      "\u001b[35m[2022-01-12:12:18:13:INFO] No GPUs detected (normal if no gpus installed)\u001b[0m\n",
      "\u001b[35m[2022-01-12:12:18:13:INFO] No GPUs detected (normal if no gpus installed)\u001b[0m\n",
      "\u001b[35m[2022-01-12:12:18:13:INFO] Determined delimiter of CSV input is ','\u001b[0m\n",
      "\u001b[35m[2022-01-12:12:18:13:INFO] No GPUs detected (normal if no gpus installed)\u001b[0m\n",
      "\u001b[35m[2022-01-12:12:18:13:INFO] Determined delimiter of CSV input is ','\u001b[0m\n",
      "\u001b[35m[2022-01-12:12:18:13:INFO] No GPUs detected (normal if no gpus installed)\u001b[0m\n",
      "\u001b[35m[2022-01-12:12:18:13:INFO] No GPUs detected (normal if no gpus installed)\u001b[0m\n",
      "\u001b[35m[2022-01-12:12:18:13:INFO] Determined delimiter of CSV input is ','\u001b[0m\n",
      "\u001b[35m[2022-01-12:12:18:13:INFO] Determined delimiter of CSV input is ','\u001b[0m\n",
      "\u001b[35m[2022-01-12:12:18:13:INFO] Determined delimiter of CSV input is ','\u001b[0m\n",
      "\u001b[35m[2022-01-12:12:18:13:INFO] Determined delimiter of CSV input is ','\u001b[0m\n",
      "\u001b[34m[12:18:14] WARNING: ../src/objective/regression_obj.cu:174: reg:linear is now deprecated in favor of reg:squarederror.\u001b[0m\n",
      "\u001b[34m169.254.255.130 - - [12/Jan/2022:12:18:14 +0000] \"POST /invocations HTTP/1.1\" 200 1337783 \"-\" \"Go-http-client/1.1\"\u001b[0m\n",
      "\u001b[35m[12:18:14] WARNING: ../src/objective/regression_obj.cu:174: reg:linear is now deprecated in favor of reg:squarederror.\u001b[0m\n",
      "\u001b[35m169.254.255.130 - - [12/Jan/2022:12:18:14 +0000] \"POST /invocations HTTP/1.1\" 200 1337783 \"-\" \"Go-http-client/1.1\"\u001b[0m\n",
      "\u001b[34m[12:18:14] WARNING: ../src/objective/regression_obj.cu:174: reg:linear is now deprecated in favor of reg:squarederror.\u001b[0m\n",
      "\u001b[34m[12:18:14] WARNING: ../src/objective/regression_obj.cu:174: reg:linear is now deprecated in favor of reg:squarederror.\u001b[0m\n",
      "\u001b[34m[12:18:14] WARNING: ../src/objective/regression_obj.cu:174: reg:linear is now deprecated in favor of reg:squarederror.\u001b[0m\n",
      "\u001b[34m169.254.255.130 - - [12/Jan/2022:12:18:14 +0000] \"POST /invocations HTTP/1.1\" 200 1338435 \"-\" \"Go-http-client/1.1\"\u001b[0m\n",
      "\u001b[34m169.254.255.130 - - [12/Jan/2022:12:18:14 +0000] \"POST /invocations HTTP/1.1\" 200 1334106 \"-\" \"Go-http-client/1.1\"\u001b[0m\n",
      "\u001b[35m[12:18:14] WARNING: ../src/objective/regression_obj.cu:174: reg:linear is now deprecated in favor of reg:squarederror.\u001b[0m\n",
      "\u001b[35m[12:18:14] WARNING: ../src/objective/regression_obj.cu:174: reg:linear is now deprecated in favor of reg:squarederror.\u001b[0m\n",
      "\u001b[35m[12:18:14] WARNING: ../src/objective/regression_obj.cu:174: reg:linear is now deprecated in favor of reg:squarederror.\u001b[0m\n",
      "\u001b[35m169.254.255.130 - - [12/Jan/2022:12:18:14 +0000] \"POST /invocations HTTP/1.1\" 200 1338435 \"-\" \"Go-http-client/1.1\"\u001b[0m\n",
      "\u001b[35m169.254.255.130 - - [12/Jan/2022:12:18:14 +0000] \"POST /invocations HTTP/1.1\" 200 1334106 \"-\" \"Go-http-client/1.1\"\u001b[0m\n",
      "\u001b[32m2022-01-12T12:18:12.938:[sagemaker logs]: MaxConcurrentTransforms=16, MaxPayloadInMB=6, BatchStrategy=MULTI_RECORD\u001b[0m\n",
      "\u001b[34m169.254.255.130 - - [12/Jan/2022:12:18:14 +0000] \"POST /invocations HTTP/1.1\" 200 1347084 \"-\" \"Go-http-client/1.1\"\u001b[0m\n",
      "\u001b[34m[12:18:14] WARNING: ../src/objective/regression_obj.cu:174: reg:linear is now deprecated in favor of reg:squarederror.\u001b[0m\n",
      "\u001b[34m[12:18:15] WARNING: ../src/objective/regression_obj.cu:174: reg:linear is now deprecated in favor of reg:squarederror.\u001b[0m\n",
      "\u001b[34m169.254.255.130 - - [12/Jan/2022:12:18:15 +0000] \"POST /invocations HTTP/1.1\" 200 1335679 \"-\" \"Go-http-client/1.1\"\u001b[0m\n",
      "\u001b[34m169.254.255.130 - - [12/Jan/2022:12:18:15 +0000] \"POST /invocations HTTP/1.1\" 200 933572 \"-\" \"Go-http-client/1.1\"\u001b[0m\n",
      "\u001b[34m[12:18:15] WARNING: ../src/objective/regression_obj.cu:174: reg:linear is now deprecated in favor of reg:squarederror.\u001b[0m\n",
      "\u001b[34m[12:18:15] WARNING: ../src/objective/regression_obj.cu:174: reg:linear is now deprecated in favor of reg:squarederror.\u001b[0m\n",
      "\u001b[34m[12:18:15] WARNING: ../src/objective/regression_obj.cu:174: reg:linear is now deprecated in favor of reg:squarederror.\u001b[0m\n",
      "\u001b[34m[12:18:15] WARNING: ../src/objective/regression_obj.cu:174: reg:linear is now deprecated in favor of reg:squarederror.\u001b[0m\n",
      "\u001b[34m[12:18:15] WARNING: ../src/objective/regression_obj.cu:174: reg:linear is now deprecated in favor of reg:squarederror.\u001b[0m\n",
      "\u001b[34m169.254.255.130 - - [12/Jan/2022:12:18:15 +0000] \"POST /invocations HTTP/1.1\" 200 1331800 \"-\" \"Go-http-client/1.1\"\u001b[0m\n",
      "\u001b[34m[12:18:15] WARNING: ../src/objective/regression_obj.cu:174: reg:linear is now deprecated in favor of reg:squarederror.\u001b[0m\n",
      "\u001b[34m169.254.255.130 - - [12/Jan/2022:12:18:15 +0000] \"POST /invocations HTTP/1.1\" 200 1349448 \"-\" \"Go-http-client/1.1\"\u001b[0m\n",
      "\u001b[34m169.254.255.130 - - [12/Jan/2022:12:18:15 +0000] \"POST /invocations HTTP/1.1\" 200 1336772 \"-\" \"Go-http-client/1.1\"\u001b[0m\n",
      "\u001b[34m169.254.255.130 - - [12/Jan/2022:12:18:15 +0000] \"POST /invocations HTTP/1.1\" 200 1343437 \"-\" \"Go-http-client/1.1\"\u001b[0m\n",
      "\u001b[34m169.254.255.130 - - [12/Jan/2022:12:18:15 +0000] \"POST /invocations HTTP/1.1\" 200 1337276 \"-\" \"Go-http-client/1.1\"\u001b[0m\n",
      "\u001b[34m169.254.255.130 - - [12/Jan/2022:12:18:15 +0000] \"POST /invocations HTTP/1.1\" 200 1331990 \"-\" \"Go-http-client/1.1\"\u001b[0m\n",
      "\u001b[35m169.254.255.130 - - [12/Jan/2022:12:18:14 +0000] \"POST /invocations HTTP/1.1\" 200 1347084 \"-\" \"Go-http-client/1.1\"\u001b[0m\n",
      "\u001b[35m[12:18:14] WARNING: ../src/objective/regression_obj.cu:174: reg:linear is now deprecated in favor of reg:squarederror.\u001b[0m\n",
      "\u001b[35m[12:18:15] WARNING: ../src/objective/regression_obj.cu:174: reg:linear is now deprecated in favor of reg:squarederror.\u001b[0m\n",
      "\u001b[35m169.254.255.130 - - [12/Jan/2022:12:18:15 +0000] \"POST /invocations HTTP/1.1\" 200 1335679 \"-\" \"Go-http-client/1.1\"\u001b[0m\n",
      "\u001b[35m169.254.255.130 - - [12/Jan/2022:12:18:15 +0000] \"POST /invocations HTTP/1.1\" 200 933572 \"-\" \"Go-http-client/1.1\"\u001b[0m\n",
      "\u001b[35m[12:18:15] WARNING: ../src/objective/regression_obj.cu:174: reg:linear is now deprecated in favor of reg:squarederror.\u001b[0m\n",
      "\u001b[35m[12:18:15] WARNING: ../src/objective/regression_obj.cu:174: reg:linear is now deprecated in favor of reg:squarederror.\u001b[0m\n",
      "\u001b[35m[12:18:15] WARNING: ../src/objective/regression_obj.cu:174: reg:linear is now deprecated in favor of reg:squarederror.\u001b[0m\n",
      "\u001b[35m[12:18:15] WARNING: ../src/objective/regression_obj.cu:174: reg:linear is now deprecated in favor of reg:squarederror.\u001b[0m\n",
      "\u001b[35m[12:18:15] WARNING: ../src/objective/regression_obj.cu:174: reg:linear is now deprecated in favor of reg:squarederror.\u001b[0m\n",
      "\u001b[35m169.254.255.130 - - [12/Jan/2022:12:18:15 +0000] \"POST /invocations HTTP/1.1\" 200 1331800 \"-\" \"Go-http-client/1.1\"\u001b[0m\n",
      "\u001b[35m[12:18:15] WARNING: ../src/objective/regression_obj.cu:174: reg:linear is now deprecated in favor of reg:squarederror.\u001b[0m\n",
      "\u001b[35m169.254.255.130 - - [12/Jan/2022:12:18:15 +0000] \"POST /invocations HTTP/1.1\" 200 1349448 \"-\" \"Go-http-client/1.1\"\u001b[0m\n",
      "\u001b[35m169.254.255.130 - - [12/Jan/2022:12:18:15 +0000] \"POST /invocations HTTP/1.1\" 200 1336772 \"-\" \"Go-http-client/1.1\"\u001b[0m\n",
      "\u001b[35m169.254.255.130 - - [12/Jan/2022:12:18:15 +0000] \"POST /invocations HTTP/1.1\" 200 1343437 \"-\" \"Go-http-client/1.1\"\u001b[0m\n",
      "\u001b[35m169.254.255.130 - - [12/Jan/2022:12:18:15 +0000] \"POST /invocations HTTP/1.1\" 200 1337276 \"-\" \"Go-http-client/1.1\"\u001b[0m\n",
      "\u001b[35m169.254.255.130 - - [12/Jan/2022:12:18:15 +0000] \"POST /invocations HTTP/1.1\" 200 1331990 \"-\" \"Go-http-client/1.1\"\u001b[0m\n"
     ]
    }
   ],
   "source": [
    "model_transformer.wait()"
   ]
  },
  {
   "cell_type": "code",
   "execution_count": 15,
   "metadata": {},
   "outputs": [
    {
     "name": "stdout",
     "output_type": "stream",
     "text": [
      "Note: AWS CLI version 2, the latest major version of the AWS CLI, is now stable and recommended for general use. For more information, see the AWS CLI version 2 installation instructions at: https://docs.aws.amazon.com/cli/latest/userguide/install-cliv2.html\n",
      "\n",
      "usage: aws [options] <command> <subcommand> [<subcommand> ...] [parameters]\n",
      "To see help text, you can run:\n",
      "\n",
      "  aws help\n",
      "  aws <command> help\n",
      "  aws <command> <subcommand> help\n",
      "aws: error: the following arguments are required: paths\n"
     ]
    }
   ],
   "source": [
    "!aws s3 cp --recursive $model_transformer.output_path $data_dir"
   ]
  },
  {
   "cell_type": "code",
   "execution_count": 2,
   "metadata": {},
   "outputs": [],
   "source": [
    "data_dir = ''\n"
   ]
  },
  {
   "cell_type": "code",
   "execution_count": 3,
   "metadata": {},
   "outputs": [],
   "source": [
    "Y_pred = pd.read_csv('s3://{}/{}'.format(bucket, 'data/X_val_values.csv.out'), header=None)\n",
    "Y_pred.columns = ['demand']"
   ]
  },
  {
   "cell_type": "code",
   "execution_count": 4,
   "metadata": {},
   "outputs": [
    {
     "data": {
      "text/html": [
       "<div>\n",
       "<style scoped>\n",
       "    .dataframe tbody tr th:only-of-type {\n",
       "        vertical-align: middle;\n",
       "    }\n",
       "\n",
       "    .dataframe tbody tr th {\n",
       "        vertical-align: top;\n",
       "    }\n",
       "\n",
       "    .dataframe thead th {\n",
       "        text-align: right;\n",
       "    }\n",
       "</style>\n",
       "<table border=\"1\" class=\"dataframe\">\n",
       "  <thead>\n",
       "    <tr style=\"text-align: right;\">\n",
       "      <th></th>\n",
       "      <th>demand</th>\n",
       "    </tr>\n",
       "  </thead>\n",
       "  <tbody>\n",
       "    <tr>\n",
       "      <th>0</th>\n",
       "      <td>0.471162</td>\n",
       "    </tr>\n",
       "    <tr>\n",
       "      <th>1</th>\n",
       "      <td>0.517790</td>\n",
       "    </tr>\n",
       "    <tr>\n",
       "      <th>2</th>\n",
       "      <td>0.536669</td>\n",
       "    </tr>\n",
       "    <tr>\n",
       "      <th>3</th>\n",
       "      <td>0.517790</td>\n",
       "    </tr>\n",
       "    <tr>\n",
       "      <th>4</th>\n",
       "      <td>0.471162</td>\n",
       "    </tr>\n",
       "    <tr>\n",
       "      <th>...</th>\n",
       "      <td>...</td>\n",
       "    </tr>\n",
       "    <tr>\n",
       "      <th>823225</th>\n",
       "      <td>1.077206</td>\n",
       "    </tr>\n",
       "    <tr>\n",
       "      <th>823226</th>\n",
       "      <td>0.504309</td>\n",
       "    </tr>\n",
       "    <tr>\n",
       "      <th>823227</th>\n",
       "      <td>1.342117</td>\n",
       "    </tr>\n",
       "    <tr>\n",
       "      <th>823228</th>\n",
       "      <td>1.404573</td>\n",
       "    </tr>\n",
       "    <tr>\n",
       "      <th>823229</th>\n",
       "      <td>3.025978</td>\n",
       "    </tr>\n",
       "  </tbody>\n",
       "</table>\n",
       "<p>823230 rows × 1 columns</p>\n",
       "</div>"
      ],
      "text/plain": [
       "          demand\n",
       "0       0.471162\n",
       "1       0.517790\n",
       "2       0.536669\n",
       "3       0.517790\n",
       "4       0.471162\n",
       "...          ...\n",
       "823225  1.077206\n",
       "823226  0.504309\n",
       "823227  1.342117\n",
       "823228  1.404573\n",
       "823229  3.025978\n",
       "\n",
       "[823230 rows x 1 columns]"
      ]
     },
     "execution_count": 4,
     "metadata": {},
     "output_type": "execute_result"
    }
   ],
   "source": [
    "Y_pred"
   ]
  },
  {
   "cell_type": "code",
   "execution_count": 5,
   "metadata": {},
   "outputs": [],
   "source": [
    "Y_test = pd.read_csv('s3://{}/{}'.format(bucket, 'data/val.csv'))['demand'].to_frame()"
   ]
  },
  {
   "cell_type": "code",
   "execution_count": 6,
   "metadata": {},
   "outputs": [
    {
     "data": {
      "text/html": [
       "<div>\n",
       "<style scoped>\n",
       "    .dataframe tbody tr th:only-of-type {\n",
       "        vertical-align: middle;\n",
       "    }\n",
       "\n",
       "    .dataframe tbody tr th {\n",
       "        vertical-align: top;\n",
       "    }\n",
       "\n",
       "    .dataframe thead th {\n",
       "        text-align: right;\n",
       "    }\n",
       "</style>\n",
       "<table border=\"1\" class=\"dataframe\">\n",
       "  <thead>\n",
       "    <tr style=\"text-align: right;\">\n",
       "      <th></th>\n",
       "      <th>demand</th>\n",
       "    </tr>\n",
       "  </thead>\n",
       "  <tbody>\n",
       "    <tr>\n",
       "      <th>0</th>\n",
       "      <td>0</td>\n",
       "    </tr>\n",
       "    <tr>\n",
       "      <th>1</th>\n",
       "      <td>0</td>\n",
       "    </tr>\n",
       "    <tr>\n",
       "      <th>2</th>\n",
       "      <td>0</td>\n",
       "    </tr>\n",
       "    <tr>\n",
       "      <th>3</th>\n",
       "      <td>2</td>\n",
       "    </tr>\n",
       "    <tr>\n",
       "      <th>4</th>\n",
       "      <td>0</td>\n",
       "    </tr>\n",
       "    <tr>\n",
       "      <th>...</th>\n",
       "      <td>...</td>\n",
       "    </tr>\n",
       "    <tr>\n",
       "      <th>823225</th>\n",
       "      <td>1</td>\n",
       "    </tr>\n",
       "    <tr>\n",
       "      <th>823226</th>\n",
       "      <td>1</td>\n",
       "    </tr>\n",
       "    <tr>\n",
       "      <th>823227</th>\n",
       "      <td>0</td>\n",
       "    </tr>\n",
       "    <tr>\n",
       "      <th>823228</th>\n",
       "      <td>1</td>\n",
       "    </tr>\n",
       "    <tr>\n",
       "      <th>823229</th>\n",
       "      <td>5</td>\n",
       "    </tr>\n",
       "  </tbody>\n",
       "</table>\n",
       "<p>823230 rows × 1 columns</p>\n",
       "</div>"
      ],
      "text/plain": [
       "        demand\n",
       "0            0\n",
       "1            0\n",
       "2            0\n",
       "3            2\n",
       "4            0\n",
       "...        ...\n",
       "823225       1\n",
       "823226       1\n",
       "823227       0\n",
       "823228       1\n",
       "823229       5\n",
       "\n",
       "[823230 rows x 1 columns]"
      ]
     },
     "execution_count": 6,
     "metadata": {},
     "output_type": "execute_result"
    }
   ],
   "source": [
    "Y_test"
   ]
  },
  {
   "cell_type": "code",
   "execution_count": 23,
   "metadata": {},
   "outputs": [
    {
     "data": {
      "text/plain": [
       "6.131172588601535"
      ]
     },
     "execution_count": 23,
     "metadata": {},
     "output_type": "execute_result"
    }
   ],
   "source": [
    "from sklearn.metrics import mean_squared_error\n",
    "from sklearn.metrics import mean_absolute_error\n",
    "\n",
    "mean_squared_error(Y_test, Y_pred, squared=True)\n"
   ]
  },
  {
   "cell_type": "code",
   "execution_count": 24,
   "metadata": {},
   "outputs": [
    {
     "data": {
      "text/plain": [
       "2.476120471342526"
      ]
     },
     "execution_count": 24,
     "metadata": {},
     "output_type": "execute_result"
    }
   ],
   "source": [
    "mean_squared_error(Y_test, Y_pred, squared=False)"
   ]
  },
  {
   "cell_type": "code",
   "execution_count": 26,
   "metadata": {},
   "outputs": [
    {
     "data": {
      "text/plain": [
       "1.2007927503676232"
      ]
     },
     "execution_count": 26,
     "metadata": {},
     "output_type": "execute_result"
    }
   ],
   "source": [
    "mean_absolute_error(Y_test, Y_pred)"
   ]
  }
 ],
 "metadata": {
  "accelerator": "GPU",
  "colab": {
   "collapsed_sections": [],
   "machine_shape": "hm",
   "name": "lgbm.ipynb",
   "provenance": [
    {
     "file_id": "1GqZu6zmCy2vMNMZqO78DDuHvwv_9vJcp",
     "timestamp": 1594563549946
    },
    {
     "file_id": "1IzPbxNFQmmSYk9s14L4YjBfUgACn9mW2",
     "timestamp": 1593978024316
    },
    {
     "file_id": "1G7NKeneJNyRtcRxLVbbF9jYtRyuTOa-R",
     "timestamp": 1592749700622
    },
    {
     "file_id": "https://github.com/satyajitghana/TSAI-DeepVision-EVA4.0/blob/master/Utils/Colab_25GBRAM_GPU.ipynb",
     "timestamp": 1592043804148
    }
   ]
  },
  "kernelspec": {
   "display_name": "conda_mxnet_p36",
   "language": "python",
   "name": "conda_mxnet_p36"
  },
  "language_info": {
   "codemirror_mode": {
    "name": "ipython",
    "version": 3
   },
   "file_extension": ".py",
   "mimetype": "text/x-python",
   "name": "python",
   "nbconvert_exporter": "python",
   "pygments_lexer": "ipython3",
   "version": "3.6.13"
  }
 },
 "nbformat": 4,
 "nbformat_minor": 4
}
